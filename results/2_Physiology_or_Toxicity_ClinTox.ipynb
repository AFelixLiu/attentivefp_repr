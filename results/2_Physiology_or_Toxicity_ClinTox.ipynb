{
 "cells": [
  {
   "cell_type": "code",
   "execution_count": 1,
   "metadata": {
    "execution": {
     "iopub.execute_input": "2024-07-09T09:59:06.987238Z",
     "iopub.status.busy": "2024-07-09T09:59:06.986997Z",
     "iopub.status.idle": "2024-07-09T09:59:08.082560Z",
     "shell.execute_reply": "2024-07-09T09:59:08.081828Z"
    }
   },
   "outputs": [
    {
     "name": "stderr",
     "output_type": "stream",
     "text": [
      "RDKit WARNING: [17:59:08] Enabling RDKit 2019.09.3 jupyter extensions\n",
      "[17:59:08] Enabling RDKit 2019.09.3 jupyter extensions\n"
     ]
    }
   ],
   "source": [
    "import os\n",
    "import torch\n",
    "import torch.nn as nn\n",
    "import torch.nn.functional as F\n",
    "import torch.optim as optim\n",
    "import torch.utils.data as Data\n",
    "torch.manual_seed(8) # for reproduce\n",
    "\n",
    "import time\n",
    "import numpy as np\n",
    "import gc\n",
    "import sys\n",
    "sys.setrecursionlimit(50000)\n",
    "import pickle\n",
    "torch.backends.cudnn.benchmark = True\n",
    "torch.set_default_tensor_type('torch.cuda.FloatTensor')\n",
    "from tensorboardX import SummaryWriter\n",
    "torch.nn.Module.dump_patches = True\n",
    "import copy\n",
    "import pandas as pd\n",
    "#then import my own modules\n",
    "from AttentiveFP import Fingerprint, Fingerprint_viz, save_smiles_dicts, get_smiles_dicts, get_smiles_array, moltosvg_highlight"
   ]
  },
  {
   "cell_type": "code",
   "execution_count": 2,
   "metadata": {
    "execution": {
     "iopub.execute_input": "2024-07-09T09:59:08.115029Z",
     "iopub.status.busy": "2024-07-09T09:59:08.114694Z",
     "iopub.status.idle": "2024-07-09T09:59:08.307557Z",
     "shell.execute_reply": "2024-07-09T09:59:08.306830Z"
    }
   },
   "outputs": [],
   "source": [
    "from sklearn.metrics import roc_auc_score\n",
    "from sklearn.metrics import matthews_corrcoef\n",
    "from sklearn.metrics import recall_score\n",
    "from sklearn.metrics import accuracy_score\n",
    "from sklearn.metrics import r2_score\n",
    "from sklearn.metrics import mean_squared_error\n",
    "from sklearn.metrics import mean_absolute_error\n",
    "from sklearn.metrics import precision_score\n",
    "from sklearn.metrics import precision_recall_curve\n",
    "from sklearn.metrics import auc\n",
    "from sklearn.metrics import f1_score\n"
   ]
  },
  {
   "cell_type": "code",
   "execution_count": 3,
   "metadata": {
    "execution": {
     "iopub.execute_input": "2024-07-09T09:59:08.310797Z",
     "iopub.status.busy": "2024-07-09T09:59:08.310550Z",
     "iopub.status.idle": "2024-07-09T09:59:08.344351Z",
     "shell.execute_reply": "2024-07-09T09:59:08.343665Z"
    }
   },
   "outputs": [],
   "source": [
    "# from rdkit.Chem import rdMolDescriptors, MolSurf\n",
    "# from rdkit.Chem.Draw import SimilarityMaps\n",
    "from rdkit import Chem\n",
    "# from rdkit.Chem import AllChem\n",
    "from rdkit.Chem import QED\n",
    "%matplotlib inline\n",
    "from numpy.polynomial.polynomial import polyfit\n",
    "import matplotlib.pyplot as plt\n",
    "import matplotlib.cm as cm\n",
    "import matplotlib\n",
    "from IPython.display import SVG, display\n",
    "import seaborn as sns; sns.set(color_codes=True)\n",
    "\n",
    "from rdkit import RDLogger\n",
    "RDLogger.DisableLog('rdApp.*')"
   ]
  },
  {
   "cell_type": "code",
   "execution_count": 4,
   "metadata": {
    "execution": {
     "iopub.execute_input": "2024-07-09T09:59:08.347078Z",
     "iopub.status.busy": "2024-07-09T09:59:08.346827Z",
     "iopub.status.idle": "2024-07-09T09:59:09.207434Z",
     "shell.execute_reply": "2024-07-09T09:59:09.206740Z"
    }
   },
   "outputs": [
    {
     "name": "stdout",
     "output_type": "stream",
     "text": [
      "number of all smiles:  1484\n",
      "not successfully processed smiles:  [NH4][Pt]([NH4])(Cl)Cl\n",
      "not successfully processed smiles:  c1ccc(cc1)n2c(=O)c(c(=O)n2c3ccccc3)CCS(=O)c4ccccc4\n"
     ]
    },
    {
     "name": "stdout",
     "output_type": "stream",
     "text": [
      "not successfully processed smiles:  Cc1cc2c(cc1C)N3C=N2[Co+]456(N7=C8[C@H](C(C7=CC9=N4C(=C(C1=N5[C@@]([C@@H]2N6C(=C8C)[C@@]([C@H]2CC(=O)N)(CCC(=O)NC[C@H](OP(=O)(O[C@@H]2[C@H](O[C@H]3[C@@H]2O)CO)[O-])C)C)([C@@]([C@@H]1CCC(=O)N)(C)CC(=O)N)C)C)[C@@]([C@@H]9CCC(=O)N)(C)CC(=O)N)(C)C)CCC(=O)N)O\n",
      "not successfully processed smiles:  Cc1cc2c(cc1C)N3C=N2[Co]456(N7=C8[C@H](C(C7=CC9=N4C(=C(C1=N5[C@@]([C@@H]2N6C(=C8C)[C@@]([C@H]2CC(=O)N)(CCC(=O)NC[C@H](OP(=O)(O[C@@H]2[C@H](O[C@H]3[C@@H]2O)CO)O)C)C)([C@@]([C@@H]1CCC(=O)N)(C)CC(=O)N)C)C)[C@@]([C@@H]9CCC(=O)N)(C)CC(=O)N)(C)C)CCC(=O)N)C#N\n",
      "not successfully processed smiles:  CCCCc1c(=O)n(n(c1=O)c2ccc(cc2)O)c3ccccc3\n",
      "not successfully processed smiles:  CCCCc1c(=O)n(n(c1=O)c2ccccc2)c3ccccc3\n",
      "number of successfully processed smiles:  1478\n"
     ]
    },
    {
     "data": {
      "image/png": "[encoded data removed]",
      "text/plain": [
       "<Figure size 500x300 with 1 Axes>"
      ]
     },
     "metadata": {},
     "output_type": "display_data"
    }
   ],
   "source": [
    "task_name = 'clintox'\n",
    "tasks = [\n",
    "    'FDA_APPROVED','CT_TOX'\n",
    "]\n",
    "raw_filename = \"../data/clintox.csv\"\n",
    "feature_filename = raw_filename.replace('.csv','.pickle')\n",
    "filename = raw_filename.replace('.csv','')\n",
    "prefix_filename = raw_filename.split('/')[-1].replace('.csv','')\n",
    "smiles_tasks_df = pd.read_csv(raw_filename)\n",
    "smilesList = smiles_tasks_df.smiles.values\n",
    "print(\"number of all smiles: \",len(smilesList))\n",
    "atom_num_dist = []\n",
    "remained_smiles = []\n",
    "canonical_smiles_list = []\n",
    "for smiles in smilesList:\n",
    "    try:        \n",
    "        mol = Chem.MolFromSmiles(smiles)\n",
    "        atom_num_dist.append(len(mol.GetAtoms()))\n",
    "        remained_smiles.append(smiles)\n",
    "        canonical_smiles_list.append(Chem.MolToSmiles(Chem.MolFromSmiles(smiles), isomericSmiles=True))\n",
    "    except:\n",
    "        print(\"not successfully processed smiles: \", smiles)\n",
    "        pass\n",
    "print(\"number of successfully processed smiles: \", len(remained_smiles))\n",
    "smiles_tasks_df = smiles_tasks_df[smiles_tasks_df[\"smiles\"].isin(remained_smiles)]\n",
    "# print(smiles_tasks_df)\n",
    "smiles_tasks_df['cano_smiles'] =canonical_smiles_list\n",
    "\n",
    "plt.figure(figsize=(5, 3))\n",
    "sns.set(font_scale=1.5)\n",
    "ax = sns.histplot(atom_num_dist, bins=28, kde=False)\n",
    "plt.tight_layout()\n",
    "# plt.savefig(\"atom_num_dist_\"+prefix_filename+\".png\",dpi=200)\n",
    "plt.show()\n",
    "plt.close()\n",
    "\n",
    "# print(len([i for i in atom_num_dist if i<51]),len([i for i in atom_num_dist if i>50]))"
   ]
  },
  {
   "cell_type": "code",
   "execution_count": 5,
   "metadata": {
    "execution": {
     "iopub.execute_input": "2024-07-09T09:59:09.210484Z",
     "iopub.status.busy": "2024-07-09T09:59:09.210221Z",
     "iopub.status.idle": "2024-07-09T09:59:09.215138Z",
     "shell.execute_reply": "2024-07-09T09:59:09.214467Z"
    }
   },
   "outputs": [],
   "source": [
    "random_seed = 888\n",
    "start_time = str(time.ctime()).replace(':','-').replace(' ','_')\n",
    "start = time.time()\n",
    "\n",
    "batch_size = 100\n",
    "epochs = 800\n",
    "p_dropout = 0.5\n",
    "fingerprint_dim = 200\n",
    "\n",
    "radius = 3\n",
    "T = 3\n",
    "weight_decay = 3 # also known as l2_regularization_lambda\n",
    "learning_rate = 3.5\n",
    "per_task_output_units_num = 2 # for classification model with 2 classes\n",
    "output_units_num = len(tasks) * per_task_output_units_num"
   ]
  },
  {
   "cell_type": "code",
   "execution_count": 6,
   "metadata": {
    "execution": {
     "iopub.execute_input": "2024-07-09T09:59:09.218680Z",
     "iopub.status.busy": "2024-07-09T09:59:09.218384Z",
     "iopub.status.idle": "2024-07-09T09:59:22.555947Z",
     "shell.execute_reply": "2024-07-09T09:59:22.555084Z"
    }
   },
   "outputs": [
    {
     "name": "stdout",
     "output_type": "stream",
     "text": [
      "[Se]\n"
     ]
    },
    {
     "name": "stdout",
     "output_type": "stream",
     "text": [
      "N#C[Fe-2](C#N)(C#N)(C#N)(C#N)N=O\n"
     ]
    },
    {
     "name": "stdout",
     "output_type": "stream",
     "text": [
      "feature dicts file saved as ../data/clintox.pickle\n"
     ]
    },
    {
     "data": {
      "text/html": [
       "<div>\n",
       "<style scoped>\n",
       "    .dataframe tbody tr th:only-of-type {\n",
       "        vertical-align: middle;\n",
       "    }\n",
       "\n",
       "    .dataframe tbody tr th {\n",
       "        vertical-align: top;\n",
       "    }\n",
       "\n",
       "    .dataframe thead th {\n",
       "        text-align: right;\n",
       "    }\n",
       "</style>\n",
       "<table border=\"1\" class=\"dataframe\">\n",
       "  <thead>\n",
       "    <tr style=\"text-align: right;\">\n",
       "      <th></th>\n",
       "      <th>smiles</th>\n",
       "      <th>FDA_APPROVED</th>\n",
       "      <th>CT_TOX</th>\n",
       "      <th>cano_smiles</th>\n",
       "    </tr>\n",
       "  </thead>\n",
       "  <tbody>\n",
       "    <tr>\n",
       "      <th>12</th>\n",
       "      <td>[Se]</td>\n",
       "      <td>0</td>\n",
       "      <td>1</td>\n",
       "      <td>[Se]</td>\n",
       "    </tr>\n",
       "    <tr>\n",
       "      <th>20</th>\n",
       "      <td>C(#N)[Fe-2](C#N)(C#N)(C#N)(C#N)N=O</td>\n",
       "      <td>1</td>\n",
       "      <td>0</td>\n",
       "      <td>N#C[Fe-2](C#N)(C#N)(C#N)(C#N)N=O</td>\n",
       "    </tr>\n",
       "  </tbody>\n",
       "</table>\n",
       "</div>"
      ],
      "text/plain": [
       "                                smiles  FDA_APPROVED  CT_TOX  \\\n",
       "12                                [Se]             0       1   \n",
       "20  C(#N)[Fe-2](C#N)(C#N)(C#N)(C#N)N=O             1       0   \n",
       "\n",
       "                         cano_smiles  \n",
       "12                              [Se]  \n",
       "20  N#C[Fe-2](C#N)(C#N)(C#N)(C#N)N=O  "
      ]
     },
     "execution_count": 6,
     "metadata": {},
     "output_type": "execute_result"
    }
   ],
   "source": [
    "smilesList = [smiles for smiles in canonical_smiles_list if len(Chem.MolFromSmiles(smiles).GetAtoms())<151]\n",
    "\n",
    "if os.path.isfile(feature_filename):\n",
    "    feature_dicts = pickle.load(open(feature_filename, \"rb\" ))\n",
    "else:\n",
    "    feature_dicts = save_smiles_dicts(smilesList,filename)\n",
    "# feature_dicts = get_smiles_dicts(smilesList)\n",
    "\n",
    "remained_df = smiles_tasks_df[smiles_tasks_df[\"cano_smiles\"].isin(feature_dicts['smiles_to_atom_mask'].keys())]\n",
    "uncovered_df = smiles_tasks_df.drop(remained_df.index)\n",
    "uncovered_df"
   ]
  },
  {
   "cell_type": "code",
   "execution_count": 7,
   "metadata": {
    "execution": {
     "iopub.execute_input": "2024-07-09T09:59:22.558940Z",
     "iopub.status.busy": "2024-07-09T09:59:22.558682Z",
     "iopub.status.idle": "2024-07-09T09:59:22.572541Z",
     "shell.execute_reply": "2024-07-09T09:59:22.571792Z"
    }
   },
   "outputs": [],
   "source": [
    "weights = []\n",
    "for i,task in enumerate(tasks):    \n",
    "    negative_df = remained_df[remained_df[task] == 0][[\"smiles\",task]]\n",
    "    positive_df = remained_df[remained_df[task] == 1][[\"smiles\",task]]\n",
    "    weights.append([(positive_df.shape[0]+negative_df.shape[0])/negative_df.shape[0],\\\n",
    "                    (positive_df.shape[0]+negative_df.shape[0])/positive_df.shape[0]])\n",
    "\n",
    "test_df = remained_df.sample(frac=1/10, random_state=3) # test set\n",
    "training_data = remained_df.drop(test_df.index) # training data\n",
    "\n",
    "# training data is further divided into validation set and train set\n",
    "valid_df = training_data.sample(frac=1/9, random_state=3) # validation set\n",
    "train_df = training_data.drop(valid_df.index) # train set\n",
    "train_df = train_df.reset_index(drop=True)\n",
    "valid_df = valid_df.reset_index(drop=True)\n",
    "test_df = test_df.reset_index(drop=True)\n"
   ]
  },
  {
   "cell_type": "code",
   "execution_count": 8,
   "metadata": {
    "execution": {
     "iopub.execute_input": "2024-07-09T09:59:22.575490Z",
     "iopub.status.busy": "2024-07-09T09:59:22.575252Z",
     "iopub.status.idle": "2024-07-09T09:59:24.303745Z",
     "shell.execute_reply": "2024-07-09T09:59:24.302898Z"
    },
    "scrolled": true
   },
   "outputs": [
    {
     "name": "stdout",
     "output_type": "stream",
     "text": [
      "1146008\n",
      "atom_fc.weight torch.Size([200, 39])\n",
      "atom_fc.bias torch.Size([200])\n",
      "neighbor_fc.weight torch.Size([200, 49])\n",
      "neighbor_fc.bias torch.Size([200])\n",
      "GRUCell.0.weight_ih torch.Size([600, 200])\n",
      "GRUCell.0.weight_hh torch.Size([600, 200])\n",
      "GRUCell.0.bias_ih torch.Size([600])\n",
      "GRUCell.0.bias_hh torch.Size([600])\n",
      "GRUCell.1.weight_ih torch.Size([600, 200])\n",
      "GRUCell.1.weight_hh torch.Size([600, 200])\n",
      "GRUCell.1.bias_ih torch.Size([600])\n",
      "GRUCell.1.bias_hh torch.Size([600])\n",
      "GRUCell.2.weight_ih torch.Size([600, 200])\n",
      "GRUCell.2.weight_hh torch.Size([600, 200])\n",
      "GRUCell.2.bias_ih torch.Size([600])\n",
      "GRUCell.2.bias_hh torch.Size([600])\n",
      "align.0.weight torch.Size([1, 400])\n",
      "align.0.bias torch.Size([1])\n",
      "align.1.weight torch.Size([1, 400])\n",
      "align.1.bias torch.Size([1])\n",
      "align.2.weight torch.Size([1, 400])\n",
      "align.2.bias torch.Size([1])\n",
      "attend.0.weight torch.Size([200, 200])\n",
      "attend.0.bias torch.Size([200])\n",
      "attend.1.weight torch.Size([200, 200])\n",
      "attend.1.bias torch.Size([200])\n",
      "attend.2.weight torch.Size([200, 200])\n",
      "attend.2.bias torch.Size([200])\n",
      "mol_GRUCell.weight_ih torch.Size([600, 200])\n",
      "mol_GRUCell.weight_hh torch.Size([600, 200])\n",
      "mol_GRUCell.bias_ih torch.Size([600])\n",
      "mol_GRUCell.bias_hh torch.Size([600])\n",
      "mol_align.weight torch.Size([1, 400])\n",
      "mol_align.bias torch.Size([1])\n",
      "mol_attend.weight torch.Size([200, 200])\n",
      "mol_attend.bias torch.Size([200])\n",
      "output.weight torch.Size([4, 200])\n",
      "output.bias torch.Size([4])\n"
     ]
    }
   ],
   "source": [
    "x_atom, x_bonds, x_atom_index, x_bond_index, x_mask, smiles_to_rdkit_list = get_smiles_array([canonical_smiles_list[0]],feature_dicts)\n",
    "num_atom_features = x_atom.shape[-1]\n",
    "num_bond_features = x_bonds.shape[-1]\n",
    "\n",
    "loss_function = [nn.CrossEntropyLoss(torch.Tensor(weight),reduction='mean') for weight in weights]\n",
    "model = Fingerprint(radius, T, num_atom_features, num_bond_features, fingerprint_dim, output_units_num, p_dropout)\n",
    "model.cuda()\n",
    "# tensorboard = SummaryWriter(log_dir=\"runs/\"+start_time+\"_\"+prefix_filename+\"_\"+str(fingerprint_dim)+\"_\"+str(p_dropout))\n",
    "\n",
    "# optimizer = optim.Adam(model.parameters(), learning_rate, weight_decay=weight_decay)\n",
    "optimizer = optim.Adam(model.parameters(), 10**-learning_rate, weight_decay=10**-weight_decay)\n",
    "model_parameters = filter(lambda p: p.requires_grad, model.parameters())\n",
    "params = sum([np.prod(p.size()) for p in model_parameters])\n",
    "print(params)\n",
    "for name, param in model.named_parameters():\n",
    "    if param.requires_grad:\n",
    "        print(name, param.data.shape)\n",
    "        "
   ]
  },
  {
   "cell_type": "code",
   "execution_count": 9,
   "metadata": {
    "execution": {
     "iopub.execute_input": "2024-07-09T09:59:24.306791Z",
     "iopub.status.busy": "2024-07-09T09:59:24.306525Z",
     "iopub.status.idle": "2024-07-09T09:59:24.322586Z",
     "shell.execute_reply": "2024-07-09T09:59:24.321931Z"
    }
   },
   "outputs": [],
   "source": [
    "def train(model, dataset, optimizer, loss_function):\n",
    "    model.train()\n",
    "    np.random.seed(epoch)\n",
    "    valList = np.arange(0,dataset.shape[0])\n",
    "    #shuffle them\n",
    "    np.random.shuffle(valList)\n",
    "    batch_list = []\n",
    "    for i in range(0, dataset.shape[0], batch_size):\n",
    "        batch = valList[i:i+batch_size]\n",
    "        batch_list.append(batch)   \n",
    "    for counter, train_batch in enumerate(batch_list):\n",
    "        batch_df = dataset.loc[train_batch,:]\n",
    "        smiles_list = batch_df.cano_smiles.values\n",
    "        \n",
    "        x_atom, x_bonds, x_atom_index, x_bond_index, x_mask, smiles_to_rdkit_list = get_smiles_array(smiles_list,feature_dicts)\n",
    "        atoms_prediction, mol_prediction = model(torch.Tensor(x_atom),torch.Tensor(x_bonds),torch.cuda.LongTensor(x_atom_index),torch.cuda.LongTensor(x_bond_index),torch.Tensor(x_mask))\n",
    "#         print(torch.Tensor(x_atom).size(),torch.Tensor(x_bonds).size(),torch.cuda.LongTensor(x_atom_index).size(),torch.cuda.LongTensor(x_bond_index).size(),torch.Tensor(x_mask).size())\n",
    "        \n",
    "        optimizer.zero_grad()\n",
    "        loss = 0.0\n",
    "        for i,task in enumerate(tasks):\n",
    "            y_pred = mol_prediction[:, i * per_task_output_units_num:(i + 1) *\n",
    "                                    per_task_output_units_num]\n",
    "            y_val = batch_df[task].values\n",
    "\n",
    "            validInds = np.where((y_val==0) | (y_val==1))[0]\n",
    "#             validInds = np.where(y_val != -1)[0]\n",
    "            if len(validInds) == 0:\n",
    "                continue\n",
    "            y_val_adjust = np.array([y_val[v] for v in validInds]).astype(float)\n",
    "            validInds = torch.cuda.LongTensor(validInds).squeeze()\n",
    "            y_pred_adjust = torch.index_select(y_pred, 0, validInds)\n",
    "\n",
    "            loss += loss_function[i](\n",
    "                y_pred_adjust,\n",
    "                torch.cuda.LongTensor(y_val_adjust))\n",
    "        # Step 5. Do the backward pass and update the gradient\n",
    "        loss.backward()\n",
    "        optimizer.step()\n",
    "def eval(model, dataset):\n",
    "    model.eval()\n",
    "    y_val_list = {}\n",
    "    y_pred_list = {}\n",
    "    losses_list = []\n",
    "    valList = np.arange(0,dataset.shape[0])\n",
    "    batch_list = []\n",
    "    for i in range(0, dataset.shape[0], batch_size):\n",
    "        batch = valList[i:i+batch_size]\n",
    "        batch_list.append(batch)   \n",
    "    for counter, eval_batch in enumerate(batch_list):\n",
    "        batch_df = dataset.loc[eval_batch,:]\n",
    "        smiles_list = batch_df.cano_smiles.values\n",
    "        \n",
    "        x_atom, x_bonds, x_atom_index, x_bond_index, x_mask, smiles_to_rdkit_list = get_smiles_array(smiles_list,feature_dicts)\n",
    "        atoms_prediction, mol_prediction = model(torch.Tensor(x_atom),torch.Tensor(x_bonds),torch.cuda.LongTensor(x_atom_index),torch.cuda.LongTensor(x_bond_index),torch.Tensor(x_mask))\n",
    "        atom_pred = atoms_prediction.data[:,:,1].unsqueeze(2).cpu().numpy()\n",
    "        for i,task in enumerate(tasks):\n",
    "            y_pred = mol_prediction[:, i * per_task_output_units_num:(i + 1) *\n",
    "                                    per_task_output_units_num]\n",
    "            y_val = batch_df[task].values\n",
    "\n",
    "            validInds = np.where((y_val==0) | (y_val==1))[0]\n",
    "#             validInds = np.where((y_val=='0') | (y_val=='1'))[0]\n",
    "#             print(validInds)\n",
    "            if len(validInds) == 0:\n",
    "                continue\n",
    "            y_val_adjust = np.array([y_val[v] for v in validInds]).astype(float)\n",
    "            validInds = torch.cuda.LongTensor(validInds).squeeze()\n",
    "            y_pred_adjust = torch.index_select(y_pred, 0, validInds)\n",
    "#             print(validInds)\n",
    "            loss = loss_function[i](\n",
    "                y_pred_adjust,\n",
    "                torch.cuda.LongTensor(y_val_adjust))\n",
    "#             print(y_pred_adjust)\n",
    "            y_pred_adjust = F.softmax(y_pred_adjust,dim=-1).data.cpu().numpy()[:,1]\n",
    "            losses_list.append(loss.cpu().detach().numpy())\n",
    "            try:\n",
    "                y_val_list[i].extend(y_val_adjust)\n",
    "                y_pred_list[i].extend(y_pred_adjust)\n",
    "            except:\n",
    "                y_val_list[i] = []\n",
    "                y_pred_list[i] = []\n",
    "                y_val_list[i].extend(y_val_adjust)\n",
    "                y_pred_list[i].extend(y_pred_adjust)\n",
    "                \n",
    "    eval_roc = [roc_auc_score(y_val_list[i], y_pred_list[i]) for i in range(len(tasks))]\n",
    "#     eval_prc = [auc(precision_recall_curve(y_val_list[i], y_pred_list[i])[1],precision_recall_curve(y_val_list[i], y_pred_list[i])[0]) for i in range(len(tasks))]\n",
    "#     eval_precision = [precision_score(y_val_list[i],\n",
    "#                                      (np.array(y_pred_list[i]) > 0.5).astype(int)) for i in range(len(tasks))]\n",
    "#     eval_recall = [recall_score(y_val_list[i],\n",
    "#                                (np.array(y_pred_list[i]) > 0.5).astype(int)) for i in range(len(tasks))]\n",
    "    eval_loss = np.array(losses_list).mean()\n",
    "    \n",
    "    return eval_roc, eval_loss #eval_prc, eval_precision, eval_recall, \n"
   ]
  },
  {
   "cell_type": "code",
   "execution_count": 10,
   "metadata": {
    "execution": {
     "iopub.execute_input": "2024-07-09T09:59:24.325789Z",
     "iopub.status.busy": "2024-07-09T09:59:24.325539Z",
     "iopub.status.idle": "2024-07-09T10:02:05.116150Z",
     "shell.execute_reply": "2024-07-09T10:02:05.115173Z"
    }
   },
   "outputs": [
    {
     "name": "stdout",
     "output_type": "stream",
     "text": [
      "EPOCH:\t0\n",
      "train_roc:[0.34156443966570554, 0.3918756371049949]\n",
      "valid_roc:[0.3562973484848485, 0.37292321508756177]\n",
      "train_roc_mean:0.3667200383853502\n",
      "valid_roc_mean:0.36461028178620514\n",
      "\n"
     ]
    },
    {
     "name": "stdout",
     "output_type": "stream",
     "text": [
      "EPOCH:\t1\n",
      "train_roc:[0.6769952592737403, 0.6471151885830785]\n",
      "valid_roc:[0.6607481060606061, 0.640547822182308]\n",
      "train_roc_mean:0.6620552239284094\n",
      "valid_roc_mean:0.6506479641214571\n",
      "\n"
     ]
    },
    {
     "name": "stdout",
     "output_type": "stream",
     "text": [
      "EPOCH:\t2\n",
      "train_roc:[0.5873552123552124, 0.6734862385321101]\n",
      "valid_roc:[0.5286458333333333, 0.6989223170184103]\n",
      "train_roc_mean:0.6304207254436612\n",
      "valid_roc_mean:0.6137840751758719\n",
      "\n"
     ]
    },
    {
     "name": "stdout",
     "output_type": "stream",
     "text": [
      "EPOCH:\t3\n",
      "train_roc:[0.7219955036410732, 0.6767584097859328]\n",
      "valid_roc:[0.6834753787878789, 0.7110462505612932]\n",
      "train_roc_mean:0.6993769567135031\n",
      "valid_roc_mean:0.697260814674586\n",
      "\n"
     ]
    },
    {
     "name": "stdout",
     "output_type": "stream",
     "text": [
      "EPOCH:\t4\n",
      "train_roc:[0.7102903083915741, 0.6814576962283384]\n",
      "valid_roc:[0.6725852272727273, 0.6962281095644365]\n",
      "train_roc_mean:0.6958740023099563\n",
      "valid_roc_mean:0.6844066684185819\n",
      "\n"
     ]
    },
    {
     "name": "stdout",
     "output_type": "stream",
     "text": [
      "EPOCH:\t5\n",
      "train_roc:[0.6973388397439031, 0.6549745158002038]\n",
      "valid_roc:[0.6706912878787878, 0.6930848675348001]\n",
      "train_roc_mean:0.6761566777720535\n",
      "valid_roc_mean:0.6818880777067939\n",
      "\n"
     ]
    },
    {
     "name": "stdout",
     "output_type": "stream",
     "text": [
      "EPOCH:\t6\n",
      "train_roc:[0.7252822442695861, 0.6799286442405709]\n",
      "valid_roc:[0.6678503787878788, 0.6971261787157611]\n",
      "train_roc_mean:0.7026054442550784\n",
      "valid_roc_mean:0.6824882787518199\n",
      "\n"
     ]
    },
    {
     "name": "stdout",
     "output_type": "stream",
     "text": [
      "EPOCH:\t7\n",
      "train_roc:[0.7235105811055179, 0.6721406727828746]\n",
      "valid_roc:[0.6749526515151515, 0.6867983834755277]\n",
      "train_roc_mean:0.6978256269441963\n",
      "valid_roc_mean:0.6808755174953396\n",
      "\n"
     ]
    },
    {
     "name": "stdout",
     "output_type": "stream",
     "text": [
      "EPOCH:\t8\n",
      "train_roc:[0.7243169933043351, 0.6813557594291539]\n",
      "valid_roc:[0.6758996212121212, 0.7061068702290076]\n",
      "train_roc_mean:0.7028363763667445\n",
      "valid_roc_mean:0.6910032457205644\n",
      "\n"
     ]
    },
    {
     "name": "stdout",
     "output_type": "stream",
     "text": [
      "EPOCH:\t9\n",
      "train_roc:[0.7399809393480279, 0.6913659531090723]\n",
      "valid_roc:[0.689157196969697, 0.7038616973506959]\n",
      "train_roc_mean:0.7156734462285501\n",
      "valid_roc_mean:0.6965094471601965\n",
      "\n"
     ]
    },
    {
     "name": "stdout",
     "output_type": "stream",
     "text": [
      "EPOCH:\t10\n",
      "train_roc:[0.7504887346659498, 0.703190621814475]\n",
      "valid_roc:[0.6962594696969697, 0.7155365963179166]\n",
      "train_roc_mean:0.7268396782402125\n",
      "valid_roc_mean:0.7058980330074431\n",
      "\n"
     ]
    },
    {
     "name": "stdout",
     "output_type": "stream",
     "text": [
      "EPOCH:\t11\n",
      "train_roc:[0.7512951468647671, 0.7059123343527014]\n",
      "valid_roc:[0.6972064393939393, 0.7182308037718904]\n",
      "train_roc_mean:0.7286037406087342\n",
      "valid_roc_mean:0.7077186215829149\n",
      "\n"
     ]
    },
    {
     "name": "stdout",
     "output_type": "stream",
     "text": [
      "EPOCH:\t12\n",
      "train_roc:[0.7575998240555202, 0.7110907237512741]\n",
      "valid_roc:[0.6953125, 0.7177817691962282]\n",
      "train_roc_mean:0.7343452739033971\n",
      "valid_roc_mean:0.706547134598114\n",
      "\n"
     ]
    },
    {
     "name": "stdout",
     "output_type": "stream",
     "text": [
      "EPOCH:\t13\n",
      "train_roc:[0.7649674991447143, 0.7187869520897043]\n",
      "valid_roc:[0.7090435606060607, 0.7317018410417603]\n",
      "train_roc_mean:0.7418772256172093\n",
      "valid_roc_mean:0.7203727008239105\n",
      "\n"
     ]
    },
    {
     "name": "stdout",
     "output_type": "stream",
     "text": [
      "EPOCH:\t14\n",
      "train_roc:[0.772689506866722, 0.729184505606524]\n",
      "valid_roc:[0.7095170454545454, 0.7343960484957341]\n",
      "train_roc_mean:0.750937006236623\n",
      "valid_roc_mean:0.7219565469751398\n",
      "\n"
     ]
    },
    {
     "name": "stdout",
     "output_type": "stream",
     "text": [
      "EPOCH:\t15\n",
      "train_roc:[0.7954645422999853, 0.7548318042813454]\n",
      "valid_roc:[0.7114109848484849, 0.7281095644364616]\n",
      "train_roc_mean:0.7751481732906653\n",
      "valid_roc_mean:0.7197602746424732\n",
      "\n"
     ]
    },
    {
     "name": "stdout",
     "output_type": "stream",
     "text": [
      "EPOCH:\t16\n",
      "train_roc:[0.7879746835443038, 0.7515494393476045]\n",
      "valid_roc:[0.7459753787878788, 0.7487651549169285]\n",
      "train_roc_mean:0.7697620614459542\n",
      "valid_roc_mean:0.7473702668524036\n",
      "\n"
     ]
    },
    {
     "name": "stdout",
     "output_type": "stream",
     "text": [
      "EPOCH:\t17\n",
      "train_roc:[0.8110307414104883, 0.7781549439347605]\n",
      "valid_roc:[0.7606534090909092, 0.7739110911540188]\n",
      "train_roc_mean:0.7945928426726243\n",
      "valid_roc_mean:0.767282250122464\n",
      "\n"
     ]
    },
    {
     "name": "stdout",
     "output_type": "stream",
     "text": [
      "EPOCH:\t18\n",
      "train_roc:[0.8308855872147011, 0.8051987767584098]\n",
      "valid_roc:[0.7284564393939394, 0.747867085765604]\n",
      "train_roc_mean:0.8180421819865554\n",
      "valid_roc_mean:0.7381617625797717\n",
      "\n"
     ]
    },
    {
     "name": "stdout",
     "output_type": "stream",
     "text": [
      "EPOCH:\t19\n",
      "train_roc:[0.8211964224622452, 0.8012538226299695]\n",
      "valid_roc:[0.7024147727272727, 0.7213740458015268]\n",
      "train_roc_mean:0.8112251225461073\n",
      "valid_roc_mean:0.7118944092643997\n",
      "\n"
     ]
    },
    {
     "name": "stdout",
     "output_type": "stream",
     "text": [
      "EPOCH:\t20\n",
      "train_roc:[0.8407213723669419, 0.8179306829765546]\n",
      "valid_roc:[0.785748106060606, 0.7923215087561742]\n",
      "train_roc_mean:0.8293260276717482\n",
      "valid_roc_mean:0.7890348074083902\n",
      "\n"
     ]
    },
    {
     "name": "stdout",
     "output_type": "stream",
     "text": [
      "EPOCH:\t21\n",
      "train_roc:[0.858120326474757, 0.8351681957186544]\n",
      "valid_roc:[0.7691761363636364, 0.7882801975752133]\n",
      "train_roc_mean:0.8466442610967058\n",
      "valid_roc_mean:0.7787281669694248\n",
      "\n"
     ]
    },
    {
     "name": "stdout",
     "output_type": "stream",
     "text": [
      "EPOCH:\t22\n",
      "train_roc:[0.8657690239968723, 0.8413965341488278]\n",
      "valid_roc:[0.7843276515151515, 0.7986079928154467]\n",
      "train_roc_mean:0.8535827790728501\n",
      "valid_roc_mean:0.7914678221652991\n",
      "\n"
     ]
    },
    {
     "name": "stdout",
     "output_type": "stream",
     "text": [
      "EPOCH:\t23\n",
      "train_roc:[0.869972142124041, 0.8468195718654433]\n",
      "valid_roc:[0.801373106060606, 0.8143242029636282]\n",
      "train_roc_mean:0.8583958569947421\n",
      "valid_roc_mean:0.8078486545121171\n",
      "\n"
     ]
    },
    {
     "name": "stdout",
     "output_type": "stream",
     "text": [
      "EPOCH:\t24\n",
      "train_roc:[0.8806754313083428, 0.8593985728848115]\n",
      "valid_roc:[0.795691287878788, 0.826448136506511]\n",
      "train_roc_mean:0.8700370020965771\n",
      "valid_roc_mean:0.8110697121926496\n",
      "\n"
     ]
    },
    {
     "name": "stdout",
     "output_type": "stream",
     "text": [
      "EPOCH:\t25\n",
      "train_roc:[0.8822882557059772, 0.8575637104994903]\n",
      "valid_roc:[0.8056344696969696, 0.8304894476874719]\n",
      "train_roc_mean:0.8699259831027337\n",
      "valid_roc_mean:0.8180619586922208\n",
      "\n"
     ]
    },
    {
     "name": "stdout",
     "output_type": "stream",
     "text": [
      "EPOCH:\t26\n",
      "train_roc:[0.8813596598406725, 0.8577879714576961]\n",
      "valid_roc:[0.8231534090909092, 0.8412662775033677]\n",
      "train_roc_mean:0.8695738156491843\n",
      "valid_roc_mean:0.8322098432971384\n",
      "\n"
     ]
    },
    {
     "name": "stdout",
     "output_type": "stream",
     "text": [
      "EPOCH:\t27\n",
      "train_roc:[0.8874810615316946, 0.8649745158002039]\n",
      "valid_roc:[0.826467803030303, 0.844409519533004]\n",
      "train_roc_mean:0.8762277886659493\n",
      "valid_roc_mean:0.8354386612816536\n",
      "\n"
     ]
    },
    {
     "name": "stdout",
     "output_type": "stream",
     "text": [
      "EPOCH:\t28\n",
      "train_roc:[0.8909877327598847, 0.8679408766564729]\n",
      "valid_roc:[0.8383049242424243, 0.8529411764705882]\n",
      "train_roc_mean:0.8794643047081788\n",
      "valid_roc_mean:0.8456230503565063\n",
      "\n"
     ]
    },
    {
     "name": "stdout",
     "output_type": "stream",
     "text": [
      "EPOCH:\t29\n",
      "train_roc:[0.8982087874492938, 0.8770438328236493]\n",
      "valid_roc:[0.8349905303030303, 0.8547373147732376]\n",
      "train_roc_mean:0.8876263101364715\n",
      "valid_roc_mean:0.8448639225381339\n",
      "\n"
     ]
    },
    {
     "name": "stdout",
     "output_type": "stream",
     "text": [
      "EPOCH:\t30\n",
      "train_roc:[0.9020697913102976, 0.878032619775739]\n",
      "valid_roc:[0.8397253787878788, 0.8556353839245622]\n",
      "train_roc_mean:0.8900512055430183\n",
      "valid_roc_mean:0.8476803813562205\n",
      "\n"
     ]
    },
    {
     "name": "stdout",
     "output_type": "stream",
     "text": [
      "EPOCH:\t31\n",
      "train_roc:[0.9057841747715165, 0.8881345565749236]\n",
      "valid_roc:[0.8169981060606062, 0.8453075886843288]\n",
      "train_roc_mean:0.89695936567322\n",
      "valid_roc_mean:0.8311528473724674\n",
      "\n"
     ]
    },
    {
     "name": "stdout",
     "output_type": "stream",
     "text": [
      "EPOCH:\t32\n",
      "train_roc:[0.9054542788720004, 0.8836289500509683]\n",
      "valid_roc:[0.8425662878787878, 0.8704535249214189]\n",
      "train_roc_mean:0.8945416144614844\n",
      "valid_roc_mean:0.8565099064001034\n",
      "\n"
     ]
    },
    {
     "name": "stdout",
     "output_type": "stream",
     "text": [
      "EPOCH:\t33\n",
      "train_roc:[0.9113313132300475, 0.8921406727828747]\n",
      "valid_roc:[0.8378314393939394, 0.8605747642568478]\n",
      "train_roc_mean:0.901735993006461\n",
      "valid_roc_mean:0.8492031018253936\n",
      "\n"
     ]
    },
    {
     "name": "stdout",
     "output_type": "stream",
     "text": [
      "EPOCH:\t34\n",
      "train_roc:[0.916267533356141, 0.8979306829765544]\n",
      "valid_roc:[0.8378314393939393, 0.8619218679838349]\n",
      "train_roc_mean:0.9070991081663478\n",
      "valid_roc_mean:0.8498766536888871\n",
      "\n"
     ]
    },
    {
     "name": "stdout",
     "output_type": "stream",
     "text": [
      "EPOCH:\t35\n",
      "train_roc:[0.9203240310835248, 0.901763506625892]\n",
      "valid_roc:[0.8525094696969697, 0.8803322855859901]\n",
      "train_roc_mean:0.9110437688547084\n",
      "valid_roc_mean:0.8664208776414799\n",
      "\n"
     ]
    },
    {
     "name": "stdout",
     "output_type": "stream",
     "text": [
      "EPOCH:\t36\n",
      "train_roc:[0.921032696349152, 0.9061467889908256]\n",
      "valid_roc:[0.8345170454545454, 0.8596766951055232]\n",
      "train_roc_mean:0.9135897426699888\n",
      "valid_roc_mean:0.8470968702800343\n",
      "\n"
     ]
    },
    {
     "name": "stdout",
     "output_type": "stream",
     "text": [
      "EPOCH:\t37\n",
      "train_roc:[0.9200430086506035, 0.9009174311926605]\n",
      "valid_roc:[0.8676609848484849, 0.8825774584643017]\n",
      "train_roc_mean:0.910480219921632\n",
      "valid_roc_mean:0.8751192216563932\n",
      "\n"
     ]
    },
    {
     "name": "stdout",
     "output_type": "stream",
     "text": [
      "EPOCH:\t38\n",
      "train_roc:[0.9211060065490445, 0.902691131498471]\n",
      "valid_roc:[0.8643465909090908, 0.881679389312977]\n",
      "train_roc_mean:0.9118985690237578\n",
      "valid_roc_mean:0.873012990111034\n",
      "\n"
     ]
    },
    {
     "name": "stdout",
     "output_type": "stream",
     "text": [
      "EPOCH:\t39\n",
      "train_roc:[0.9303430917354968, 0.9149235474006115]\n",
      "valid_roc:[0.8548768939393938, 0.8749438706780422]\n",
      "train_roc_mean:0.9226333195680542\n",
      "valid_roc_mean:0.8649103823087181\n",
      "\n"
     ]
    },
    {
     "name": "stdout",
     "output_type": "stream",
     "text": [
      "EPOCH:\t40\n",
      "train_roc:[0.9315160549337764, 0.9173088685015289]\n",
      "valid_roc:[0.8617424242424242, 0.8866187696452628]\n",
      "train_roc_mean:0.9244124617176527\n",
      "valid_roc_mean:0.8741805969438434\n",
      "\n"
     ]
    },
    {
     "name": "stdout",
     "output_type": "stream",
     "text": [
      "EPOCH:\t41\n",
      "train_roc:[0.9382483749572358, 0.9250662589194699]\n",
      "valid_roc:[0.8633996212121211, 0.8879658733722497]\n",
      "train_roc_mean:0.9316573169383529\n",
      "valid_roc_mean:0.8756827472921854\n",
      "\n"
     ]
    },
    {
     "name": "stdout",
     "output_type": "stream",
     "text": [
      "EPOCH:\t42\n",
      "train_roc:[0.931919261033185, 0.9190621814475026]\n",
      "valid_roc:[0.8686079545454546, 0.8996407723394702]\n",
      "train_roc_mean:0.9254907212403438\n",
      "valid_roc_mean:0.8841243634424624\n",
      "\n"
     ]
    },
    {
     "name": "stdout",
     "output_type": "stream",
     "text": [
      "EPOCH:\t43\n",
      "train_roc:[0.9372831239919848, 0.924954128440367]\n",
      "valid_roc:[0.8790246212121211, 0.9158060170633139]\n",
      "train_roc_mean:0.9311186262161759\n",
      "valid_roc_mean:0.8974153191377174\n",
      "\n"
     ]
    },
    {
     "name": "stdout",
     "output_type": "stream",
     "text": [
      "EPOCH:\t44\n",
      "train_roc:[0.9317726406334, 0.9161569826707441]\n",
      "valid_roc:[0.8757102272727273, 0.8866187696452628]\n",
      "train_roc_mean:0.923964811652072\n",
      "valid_roc_mean:0.881164498458995\n",
      "\n"
     ]
    },
    {
     "name": "stdout",
     "output_type": "stream",
     "text": [
      "EPOCH:\t45\n",
      "train_roc:[0.9356947363276478, 0.9208664627930683]\n",
      "valid_roc:[0.8837594696969697, 0.8955994611585092]\n",
      "train_roc_mean:0.928280599560358\n",
      "valid_roc_mean:0.8896794654277395\n",
      "\n"
     ]
    },
    {
     "name": "stdout",
     "output_type": "stream",
     "text": [
      "EPOCH:\t46\n",
      "train_roc:[0.9384683055569131, 0.9263404689092762]\n",
      "valid_roc:[0.8690814393939394, 0.8964975303098338]\n",
      "train_roc_mean:0.9324043872330947\n",
      "valid_roc_mean:0.8827894848518867\n",
      "\n"
     ]
    },
    {
     "name": "stdout",
     "output_type": "stream",
     "text": [
      "EPOCH:\t47\n",
      "train_roc:[0.9421215971848884, 0.9335474006116207]\n",
      "valid_roc:[0.8714488636363635, 0.8960484957341716]\n",
      "train_roc_mean:0.9378344988982545\n",
      "valid_roc_mean:0.8837486796852676\n",
      "\n"
     ]
    },
    {
     "name": "stdout",
     "output_type": "stream",
     "text": [
      "EPOCH:\t48\n",
      "train_roc:[0.945982601045892, 0.9360346585117229]\n",
      "valid_roc:[0.8818655303030303, 0.9027840143691064]\n",
      "train_roc_mean:0.9410086297788074\n",
      "valid_roc_mean:0.8923247723360683\n",
      "\n"
     ]
    },
    {
     "name": "stdout",
     "output_type": "stream",
     "text": [
      "EPOCH:\t49\n",
      "train_roc:[0.9494770539074336, 0.941539245667686]\n",
      "valid_roc:[0.8757102272727273, 0.8973955994611585]\n",
      "train_roc_mean:0.9455081497875598\n",
      "valid_roc_mean:0.886552913366943\n",
      "\n"
     ]
    },
    {
     "name": "stdout",
     "output_type": "stream",
     "text": [
      "EPOCH:\t50\n",
      "train_roc:[0.9525072088363227, 0.9437104994903158]\n",
      "valid_roc:[0.8802083333333333, 0.8973955994611585]\n",
      "train_roc_mean:0.9481088541633192\n",
      "valid_roc_mean:0.888801966397246\n",
      "\n"
     ]
    },
    {
     "name": "stdout",
     "output_type": "stream",
     "text": [
      "EPOCH:\t51\n",
      "train_roc:[0.9540100679341185, 0.9463404689092763]\n",
      "valid_roc:[0.8809185606060606, 0.8929052537045352]\n",
      "train_roc_mean:0.9501752684216973\n",
      "valid_roc_mean:0.8869119071552979\n",
      "\n"
     ]
    },
    {
     "name": "stdout",
     "output_type": "stream",
     "text": [
      "EPOCH:\t52\n",
      "train_roc:[0.9579566003616636, 0.95]\n",
      "valid_roc:[0.8790246212121212, 0.8906600808262237]\n",
      "train_roc_mean:0.9539783001808317\n",
      "valid_roc_mean:0.8848423510191725\n",
      "\n"
     ]
    },
    {
     "name": "stdout",
     "output_type": "stream",
     "text": [
      "EPOCH:\t53\n",
      "train_roc:[0.9530814720688138, 0.9443934760448521]\n",
      "valid_roc:[0.8946496212121212, 0.9099685675797036]\n",
      "train_roc_mean:0.948737474056833\n",
      "valid_roc_mean:0.9023090943959124\n",
      "\n"
     ]
    },
    {
     "name": "stdout",
     "output_type": "stream",
     "text": [
      "EPOCH:\t54\n",
      "train_roc:[0.9605835491911442, 0.9529051987767583]\n",
      "valid_roc:[0.8918087121212122, 0.8991917377638078]\n",
      "train_roc_mean:0.9567443739839512\n",
      "valid_roc_mean:0.8955002249425099\n",
      "\n"
     ]
    },
    {
     "name": "stdout",
     "output_type": "stream",
     "text": [
      "EPOCH:\t55\n",
      "train_roc:[0.9605224573579003, 0.9527726809378185]\n",
      "valid_roc:[0.8903882575757576, 0.9000898069151325]\n",
      "train_roc_mean:0.9566475691478594\n",
      "valid_roc_mean:0.8952390322454451\n",
      "\n"
     ]
    },
    {
     "name": "stdout",
     "output_type": "stream",
     "text": [
      "EPOCH:\t56\n",
      "train_roc:[0.96140217975661, 0.9527930682976555]\n",
      "valid_roc:[0.8960700757575757, 0.9054782218230804]\n",
      "train_roc_mean:0.9570976240271327\n",
      "valid_roc_mean:0.900774148790328\n",
      "\n"
     ]
    },
    {
     "name": "stdout",
     "output_type": "stream",
     "text": [
      "EPOCH:\t57\n",
      "train_roc:[0.9639924734861444, 0.9582670744138634]\n",
      "valid_roc:[0.8861268939393939, 0.8991917377638078]\n",
      "train_roc_mean:0.9611297739500039\n",
      "valid_roc_mean:0.8926593158516009\n",
      "\n"
     ]
    },
    {
     "name": "stdout",
     "output_type": "stream",
     "text": [
      "EPOCH:\t58\n",
      "train_roc:[0.9651654366844241, 0.9588888888888889]\n",
      "valid_roc:[0.8809185606060606, 0.8893129770992365]\n",
      "train_roc_mean:0.9620271627866566\n",
      "valid_roc_mean:0.8851157688526485\n",
      "\n"
     ]
    },
    {
     "name": "stdout",
     "output_type": "stream",
     "text": [
      "EPOCH:\t59\n",
      "train_roc:[0.9649943795513415, 0.9565851172273191]\n",
      "valid_roc:[0.8934659090909091, 0.8973955994611584]\n",
      "train_roc_mean:0.9607897483893303\n",
      "valid_roc_mean:0.8954307542760338\n",
      "\n"
     ]
    },
    {
     "name": "stdout",
     "output_type": "stream",
     "text": [
      "EPOCH:\t60\n",
      "train_roc:[0.9647255754850692, 0.9560958205912333]\n",
      "valid_roc:[0.907907196969697, 0.9193982936686126]\n",
      "train_roc_mean:0.9604106980381513\n",
      "valid_roc_mean:0.9136527453191547\n",
      "\n"
     ]
    },
    {
     "name": "stdout",
     "output_type": "stream",
     "text": [
      "EPOCH:\t61\n",
      "train_roc:[0.9596182982258932, 0.953394495412844]\n",
      "valid_roc:[0.8965435606060606, 0.9095195330040413]\n",
      "train_roc_mean:0.9565063968193686\n",
      "valid_roc_mean:0.9030315468050509\n",
      "\n"
     ]
    },
    {
     "name": "stdout",
     "output_type": "stream",
     "text": [
      "EPOCH:\t62\n",
      "train_roc:[0.9653975856507501, 0.9573904179408768]\n",
      "valid_roc:[0.9098011363636364, 0.9140098787606645]\n",
      "train_roc_mean:0.9613940017958134\n",
      "valid_roc_mean:0.9119055075621505\n",
      "\n"
     ]
    },
    {
     "name": "stdout",
     "output_type": "stream",
     "text": [
      "EPOCH:\t63\n",
      "train_roc:[0.9639558183861981, 0.9568909276248725]\n",
      "valid_roc:[0.8963068181818181, 0.9126627750336775]\n",
      "train_roc_mean:0.9604233730055354\n",
      "valid_roc_mean:0.9044847966077478\n",
      "\n"
     ]
    },
    {
     "name": "stdout",
     "output_type": "stream",
     "text": [
      "EPOCH:\t64\n",
      "train_roc:[0.9680978446801233, 0.9618756371049948]\n",
      "valid_roc:[0.9074337121212122, 0.927031881454872]\n",
      "train_roc_mean:0.964986740892559\n",
      "valid_roc_mean:0.917232796788042\n",
      "\n"
     ]
    },
    {
     "name": "stdout",
     "output_type": "stream",
     "text": [
      "EPOCH:\t65\n",
      "train_roc:[0.9686232344460192, 0.9646788990825689]\n",
      "valid_roc:[0.8861268939393939, 0.9009878760664571]\n",
      "train_roc_mean:0.966651066764294\n",
      "valid_roc_mean:0.8935573850029255\n",
      "\n"
     ]
    },
    {
     "name": "stdout",
     "output_type": "stream",
     "text": [
      "EPOCH:\t66\n",
      "train_roc:[0.9625507062215924, 0.9539551478083588]\n",
      "valid_roc:[0.9095643939393939, 0.927031881454872]\n",
      "train_roc_mean:0.9582529270149756\n",
      "valid_roc_mean:0.918298137697133\n",
      "\n"
     ]
    },
    {
     "name": "stdout",
     "output_type": "stream",
     "text": [
      "EPOCH:\t67\n",
      "train_roc:[0.9712501832754998, 0.9645667686034658]\n",
      "valid_roc:[0.8984375, 0.9081724292770543]\n",
      "train_roc_mean:0.9679084759394828\n",
      "valid_roc_mean:0.9033049646385272\n",
      "\n"
     ]
    },
    {
     "name": "stdout",
     "output_type": "stream",
     "text": [
      "EPOCH:\t68\n",
      "train_roc:[0.9633937735203558, 0.9549031600407748]\n",
      "valid_roc:[0.9197443181818182, 0.9202963628199372]\n",
      "train_roc_mean:0.9591484667805653\n",
      "valid_roc_mean:0.9200203405008778\n",
      "\n"
     ]
    },
    {
     "name": "stdout",
     "output_type": "stream",
     "text": [
      "EPOCH:\t69\n",
      "train_roc:[0.9659474121499438, 0.9584913353720693]\n",
      "valid_roc:[0.9036458333333334, 0.9126627750336775]\n",
      "train_roc_mean:0.9622193737610065\n",
      "valid_roc_mean:0.9081543041835054\n",
      "\n"
     ]
    },
    {
     "name": "stdout",
     "output_type": "stream",
     "text": [
      "EPOCH:\t70\n",
      "train_roc:[0.9713968036752847, 0.9652803261977574]\n",
      "valid_roc:[0.8809185606060606, 0.885720700493938]\n",
      "train_roc_mean:0.968338564936521\n",
      "valid_roc_mean:0.8833196305499993\n",
      "\n"
     ]
    },
    {
     "name": "stdout",
     "output_type": "stream",
     "text": [
      "EPOCH:\t71\n",
      "train_roc:[0.9653609305508039, 0.9588685015290519]\n",
      "valid_roc:[0.9183238636363636, 0.9315222272114952]\n",
      "train_roc_mean:0.9621147160399279\n",
      "valid_roc_mean:0.9249230454239294\n",
      "\n"
     ]
    },
    {
     "name": "stdout",
     "output_type": "stream",
     "text": [
      "EPOCH:\t72\n",
      "train_roc:[0.9689531303455353, 0.9651274209989806]\n",
      "valid_roc:[0.9083806818181819, 0.9207453973955995]\n",
      "train_roc_mean:0.967040275672258\n",
      "valid_roc_mean:0.9145630396068907\n",
      "\n"
     ]
    },
    {
     "name": "stdout",
     "output_type": "stream",
     "text": [
      "EPOCH:\t73\n",
      "train_roc:[0.9718977567078831, 0.9671355759429154]\n",
      "valid_roc:[0.9036458333333334, 0.9171531207903009]\n",
      "train_roc_mean:0.9695166663253993\n",
      "valid_roc_mean:0.9103994770618171\n",
      "\n"
     ]
    },
    {
     "name": "stdout",
     "output_type": "stream",
     "text": [
      "EPOCH:\t74\n",
      "train_roc:[0.9728385709398368, 0.9677166156982671]\n",
      "valid_roc:[0.9105113636363636, 0.9252357431522227]\n",
      "train_roc_mean:0.970277593319052\n",
      "valid_roc_mean:0.9178735533942932\n",
      "\n"
     ]
    },
    {
     "name": "stdout",
     "output_type": "stream",
     "text": [
      "EPOCH:\t75\n",
      "train_roc:[0.9733395239724353, 0.9692558613659531]\n",
      "valid_roc:[0.9026988636363636, 0.9144589133363269]\n",
      "train_roc_mean:0.9712976926691942\n",
      "valid_roc_mean:0.9085788884863453\n",
      "\n"
     ]
    },
    {
     "name": "stdout",
     "output_type": "stream",
     "text": [
      "EPOCH:\t76\n",
      "train_roc:[0.9730585015395141, 0.9687971457696227]\n",
      "valid_roc:[0.9131155303030303, 0.9274809160305344]\n",
      "train_roc_mean:0.9709278236545684\n",
      "valid_roc_mean:0.9202982231667823\n",
      "\n"
     ]
    },
    {
     "name": "stdout",
     "output_type": "stream",
     "text": [
      "EPOCH:\t77\n",
      "train_roc:[0.9738282586383852, 0.9693577981651376]\n",
      "valid_roc:[0.8989109848484849, 0.9090704984283791]\n",
      "train_roc_mean:0.9715930284017613\n",
      "valid_roc_mean:0.903990741638432\n",
      "\n"
     ]
    },
    {
     "name": "stdout",
     "output_type": "stream",
     "text": [
      "EPOCH:\t78\n",
      "train_roc:[0.9704315527100338, 0.9641080530071355]\n",
      "valid_roc:[0.9038825757575757, 0.9027840143691065]\n",
      "train_roc_mean:0.9672698028585847\n",
      "valid_roc_mean:0.903333295063341\n",
      "\n"
     ]
    },
    {
     "name": "stdout",
     "output_type": "stream",
     "text": [
      "EPOCH:\t79\n",
      "train_roc:[0.9749401300034212, 0.9699898063200815]\n",
      "valid_roc:[0.9008049242424243, 0.9135608441850023]\n",
      "train_roc_mean:0.9724649681617513\n",
      "valid_roc_mean:0.9071828842137133\n",
      "\n"
     ]
    },
    {
     "name": "stdout",
     "output_type": "stream",
     "text": [
      "EPOCH:\t80\n",
      "train_roc:[0.9749401300034212, 0.9701936799184505]\n",
      "valid_roc:[0.9173768939393939, 0.9301751234845084]\n",
      "train_roc_mean:0.9725669049609358\n",
      "valid_roc_mean:0.9237760087119511\n",
      "\n"
     ]
    },
    {
     "name": "stdout",
     "output_type": "stream",
     "text": [
      "EPOCH:\t81\n",
      "train_roc:[0.9768950686672205, 0.9725280326197758]\n",
      "valid_roc:[0.8913352272727273, 0.9041311180960934]\n",
      "train_roc_mean:0.9747115506434982\n",
      "valid_roc_mean:0.8977331726844103\n",
      "\n"
     ]
    },
    {
     "name": "stdout",
     "output_type": "stream",
     "text": [
      "EPOCH:\t82\n",
      "train_roc:[0.9705659547431699, 0.9667074413863405]\n",
      "valid_roc:[0.8889678030303031, 0.8987427031881454]\n",
      "train_roc_mean:0.9686366980647552\n",
      "valid_roc_mean:0.8938552531092243\n",
      "\n"
     ]
    }
   ],
   "source": [
    "best_param ={}\n",
    "best_param[\"roc_epoch\"] = 0\n",
    "best_param[\"loss_epoch\"] = 0\n",
    "best_param[\"valid_roc\"] = 0\n",
    "best_param[\"valid_loss\"] = 9e8\n",
    "\n",
    "for epoch in range(epochs):    \n",
    "    train_roc, train_loss = eval(model, train_df)\n",
    "    valid_roc, valid_loss = eval(model, valid_df)\n",
    "    train_roc_mean = np.array(train_roc).mean()\n",
    "    valid_roc_mean = np.array(valid_roc).mean()\n",
    "    \n",
    "#     tensorboard.add_scalars('ROC',{'train_roc':train_roc_mean,'valid_roc':valid_roc_mean},epoch)\n",
    "#     tensorboard.add_scalars('Losses',{'train_losses':train_loss,'valid_losses':valid_loss},epoch)\n",
    "\n",
    "    if valid_roc_mean > best_param[\"valid_roc\"]:\n",
    "        best_param[\"roc_epoch\"] = epoch\n",
    "        best_param[\"valid_roc\"] = valid_roc_mean\n",
    "        if valid_roc_mean > 0.85:\n",
    "             torch.save(model.state_dict(), 'saved_models/model_'+prefix_filename+'_'+start_time+'_'+str(epoch)+'.pt')             \n",
    "    if valid_loss < best_param[\"valid_loss\"]:\n",
    "        best_param[\"loss_epoch\"] = epoch\n",
    "        best_param[\"valid_loss\"] = valid_loss\n",
    "\n",
    "    print(\"EPOCH:\\t\"+str(epoch)+'\\n'\\\n",
    "        +\"train_roc\"+\":\"+str(train_roc)+'\\n'\\\n",
    "        +\"valid_roc\"+\":\"+str(valid_roc)+'\\n'\\\n",
    "        +\"train_roc_mean\"+\":\"+str(train_roc_mean)+'\\n'\\\n",
    "        +\"valid_roc_mean\"+\":\"+str(valid_roc_mean)+'\\n'\\\n",
    "        )\n",
    "    if (epoch - best_param[\"roc_epoch\"] >10) and (epoch - best_param[\"loss_epoch\"] >20):        \n",
    "        break\n",
    "        \n",
    "    train(model, train_df, optimizer, loss_function)\n"
   ]
  },
  {
   "cell_type": "code",
   "execution_count": 11,
   "metadata": {
    "execution": {
     "iopub.execute_input": "2024-07-09T10:02:05.119399Z",
     "iopub.status.busy": "2024-07-09T10:02:05.119109Z",
     "iopub.status.idle": "2024-07-09T10:02:05.169685Z",
     "shell.execute_reply": "2024-07-09T10:02:05.168850Z"
    }
   },
   "outputs": [
    {
     "name": "stdout",
     "output_type": "stream",
     "text": [
      "best epoch:71\n",
      "test_roc:[0.9471264367816092, 0.9444444444444444]\n",
      "test_roc_mean: 0.9457854406130268\n"
     ]
    }
   ],
   "source": [
    "# evaluate model\n",
    "best_model = Fingerprint(radius, T, num_atom_features, num_bond_features, fingerprint_dim, output_units_num, p_dropout)\n",
    "best_model_state_dict = torch.load('saved_models/model_'+prefix_filename+'_'+start_time+'_'+str(best_param[\"roc_epoch\"])+'.pt')\n",
    "best_model.load_state_dict(best_model_state_dict)     \n",
    "best_model.cuda()\n",
    "\n",
    "best_model_dict = best_model.state_dict()\n",
    "best_model_wts = copy.deepcopy(best_model_dict)\n",
    "\n",
    "model.load_state_dict(best_model_wts)\n",
    "(best_model.align[0].weight == model.align[0].weight).all()\n",
    "test_roc, test_losses = eval(model, test_df)\n",
    "\n",
    "print(\"best epoch:\"+str(best_param[\"roc_epoch\"])\n",
    "      +\"\\n\"+\"test_roc:\"+str(test_roc)\n",
    "      +\"\\n\"+\"test_roc_mean:\",str(np.array(test_roc).mean())\n",
    "     )"
   ]
  },
  {
   "cell_type": "code",
   "execution_count": null,
   "metadata": {},
   "outputs": [],
   "source": []
  }
 ],
 "metadata": {
  "kernelspec": {
   "display_name": "py37",
   "language": "python",
   "name": "py37"
  },
  "language_info": {
   "codemirror_mode": {
    "name": "ipython",
    "version": 3
   },
   "file_extension": ".py",
   "mimetype": "text/x-python",
   "name": "python",
   "nbconvert_exporter": "python",
   "pygments_lexer": "ipython3",
   "version": "3.7.16"
  }
 },
 "nbformat": 4,
 "nbformat_minor": 4
}
