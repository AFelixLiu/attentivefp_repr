{
 "cells": [
  {
   "cell_type": "code",
   "execution_count": 1,
   "metadata": {
    "execution": {
     "iopub.execute_input": "2024-07-08T23:36:47.736296Z",
     "iopub.status.busy": "2024-07-08T23:36:47.736069Z",
     "iopub.status.idle": "2024-07-08T23:36:48.864583Z",
     "shell.execute_reply": "2024-07-08T23:36:48.863624Z"
    }
   },
   "outputs": [
    {
     "name": "stderr",
     "output_type": "stream",
     "text": [
      "RDKit WARNING: [07:36:48] Enabling RDKit 2019.09.3 jupyter extensions\n",
      "[07:36:48] Enabling RDKit 2019.09.3 jupyter extensions\n"
     ]
    }
   ],
   "source": [
    "import os\n",
    "import torch\n",
    "import torch.nn as nn\n",
    "import torch.nn.functional as F\n",
    "import torch.optim as optim\n",
    "import torch.utils.data as Data\n",
    "torch.manual_seed(8) # for reproduce\n",
    "\n",
    "import time\n",
    "import numpy as np\n",
    "import gc\n",
    "import sys\n",
    "sys.setrecursionlimit(50000)\n",
    "import pickle\n",
    "torch.backends.cudnn.benchmark = True\n",
    "torch.set_default_tensor_type('torch.cuda.FloatTensor')\n",
    "from tensorboardX import SummaryWriter\n",
    "torch.nn.Module.dump_patches = True\n",
    "import copy\n",
    "import pandas as pd\n",
    "#then import my own modules\n",
    "from AttentiveFP import Fingerprint, Fingerprint_viz, save_smiles_dicts, get_smiles_dicts, get_smiles_array, moltosvg_highlight"
   ]
  },
  {
   "cell_type": "code",
   "execution_count": 2,
   "metadata": {
    "execution": {
     "iopub.execute_input": "2024-07-08T23:36:48.897882Z",
     "iopub.status.busy": "2024-07-08T23:36:48.897490Z",
     "iopub.status.idle": "2024-07-08T23:36:49.093280Z",
     "shell.execute_reply": "2024-07-08T23:36:49.092393Z"
    }
   },
   "outputs": [],
   "source": [
    "from sklearn.metrics import roc_auc_score\n",
    "from sklearn.metrics import matthews_corrcoef\n",
    "from sklearn.metrics import recall_score\n",
    "from sklearn.metrics import accuracy_score\n",
    "from sklearn.metrics import r2_score\n",
    "from sklearn.metrics import mean_squared_error\n",
    "from sklearn.metrics import mean_absolute_error\n",
    "from sklearn.metrics import precision_score\n",
    "from sklearn.metrics import precision_recall_curve\n",
    "from sklearn.metrics import auc\n",
    "from sklearn.metrics import f1_score\n"
   ]
  },
  {
   "cell_type": "code",
   "execution_count": 3,
   "metadata": {
    "execution": {
     "iopub.execute_input": "2024-07-08T23:36:49.096181Z",
     "iopub.status.busy": "2024-07-08T23:36:49.095912Z",
     "iopub.status.idle": "2024-07-08T23:36:49.130515Z",
     "shell.execute_reply": "2024-07-08T23:36:49.129720Z"
    }
   },
   "outputs": [],
   "source": [
    "# from rdkit.Chem import rdMolDescriptors, MolSurf\n",
    "# from rdkit.Chem.Draw import SimilarityMaps\n",
    "from rdkit import Chem\n",
    "# from rdkit.Chem import AllChem\n",
    "from rdkit.Chem import QED\n",
    "%matplotlib inline\n",
    "from numpy.polynomial.polynomial import polyfit\n",
    "import matplotlib.pyplot as plt\n",
    "import matplotlib.cm as cm\n",
    "import matplotlib\n",
    "from IPython.display import SVG, display\n",
    "import seaborn as sns; sns.set(color_codes=True)\n",
    "\n",
    "from rdkit import RDLogger\n",
    "RDLogger.DisableLog('rdApp.*')"
   ]
  },
  {
   "cell_type": "code",
   "execution_count": 4,
   "metadata": {
    "execution": {
     "iopub.execute_input": "2024-07-08T23:36:49.137474Z",
     "iopub.status.busy": "2024-07-08T23:36:49.137242Z",
     "iopub.status.idle": "2024-07-08T23:36:52.157480Z",
     "shell.execute_reply": "2024-07-08T23:36:52.156262Z"
    }
   },
   "outputs": [
    {
     "name": "stdout",
     "output_type": "stream",
     "text": [
      "number of all smiles:  8597\n"
     ]
    },
    {
     "name": "stdout",
     "output_type": "stream",
     "text": [
      "not successfully processed smiles:  [F-][B+3]([F-])([F-])[F-].CC[N+]1(C)CCCC1\n"
     ]
    },
    {
     "name": "stdout",
     "output_type": "stream",
     "text": [
      "not successfully processed smiles:  [NH4+].[NH4+].[Cl-][Pt++]([Cl-])([Cl-])[Cl-]\n",
      "not successfully processed smiles:  [Cl-][Pt]1([Cl-])[NH2+]CC[NH2+]1\n",
      "not successfully processed smiles:  [Na+].[Na+].F[Si--](F)(F)(F)(F)F\n",
      "not successfully processed smiles:  [NH4+].[NH4+].F[Si--](F)(F)(F)(F)F\n"
     ]
    },
    {
     "name": "stdout",
     "output_type": "stream",
     "text": [
      "not successfully processed smiles:  O.O.O.O.O=C1O[Mg]2(OC(=O)C3=CC=CC=C3O2)OC2=CC=CC=C12\n"
     ]
    },
    {
     "name": "stdout",
     "output_type": "stream",
     "text": [
      "not successfully processed smiles:  FAIL\n",
      "not successfully processed smiles:  FAIL\n"
     ]
    },
    {
     "name": "stdout",
     "output_type": "stream",
     "text": [
      "not successfully processed smiles:  FAIL\n"
     ]
    },
    {
     "name": "stdout",
     "output_type": "stream",
     "text": [
      "not successfully processed smiles:  FAIL\n",
      "not successfully processed smiles:  FAIL\n",
      "not successfully processed smiles:  FAIL\n",
      "not successfully processed smiles:  FAIL\n",
      "not successfully processed smiles:  FAIL\n"
     ]
    },
    {
     "name": "stdout",
     "output_type": "stream",
     "text": [
      "not successfully processed smiles:  FAIL\n",
      "not successfully processed smiles:  FAIL\n",
      "not successfully processed smiles:  FAIL\n"
     ]
    },
    {
     "name": "stdout",
     "output_type": "stream",
     "text": [
      "not successfully processed smiles:  FAIL\n",
      "not successfully processed smiles:  FAIL\n",
      "not successfully processed smiles:  FAIL\n",
      "not successfully processed smiles:  FAIL\n",
      "number of successfully processed smiles:  8576\n"
     ]
    },
    {
     "data": {
      "image/png": "[encoded data removed]",
      "text/plain": [
       "<Figure size 500x300 with 1 Axes>"
      ]
     },
     "metadata": {},
     "output_type": "display_data"
    }
   ],
   "source": [
    "task_name = 'toxcast'\n",
    "tasks = [\n",
    "'ACEA_T47D_80hr_Negative','ACEA_T47D_80hr_Positive','APR_HepG2_CellCycleArrest_24h_dn','APR_HepG2_CellCycleArrest_24h_up','APR_HepG2_CellCycleArrest_72h_dn','APR_HepG2_CellLoss_24h_dn','APR_HepG2_CellLoss_72h_dn','APR_HepG2_MicrotubuleCSK_24h_dn','APR_HepG2_MicrotubuleCSK_24h_up','APR_HepG2_MicrotubuleCSK_72h_dn','APR_HepG2_MicrotubuleCSK_72h_up','APR_HepG2_MitoMass_24h_dn','APR_HepG2_MitoMass_24h_up','APR_HepG2_MitoMass_72h_dn','APR_HepG2_MitoMass_72h_up','APR_HepG2_MitoMembPot_1h_dn','APR_HepG2_MitoMembPot_24h_dn','APR_HepG2_MitoMembPot_72h_dn','APR_HepG2_MitoticArrest_24h_up','APR_HepG2_MitoticArrest_72h_up','APR_HepG2_NuclearSize_24h_dn','APR_HepG2_NuclearSize_72h_dn','APR_HepG2_NuclearSize_72h_up','APR_HepG2_OxidativeStress_24h_up','APR_HepG2_OxidativeStress_72h_up','APR_HepG2_StressKinase_1h_up','APR_HepG2_StressKinase_24h_up','APR_HepG2_StressKinase_72h_up','APR_HepG2_p53Act_24h_up','APR_HepG2_p53Act_72h_up','APR_Hepat_Apoptosis_24hr_up','APR_Hepat_Apoptosis_48hr_up','APR_Hepat_CellLoss_24hr_dn','APR_Hepat_CellLoss_48hr_dn','APR_Hepat_DNADamage_24hr_up','APR_Hepat_DNADamage_48hr_up','APR_Hepat_DNATexture_24hr_up','APR_Hepat_DNATexture_48hr_up','APR_Hepat_MitoFxnI_1hr_dn','APR_Hepat_MitoFxnI_24hr_dn','APR_Hepat_MitoFxnI_48hr_dn','APR_Hepat_NuclearSize_24hr_dn','APR_Hepat_NuclearSize_48hr_dn','APR_Hepat_Steatosis_24hr_up','APR_Hepat_Steatosis_48hr_up','ATG_AP_1_CIS_dn','ATG_AP_1_CIS_up','ATG_AP_2_CIS_dn','ATG_AP_2_CIS_up','ATG_AR_TRANS_dn','ATG_AR_TRANS_up','ATG_Ahr_CIS_dn','ATG_Ahr_CIS_up','ATG_BRE_CIS_dn','ATG_BRE_CIS_up','ATG_CAR_TRANS_dn','ATG_CAR_TRANS_up','ATG_CMV_CIS_dn','ATG_CMV_CIS_up','ATG_CRE_CIS_dn','ATG_CRE_CIS_up','ATG_C_EBP_CIS_dn','ATG_C_EBP_CIS_up','ATG_DR4_LXR_CIS_dn','ATG_DR4_LXR_CIS_up','ATG_DR5_CIS_dn','ATG_DR5_CIS_up','ATG_E2F_CIS_dn','ATG_E2F_CIS_up','ATG_EGR_CIS_up','ATG_ERE_CIS_dn','ATG_ERE_CIS_up','ATG_ERRa_TRANS_dn','ATG_ERRg_TRANS_dn','ATG_ERRg_TRANS_up','ATG_ERa_TRANS_up','ATG_E_Box_CIS_dn','ATG_E_Box_CIS_up','ATG_Ets_CIS_dn','ATG_Ets_CIS_up','ATG_FXR_TRANS_up','ATG_FoxA2_CIS_dn','ATG_FoxA2_CIS_up','ATG_FoxO_CIS_dn','ATG_FoxO_CIS_up','ATG_GAL4_TRANS_dn','ATG_GATA_CIS_dn','ATG_GATA_CIS_up','ATG_GLI_CIS_dn','ATG_GLI_CIS_up','ATG_GRE_CIS_dn','ATG_GRE_CIS_up','ATG_GR_TRANS_dn','ATG_GR_TRANS_up','ATG_HIF1a_CIS_dn','ATG_HIF1a_CIS_up','ATG_HNF4a_TRANS_dn','ATG_HNF4a_TRANS_up','ATG_HNF6_CIS_dn','ATG_HNF6_CIS_up','ATG_HSE_CIS_dn','ATG_HSE_CIS_up','ATG_IR1_CIS_dn','ATG_IR1_CIS_up','ATG_ISRE_CIS_dn','ATG_ISRE_CIS_up','ATG_LXRa_TRANS_dn','ATG_LXRa_TRANS_up','ATG_LXRb_TRANS_dn','ATG_LXRb_TRANS_up','ATG_MRE_CIS_up','ATG_M_06_TRANS_up','ATG_M_19_CIS_dn','ATG_M_19_TRANS_dn','ATG_M_19_TRANS_up','ATG_M_32_CIS_dn','ATG_M_32_CIS_up','ATG_M_32_TRANS_dn','ATG_M_32_TRANS_up','ATG_M_61_TRANS_up','ATG_Myb_CIS_dn','ATG_Myb_CIS_up','ATG_Myc_CIS_dn','ATG_Myc_CIS_up','ATG_NFI_CIS_dn','ATG_NFI_CIS_up','ATG_NF_kB_CIS_dn','ATG_NF_kB_CIS_up','ATG_NRF1_CIS_dn','ATG_NRF1_CIS_up','ATG_NRF2_ARE_CIS_dn','ATG_NRF2_ARE_CIS_up','ATG_NURR1_TRANS_dn','ATG_NURR1_TRANS_up','ATG_Oct_MLP_CIS_dn','ATG_Oct_MLP_CIS_up','ATG_PBREM_CIS_dn','ATG_PBREM_CIS_up','ATG_PPARa_TRANS_dn','ATG_PPARa_TRANS_up','ATG_PPARd_TRANS_up','ATG_PPARg_TRANS_up','ATG_PPRE_CIS_dn','ATG_PPRE_CIS_up','ATG_PXRE_CIS_dn','ATG_PXRE_CIS_up','ATG_PXR_TRANS_dn','ATG_PXR_TRANS_up','ATG_Pax6_CIS_up','ATG_RARa_TRANS_dn','ATG_RARa_TRANS_up','ATG_RARb_TRANS_dn','ATG_RARb_TRANS_up','ATG_RARg_TRANS_dn','ATG_RARg_TRANS_up','ATG_RORE_CIS_dn','ATG_RORE_CIS_up','ATG_RORb_TRANS_dn','ATG_RORg_TRANS_dn','ATG_RORg_TRANS_up','ATG_RXRa_TRANS_dn','ATG_RXRa_TRANS_up','ATG_RXRb_TRANS_dn','ATG_RXRb_TRANS_up','ATG_SREBP_CIS_dn','ATG_SREBP_CIS_up','ATG_STAT3_CIS_dn','ATG_STAT3_CIS_up','ATG_Sox_CIS_dn','ATG_Sox_CIS_up','ATG_Sp1_CIS_dn','ATG_Sp1_CIS_up','ATG_TAL_CIS_dn','ATG_TAL_CIS_up','ATG_TA_CIS_dn','ATG_TA_CIS_up','ATG_TCF_b_cat_CIS_dn','ATG_TCF_b_cat_CIS_up','ATG_TGFb_CIS_dn','ATG_TGFb_CIS_up','ATG_THRa1_TRANS_dn','ATG_THRa1_TRANS_up','ATG_VDRE_CIS_dn','ATG_VDRE_CIS_up','ATG_VDR_TRANS_dn','ATG_VDR_TRANS_up','ATG_XTT_Cytotoxicity_up','ATG_Xbp1_CIS_dn','ATG_Xbp1_CIS_up','ATG_p53_CIS_dn','ATG_p53_CIS_up','BSK_3C_Eselectin_down','BSK_3C_HLADR_down','BSK_3C_ICAM1_down','BSK_3C_IL8_down','BSK_3C_MCP1_down','BSK_3C_MIG_down','BSK_3C_Proliferation_down','BSK_3C_SRB_down','BSK_3C_Thrombomodulin_down','BSK_3C_Thrombomodulin_up','BSK_3C_TissueFactor_down','BSK_3C_TissueFactor_up','BSK_3C_VCAM1_down','BSK_3C_Vis_down','BSK_3C_uPAR_down','BSK_4H_Eotaxin3_down','BSK_4H_MCP1_down','BSK_4H_Pselectin_down','BSK_4H_Pselectin_up','BSK_4H_SRB_down','BSK_4H_VCAM1_down','BSK_4H_VEGFRII_down','BSK_4H_uPAR_down','BSK_4H_uPAR_up','BSK_BE3C_HLADR_down','BSK_BE3C_IL1a_down','BSK_BE3C_IP10_down','BSK_BE3C_MIG_down','BSK_BE3C_MMP1_down','BSK_BE3C_MMP1_up','BSK_BE3C_PAI1_down','BSK_BE3C_SRB_down','BSK_BE3C_TGFb1_down','BSK_BE3C_tPA_down','BSK_BE3C_uPAR_down','BSK_BE3C_uPAR_up','BSK_BE3C_uPA_down','BSK_CASM3C_HLADR_down','BSK_CASM3C_IL6_down','BSK_CASM3C_IL6_up','BSK_CASM3C_IL8_down','BSK_CASM3C_LDLR_down','BSK_CASM3C_LDLR_up','BSK_CASM3C_MCP1_down','BSK_CASM3C_MCP1_up','BSK_CASM3C_MCSF_down','BSK_CASM3C_MCSF_up','BSK_CASM3C_MIG_down','BSK_CASM3C_Proliferation_down','BSK_CASM3C_Proliferation_up','BSK_CASM3C_SAA_down','BSK_CASM3C_SAA_up','BSK_CASM3C_SRB_down','BSK_CASM3C_Thrombomodulin_down','BSK_CASM3C_Thrombomodulin_up','BSK_CASM3C_TissueFactor_down','BSK_CASM3C_VCAM1_down','BSK_CASM3C_VCAM1_up','BSK_CASM3C_uPAR_down','BSK_CASM3C_uPAR_up','BSK_KF3CT_ICAM1_down','BSK_KF3CT_IL1a_down','BSK_KF3CT_IP10_down','BSK_KF3CT_IP10_up','BSK_KF3CT_MCP1_down','BSK_KF3CT_MCP1_up','BSK_KF3CT_MMP9_down','BSK_KF3CT_SRB_down','BSK_KF3CT_TGFb1_down','BSK_KF3CT_TIMP2_down','BSK_KF3CT_uPA_down','BSK_LPS_CD40_down','BSK_LPS_Eselectin_down','BSK_LPS_Eselectin_up','BSK_LPS_IL1a_down','BSK_LPS_IL1a_up','BSK_LPS_IL8_down','BSK_LPS_IL8_up','BSK_LPS_MCP1_down','BSK_LPS_MCSF_down','BSK_LPS_PGE2_down','BSK_LPS_PGE2_up','BSK_LPS_SRB_down','BSK_LPS_TNFa_down','BSK_LPS_TNFa_up','BSK_LPS_TissueFactor_down','BSK_LPS_TissueFactor_up','BSK_LPS_VCAM1_down','BSK_SAg_CD38_down','BSK_SAg_CD40_down','BSK_SAg_CD69_down','BSK_SAg_Eselectin_down','BSK_SAg_Eselectin_up','BSK_SAg_IL8_down','BSK_SAg_IL8_up','BSK_SAg_MCP1_down','BSK_SAg_MIG_down','BSK_SAg_PBMCCytotoxicity_down','BSK_SAg_PBMCCytotoxicity_up','BSK_SAg_Proliferation_down','BSK_SAg_SRB_down','BSK_hDFCGF_CollagenIII_down','BSK_hDFCGF_EGFR_down','BSK_hDFCGF_EGFR_up','BSK_hDFCGF_IL8_down','BSK_hDFCGF_IP10_down','BSK_hDFCGF_MCSF_down','BSK_hDFCGF_MIG_down','BSK_hDFCGF_MMP1_down','BSK_hDFCGF_MMP1_up','BSK_hDFCGF_PAI1_down','BSK_hDFCGF_Proliferation_down','BSK_hDFCGF_SRB_down','BSK_hDFCGF_TIMP1_down','BSK_hDFCGF_VCAM1_down','CEETOX_H295R_11DCORT_dn','CEETOX_H295R_ANDR_dn','CEETOX_H295R_CORTISOL_dn','CEETOX_H295R_DOC_dn','CEETOX_H295R_DOC_up','CEETOX_H295R_ESTRADIOL_dn','CEETOX_H295R_ESTRADIOL_up','CEETOX_H295R_ESTRONE_dn','CEETOX_H295R_ESTRONE_up','CEETOX_H295R_OHPREG_up','CEETOX_H295R_OHPROG_dn','CEETOX_H295R_OHPROG_up','CEETOX_H295R_PROG_up','CEETOX_H295R_TESTO_dn','CLD_ABCB1_48hr','CLD_ABCG2_48hr','CLD_CYP1A1_24hr','CLD_CYP1A1_48hr','CLD_CYP1A1_6hr','CLD_CYP1A2_24hr','CLD_CYP1A2_48hr','CLD_CYP1A2_6hr','CLD_CYP2B6_24hr','CLD_CYP2B6_48hr','CLD_CYP2B6_6hr','CLD_CYP3A4_24hr','CLD_CYP3A4_48hr','CLD_CYP3A4_6hr','CLD_GSTA2_48hr','CLD_SULT2A_24hr','CLD_SULT2A_48hr','CLD_UGT1A1_24hr','CLD_UGT1A1_48hr','NCCT_HEK293T_CellTiterGLO','NCCT_QuantiLum_inhib_2_dn','NCCT_QuantiLum_inhib_dn','NCCT_TPO_AUR_dn','NCCT_TPO_GUA_dn','NHEERL_ZF_144hpf_TERATOSCORE_up','NVS_ADME_hCYP19A1','NVS_ADME_hCYP1A1','NVS_ADME_hCYP1A2','NVS_ADME_hCYP2A6','NVS_ADME_hCYP2B6','NVS_ADME_hCYP2C19','NVS_ADME_hCYP2C9','NVS_ADME_hCYP2D6','NVS_ADME_hCYP3A4','NVS_ADME_hCYP4F12','NVS_ADME_rCYP2C12','NVS_ENZ_hAChE','NVS_ENZ_hAMPKa1','NVS_ENZ_hAurA','NVS_ENZ_hBACE','NVS_ENZ_hCASP5','NVS_ENZ_hCK1D','NVS_ENZ_hDUSP3','NVS_ENZ_hES','NVS_ENZ_hElastase','NVS_ENZ_hFGFR1','NVS_ENZ_hGSK3b','NVS_ENZ_hMMP1','NVS_ENZ_hMMP13','NVS_ENZ_hMMP2','NVS_ENZ_hMMP3','NVS_ENZ_hMMP7','NVS_ENZ_hMMP9','NVS_ENZ_hPDE10','NVS_ENZ_hPDE4A1','NVS_ENZ_hPDE5','NVS_ENZ_hPI3Ka','NVS_ENZ_hPTEN','NVS_ENZ_hPTPN11','NVS_ENZ_hPTPN12','NVS_ENZ_hPTPN13','NVS_ENZ_hPTPN9','NVS_ENZ_hPTPRC','NVS_ENZ_hSIRT1','NVS_ENZ_hSIRT2','NVS_ENZ_hTrkA','NVS_ENZ_hVEGFR2','NVS_ENZ_oCOX1','NVS_ENZ_oCOX2','NVS_ENZ_rAChE','NVS_ENZ_rCNOS','NVS_ENZ_rMAOAC','NVS_ENZ_rMAOAP','NVS_ENZ_rMAOBC','NVS_ENZ_rMAOBP','NVS_ENZ_rabI2C','NVS_GPCR_bAdoR_NonSelective','NVS_GPCR_bDR_NonSelective','NVS_GPCR_g5HT4','NVS_GPCR_gH2','NVS_GPCR_gLTB4','NVS_GPCR_gLTD4','NVS_GPCR_gMPeripheral_NonSelective','NVS_GPCR_gOpiateK','NVS_GPCR_h5HT2A','NVS_GPCR_h5HT5A','NVS_GPCR_h5HT6','NVS_GPCR_h5HT7','NVS_GPCR_hAT1','NVS_GPCR_hAdoRA1','NVS_GPCR_hAdoRA2a','NVS_GPCR_hAdra2A','NVS_GPCR_hAdra2C','NVS_GPCR_hAdrb1','NVS_GPCR_hAdrb2','NVS_GPCR_hAdrb3','NVS_GPCR_hDRD1','NVS_GPCR_hDRD2s','NVS_GPCR_hDRD4.4','NVS_GPCR_hH1','NVS_GPCR_hLTB4_BLT1','NVS_GPCR_hM1','NVS_GPCR_hM2','NVS_GPCR_hM3','NVS_GPCR_hM4','NVS_GPCR_hNK2','NVS_GPCR_hOpiate_D1','NVS_GPCR_hOpiate_mu','NVS_GPCR_hTXA2','NVS_GPCR_p5HT2C','NVS_GPCR_r5HT1_NonSelective','NVS_GPCR_r5HT_NonSelective','NVS_GPCR_rAdra1B','NVS_GPCR_rAdra1_NonSelective','NVS_GPCR_rAdra2_NonSelective','NVS_GPCR_rAdrb_NonSelective','NVS_GPCR_rNK1','NVS_GPCR_rNK3','NVS_GPCR_rOpiate_NonSelective','NVS_GPCR_rOpiate_NonSelectiveNa','NVS_GPCR_rSST','NVS_GPCR_rTRH','NVS_GPCR_rV1','NVS_GPCR_rabPAF','NVS_GPCR_rmAdra2B','NVS_IC_hKhERGCh','NVS_IC_rCaBTZCHL','NVS_IC_rCaDHPRCh_L','NVS_IC_rNaCh_site2','NVS_LGIC_bGABARa1','NVS_LGIC_h5HT3','NVS_LGIC_hNNR_NBungSens','NVS_LGIC_rGABAR_NonSelective','NVS_LGIC_rNNR_BungSens','NVS_MP_hPBR','NVS_MP_rPBR','NVS_NR_bER','NVS_NR_bPR','NVS_NR_cAR','NVS_NR_hAR','NVS_NR_hCAR_Antagonist','NVS_NR_hER','NVS_NR_hFXR_Agonist','NVS_NR_hFXR_Antagonist','NVS_NR_hGR','NVS_NR_hPPARa','NVS_NR_hPPARg','NVS_NR_hPR','NVS_NR_hPXR','NVS_NR_hRAR_Antagonist','NVS_NR_hRARa_Agonist','NVS_NR_hTRa_Antagonist','NVS_NR_mERa','NVS_NR_rAR','NVS_NR_rMR','NVS_OR_gSIGMA_NonSelective','NVS_TR_gDAT','NVS_TR_hAdoT','NVS_TR_hDAT','NVS_TR_hNET','NVS_TR_hSERT','NVS_TR_rNET','NVS_TR_rSERT','NVS_TR_rVMAT2','OT_AR_ARELUC_AG_1440','OT_AR_ARSRC1_0480','OT_AR_ARSRC1_0960','OT_ER_ERaERa_0480','OT_ER_ERaERa_1440','OT_ER_ERaERb_0480','OT_ER_ERaERb_1440','OT_ER_ERbERb_0480','OT_ER_ERbERb_1440','OT_ERa_EREGFP_0120','OT_ERa_EREGFP_0480','OT_FXR_FXRSRC1_0480','OT_FXR_FXRSRC1_1440','OT_NURR1_NURR1RXRa_0480','OT_NURR1_NURR1RXRa_1440','TOX21_ARE_BLA_Agonist_ch1','TOX21_ARE_BLA_Agonist_ch2','TOX21_ARE_BLA_agonist_ratio','TOX21_ARE_BLA_agonist_viability','TOX21_AR_BLA_Agonist_ch1','TOX21_AR_BLA_Agonist_ch2','TOX21_AR_BLA_Agonist_ratio','TOX21_AR_BLA_Antagonist_ch1','TOX21_AR_BLA_Antagonist_ch2','TOX21_AR_BLA_Antagonist_ratio','TOX21_AR_BLA_Antagonist_viability','TOX21_AR_LUC_MDAKB2_Agonist','TOX21_AR_LUC_MDAKB2_Antagonist','TOX21_AR_LUC_MDAKB2_Antagonist2','TOX21_AhR_LUC_Agonist','TOX21_Aromatase_Inhibition','TOX21_AutoFluor_HEK293_Cell_blue','TOX21_AutoFluor_HEK293_Media_blue','TOX21_AutoFluor_HEPG2_Cell_blue','TOX21_AutoFluor_HEPG2_Cell_green','TOX21_AutoFluor_HEPG2_Media_blue','TOX21_AutoFluor_HEPG2_Media_green','TOX21_ELG1_LUC_Agonist','TOX21_ERa_BLA_Agonist_ch1','TOX21_ERa_BLA_Agonist_ch2','TOX21_ERa_BLA_Agonist_ratio','TOX21_ERa_BLA_Antagonist_ch1','TOX21_ERa_BLA_Antagonist_ch2','TOX21_ERa_BLA_Antagonist_ratio','TOX21_ERa_BLA_Antagonist_viability','TOX21_ERa_LUC_BG1_Agonist','TOX21_ERa_LUC_BG1_Antagonist','TOX21_ESRE_BLA_ch1','TOX21_ESRE_BLA_ch2','TOX21_ESRE_BLA_ratio','TOX21_ESRE_BLA_viability','TOX21_FXR_BLA_Antagonist_ch1','TOX21_FXR_BLA_Antagonist_ch2','TOX21_FXR_BLA_agonist_ch2','TOX21_FXR_BLA_agonist_ratio','TOX21_FXR_BLA_antagonist_ratio','TOX21_FXR_BLA_antagonist_viability','TOX21_GR_BLA_Agonist_ch1','TOX21_GR_BLA_Agonist_ch2','TOX21_GR_BLA_Agonist_ratio','TOX21_GR_BLA_Antagonist_ch2','TOX21_GR_BLA_Antagonist_ratio','TOX21_GR_BLA_Antagonist_viability','TOX21_HSE_BLA_agonist_ch1','TOX21_HSE_BLA_agonist_ch2','TOX21_HSE_BLA_agonist_ratio','TOX21_HSE_BLA_agonist_viability','TOX21_MMP_ratio_down','TOX21_MMP_ratio_up','TOX21_MMP_viability','TOX21_NFkB_BLA_agonist_ch1','TOX21_NFkB_BLA_agonist_ch2','TOX21_NFkB_BLA_agonist_ratio','TOX21_NFkB_BLA_agonist_viability','TOX21_PPARd_BLA_Agonist_viability','TOX21_PPARd_BLA_Antagonist_ch1','TOX21_PPARd_BLA_agonist_ch1','TOX21_PPARd_BLA_agonist_ch2','TOX21_PPARd_BLA_agonist_ratio','TOX21_PPARd_BLA_antagonist_ratio','TOX21_PPARd_BLA_antagonist_viability','TOX21_PPARg_BLA_Agonist_ch1','TOX21_PPARg_BLA_Agonist_ch2','TOX21_PPARg_BLA_Agonist_ratio','TOX21_PPARg_BLA_Antagonist_ch1','TOX21_PPARg_BLA_antagonist_ratio','TOX21_PPARg_BLA_antagonist_viability','TOX21_TR_LUC_GH3_Agonist','TOX21_TR_LUC_GH3_Antagonist','TOX21_VDR_BLA_Agonist_viability','TOX21_VDR_BLA_Antagonist_ch1','TOX21_VDR_BLA_agonist_ch2','TOX21_VDR_BLA_agonist_ratio','TOX21_VDR_BLA_antagonist_ratio','TOX21_VDR_BLA_antagonist_viability','TOX21_p53_BLA_p1_ch1','TOX21_p53_BLA_p1_ch2','TOX21_p53_BLA_p1_ratio','TOX21_p53_BLA_p1_viability','TOX21_p53_BLA_p2_ch1','TOX21_p53_BLA_p2_ch2','TOX21_p53_BLA_p2_ratio','TOX21_p53_BLA_p2_viability','TOX21_p53_BLA_p3_ch1','TOX21_p53_BLA_p3_ch2','TOX21_p53_BLA_p3_ratio','TOX21_p53_BLA_p3_viability','TOX21_p53_BLA_p4_ch1','TOX21_p53_BLA_p4_ch2','TOX21_p53_BLA_p4_ratio','TOX21_p53_BLA_p4_viability','TOX21_p53_BLA_p5_ch1','TOX21_p53_BLA_p5_ch2','TOX21_p53_BLA_p5_ratio','TOX21_p53_BLA_p5_viability','Tanguay_ZF_120hpf_AXIS_up','Tanguay_ZF_120hpf_ActivityScore','Tanguay_ZF_120hpf_BRAI_up','Tanguay_ZF_120hpf_CFIN_up','Tanguay_ZF_120hpf_CIRC_up','Tanguay_ZF_120hpf_EYE_up','Tanguay_ZF_120hpf_JAW_up','Tanguay_ZF_120hpf_MORT_up','Tanguay_ZF_120hpf_OTIC_up','Tanguay_ZF_120hpf_PE_up','Tanguay_ZF_120hpf_PFIN_up','Tanguay_ZF_120hpf_PIG_up','Tanguay_ZF_120hpf_SNOU_up','Tanguay_ZF_120hpf_SOMI_up','Tanguay_ZF_120hpf_SWIM_up','Tanguay_ZF_120hpf_TRUN_up','Tanguay_ZF_120hpf_TR_up','Tanguay_ZF_120hpf_YSE_up'\n",
    "]\n",
    "raw_filename = \"../data/toxcast_data.csv\"\n",
    "feature_filename = raw_filename.replace('.csv','.pickle')\n",
    "filename = raw_filename.replace('.csv','')\n",
    "prefix_filename = raw_filename.split('/')[-1].replace('.csv','')\n",
    "smiles_tasks_df = pd.read_csv(raw_filename)\n",
    "smilesList = smiles_tasks_df.smiles.values\n",
    "print(\"number of all smiles: \",len(smilesList))\n",
    "atom_num_dist = []\n",
    "remained_smiles = []\n",
    "canonical_smiles_list = []\n",
    "for smiles in smilesList:\n",
    "    try:        \n",
    "        mol = Chem.MolFromSmiles(smiles)\n",
    "        atom_num_dist.append(len(mol.GetAtoms()))\n",
    "        remained_smiles.append(smiles)\n",
    "        canonical_smiles_list.append(Chem.MolToSmiles(Chem.MolFromSmiles(smiles), isomericSmiles=True))\n",
    "    except:\n",
    "        print(\"not successfully processed smiles: \", smiles)\n",
    "        pass\n",
    "print(\"number of successfully processed smiles: \", len(remained_smiles))\n",
    "smiles_tasks_df = smiles_tasks_df[smiles_tasks_df[\"smiles\"].isin(remained_smiles)]\n",
    "# print(smiles_tasks_df)\n",
    "smiles_tasks_df['cano_smiles'] =canonical_smiles_list\n",
    "assert canonical_smiles_list[8]==Chem.MolToSmiles(Chem.MolFromSmiles(smiles_tasks_df['cano_smiles'][8]), isomericSmiles=True)\n",
    "\n",
    "plt.figure(figsize=(5, 3))\n",
    "sns.set(font_scale=1.5)\n",
    "ax = sns.histplot(atom_num_dist, bins=28, kde=False)\n",
    "plt.tight_layout()\n",
    "# plt.savefig(\"atom_num_dist_\"+prefix_filename+\".png\",dpi=200)\n",
    "plt.show()\n",
    "plt.close()\n",
    "\n",
    "# print(len([i for i in atom_num_dist if i<51]),len([i for i in atom_num_dist if i>50]))"
   ]
  },
  {
   "cell_type": "code",
   "execution_count": 5,
   "metadata": {
    "execution": {
     "iopub.execute_input": "2024-07-08T23:36:52.161396Z",
     "iopub.status.busy": "2024-07-08T23:36:52.161120Z",
     "iopub.status.idle": "2024-07-08T23:36:52.167277Z",
     "shell.execute_reply": "2024-07-08T23:36:52.166550Z"
    }
   },
   "outputs": [],
   "source": [
    "random_seed = 888\n",
    "start_time = str(time.ctime()).replace(':','-').replace(' ','_')\n",
    "start = time.time()\n",
    "\n",
    "batch_size = 100\n",
    "epochs = 800\n",
    "p_dropout = 0.5\n",
    "fingerprint_dim = 200\n",
    "\n",
    "radius = 3\n",
    "T = 3\n",
    "weight_decay = 3 # also known as l2_regularization_lambda\n",
    "learning_rate = 3.5\n",
    "per_task_output_units_num = 2 # for classification model with 2 classes\n",
    "output_units_num = len(tasks) * per_task_output_units_num"
   ]
  },
  {
   "cell_type": "code",
   "execution_count": 6,
   "metadata": {
    "execution": {
     "iopub.execute_input": "2024-07-08T23:36:52.170086Z",
     "iopub.status.busy": "2024-07-08T23:36:52.169837Z",
     "iopub.status.idle": "2024-07-08T23:39:13.064405Z",
     "shell.execute_reply": "2024-07-08T23:39:13.063550Z"
    }
   },
   "outputs": [
    {
     "name": "stdout",
     "output_type": "stream",
     "text": [
      "[Ca+2].[Cl-].[Cl-]\n"
     ]
    },
    {
     "name": "stdout",
     "output_type": "stream",
     "text": [
      "[Cd+2].[Cl-].[Cl-]\n"
     ]
    },
    {
     "name": "stdout",
     "output_type": "stream",
     "text": [
      "CC[n+]1ccccc1.F[P-](F)(F)(F)(F)F\n"
     ]
    },
    {
     "name": "stdout",
     "output_type": "stream",
     "text": [
      "O.O.[Ba+2].[Cl-].[Cl-]\n"
     ]
    },
    {
     "name": "stdout",
     "output_type": "stream",
     "text": [
      "CC[N+]1(C)CCCC1.F[P-](F)(F)(F)(F)F\n"
     ]
    },
    {
     "name": "stdout",
     "output_type": "stream",
     "text": [
      "N#C[Fe-2](C#N)(C#N)(C#N)(C#N)N=O.O.O.[Na+].[Na+]\n"
     ]
    },
    {
     "name": "stdout",
     "output_type": "stream",
     "text": [
      "CCn1cc[n+](C)c1.F[P-](F)(F)(F)(F)F\n"
     ]
    },
    {
     "name": "stdout",
     "output_type": "stream",
     "text": [
      "CCCCn1cc[n+](C)c1.F[P-](F)(F)(F)(F)F\n"
     ]
    },
    {
     "name": "stdout",
     "output_type": "stream",
     "text": [
      "CCCC[n+]1ccccc1.F[P-](F)(F)(F)(F)F\n"
     ]
    },
    {
     "name": "stdout",
     "output_type": "stream",
     "text": [
      "CCCn1cc[n+](C)c1.F[P-](F)(F)(F)(F)F\n"
     ]
    },
    {
     "name": "stdout",
     "output_type": "stream",
     "text": [
      "CCCCCCCCCCCCn1cc[n+](C)c1.F[P-](F)(F)(F)(F)F\n"
     ]
    },
    {
     "name": "stdout",
     "output_type": "stream",
     "text": [
      "CCCCCCCCCCCCCCn1cc[n+](C)c1.F[P-](F)(F)(F)(F)F\n"
     ]
    },
    {
     "name": "stdout",
     "output_type": "stream",
     "text": [
      "CCCCCCCCCCCCCCCCn1cc[n+](C)c1.F[P-](F)(F)(F)(F)F\n"
     ]
    },
    {
     "name": "stdout",
     "output_type": "stream",
     "text": [
      "CCCCCCCCCCCCCCCCCCn1cc[n+](C)c1.F[P-](F)(F)(F)(F)F\n"
     ]
    },
    {
     "name": "stdout",
     "output_type": "stream",
     "text": [
      "CCCCn1cc[n+](C)c1C.F[P-](F)(F)(F)(F)F\n"
     ]
    },
    {
     "name": "stdout",
     "output_type": "stream",
     "text": [
      "CCn1cc[n+](C)c1C.F[P-](F)(F)(F)(F)F\n"
     ]
    },
    {
     "name": "stdout",
     "output_type": "stream",
     "text": [
      "CCCCCCn1cc[n+](C)c1.F[P-](F)(F)(F)(F)F\n"
     ]
    },
    {
     "name": "stdout",
     "output_type": "stream",
     "text": [
      "CCCCCCCCn1cc[n+](C)c1.F[P-](F)(F)(F)(F)F\n"
     ]
    },
    {
     "name": "stdout",
     "output_type": "stream",
     "text": [
      "CCC[N+]1(C)CCCC1.F[P-](F)(F)(F)(F)F\n"
     ]
    },
    {
     "name": "stdout",
     "output_type": "stream",
     "text": [
      "CCCC[N+]1(C)CCCC1.F[P-](F)(F)(F)(F)F\n"
     ]
    },
    {
     "name": "stdout",
     "output_type": "stream",
     "text": [
      "CCCCCCCCCCn1cc[n+](C)c1.F[P-](F)(F)(F)(F)F\n"
     ]
    },
    {
     "name": "stdout",
     "output_type": "stream",
     "text": [
      "CCCCCCCCCCCCCC[P+](CCCCCC)(CCCCCC)CCCCCC.F[P-](F)(F)(F)(F)F\n"
     ]
    },
    {
     "name": "stdout",
     "output_type": "stream",
     "text": [
      "CCCC[n+]1ccc(C)cc1.F[P-](F)(F)(F)(F)F\n"
     ]
    },
    {
     "name": "stdout",
     "output_type": "stream",
     "text": [
      "[Cl-].[Cl-].[Cu+2]\n"
     ]
    },
    {
     "name": "stdout",
     "output_type": "stream",
     "text": [
      "[Cl-].[Cl-].[Hg+2]\n"
     ]
    },
    {
     "name": "stdout",
     "output_type": "stream",
     "text": [
      "[Br-].[Na+]\n"
     ]
    },
    {
     "name": "stdout",
     "output_type": "stream",
     "text": [
      "[I-].[K+]\n"
     ]
    },
    {
     "name": "stdout",
     "output_type": "stream",
     "text": [
      "[Cl-].[Cl-].[Cl-].[Fe+3]\n"
     ]
    },
    {
     "name": "stdout",
     "output_type": "stream",
     "text": [
      "[Cl-].[Cl-].[Fe+2]\n"
     ]
    },
    {
     "name": "stdout",
     "output_type": "stream",
     "text": [
      "[Cl-].[Cl-].[SnH2+2]\n"
     ]
    },
    {
     "name": "stdout",
     "output_type": "stream",
     "text": [
      "[Hg+2].[I-].[I-]\n"
     ]
    },
    {
     "name": "stdout",
     "output_type": "stream",
     "text": [
      "CCCCCC[n+]1ccccc1.F[P-](F)(F)(F)(F)F\n"
     ]
    },
    {
     "name": "stdout",
     "output_type": "stream",
     "text": [
      "CCCC[n+]1cccc(C)c1.F[P-](F)(F)(F)(F)F\n"
     ]
    },
    {
     "name": "stdout",
     "output_type": "stream",
     "text": [
      "CCCC[N+]1(C)CCCCC1.F[P-](F)(F)(F)(F)F\n"
     ]
    },
    {
     "name": "stdout",
     "output_type": "stream",
     "text": [
      "CCC[N+]1(C)CCCCC1.F[P-](F)(F)(F)(F)F\n"
     ]
    },
    {
     "name": "stdout",
     "output_type": "stream",
     "text": [
      "CCCC[n+]1ccccc1C.F[P-](F)(F)(F)(F)F\n"
     ]
    },
    {
     "name": "stdout",
     "output_type": "stream",
     "text": [
      "feature dicts file saved as ../data/toxcast_data.pickle\n"
     ]
    },
    {
     "data": {
      "text/html": [
       "<div>\n",
       "<style scoped>\n",
       "    .dataframe tbody tr th:only-of-type {\n",
       "        vertical-align: middle;\n",
       "    }\n",
       "\n",
       "    .dataframe tbody tr th {\n",
       "        vertical-align: top;\n",
       "    }\n",
       "\n",
       "    .dataframe thead th {\n",
       "        text-align: right;\n",
       "    }\n",
       "</style>\n",
       "<table border=\"1\" class=\"dataframe\">\n",
       "  <thead>\n",
       "    <tr style=\"text-align: right;\">\n",
       "      <th></th>\n",
       "      <th>smiles</th>\n",
       "      <th>ACEA_T47D_80hr_Negative</th>\n",
       "      <th>ACEA_T47D_80hr_Positive</th>\n",
       "      <th>APR_HepG2_CellCycleArrest_24h_dn</th>\n",
       "      <th>APR_HepG2_CellCycleArrest_24h_up</th>\n",
       "      <th>APR_HepG2_CellCycleArrest_72h_dn</th>\n",
       "      <th>APR_HepG2_CellLoss_24h_dn</th>\n",
       "      <th>APR_HepG2_CellLoss_72h_dn</th>\n",
       "      <th>APR_HepG2_MicrotubuleCSK_24h_dn</th>\n",
       "      <th>APR_HepG2_MicrotubuleCSK_24h_up</th>\n",
       "      <th>...</th>\n",
       "      <th>Tanguay_ZF_120hpf_PE_up</th>\n",
       "      <th>Tanguay_ZF_120hpf_PFIN_up</th>\n",
       "      <th>Tanguay_ZF_120hpf_PIG_up</th>\n",
       "      <th>Tanguay_ZF_120hpf_SNOU_up</th>\n",
       "      <th>Tanguay_ZF_120hpf_SOMI_up</th>\n",
       "      <th>Tanguay_ZF_120hpf_SWIM_up</th>\n",
       "      <th>Tanguay_ZF_120hpf_TRUN_up</th>\n",
       "      <th>Tanguay_ZF_120hpf_TR_up</th>\n",
       "      <th>Tanguay_ZF_120hpf_YSE_up</th>\n",
       "      <th>cano_smiles</th>\n",
       "    </tr>\n",
       "  </thead>\n",
       "  <tbody>\n",
       "    <tr>\n",
       "      <th>47</th>\n",
       "      <td>[Cl-].[Cl-].[Ca++]</td>\n",
       "      <td>NaN</td>\n",
       "      <td>NaN</td>\n",
       "      <td>NaN</td>\n",
       "      <td>NaN</td>\n",
       "      <td>NaN</td>\n",
       "      <td>NaN</td>\n",
       "      <td>NaN</td>\n",
       "      <td>NaN</td>\n",
       "      <td>NaN</td>\n",
       "      <td>...</td>\n",
       "      <td>NaN</td>\n",
       "      <td>NaN</td>\n",
       "      <td>NaN</td>\n",
       "      <td>NaN</td>\n",
       "      <td>NaN</td>\n",
       "      <td>NaN</td>\n",
       "      <td>NaN</td>\n",
       "      <td>NaN</td>\n",
       "      <td>NaN</td>\n",
       "      <td>[Ca+2].[Cl-].[Cl-]</td>\n",
       "    </tr>\n",
       "    <tr>\n",
       "      <th>93</th>\n",
       "      <td>[Cl-].[Cl-].[Cd++]</td>\n",
       "      <td>NaN</td>\n",
       "      <td>NaN</td>\n",
       "      <td>NaN</td>\n",
       "      <td>NaN</td>\n",
       "      <td>NaN</td>\n",
       "      <td>NaN</td>\n",
       "      <td>NaN</td>\n",
       "      <td>NaN</td>\n",
       "      <td>NaN</td>\n",
       "      <td>...</td>\n",
       "      <td>NaN</td>\n",
       "      <td>NaN</td>\n",
       "      <td>NaN</td>\n",
       "      <td>NaN</td>\n",
       "      <td>NaN</td>\n",
       "      <td>NaN</td>\n",
       "      <td>NaN</td>\n",
       "      <td>NaN</td>\n",
       "      <td>NaN</td>\n",
       "      <td>[Cd+2].[Cl-].[Cl-]</td>\n",
       "    </tr>\n",
       "    <tr>\n",
       "      <th>213</th>\n",
       "      <td>F[P-](F)(F)(F)(F)F.CC[N+]1=CC=CC=C1</td>\n",
       "      <td>NaN</td>\n",
       "      <td>NaN</td>\n",
       "      <td>NaN</td>\n",
       "      <td>NaN</td>\n",
       "      <td>NaN</td>\n",
       "      <td>NaN</td>\n",
       "      <td>NaN</td>\n",
       "      <td>NaN</td>\n",
       "      <td>NaN</td>\n",
       "      <td>...</td>\n",
       "      <td>NaN</td>\n",
       "      <td>NaN</td>\n",
       "      <td>NaN</td>\n",
       "      <td>NaN</td>\n",
       "      <td>NaN</td>\n",
       "      <td>NaN</td>\n",
       "      <td>NaN</td>\n",
       "      <td>NaN</td>\n",
       "      <td>NaN</td>\n",
       "      <td>CC[n+]1ccccc1.F[P-](F)(F)(F)(F)F</td>\n",
       "    </tr>\n",
       "    <tr>\n",
       "      <th>220</th>\n",
       "      <td>O.O.[Cl-].[Cl-].[Ba++]</td>\n",
       "      <td>NaN</td>\n",
       "      <td>NaN</td>\n",
       "      <td>NaN</td>\n",
       "      <td>NaN</td>\n",
       "      <td>NaN</td>\n",
       "      <td>NaN</td>\n",
       "      <td>NaN</td>\n",
       "      <td>NaN</td>\n",
       "      <td>NaN</td>\n",
       "      <td>...</td>\n",
       "      <td>NaN</td>\n",
       "      <td>NaN</td>\n",
       "      <td>NaN</td>\n",
       "      <td>NaN</td>\n",
       "      <td>NaN</td>\n",
       "      <td>NaN</td>\n",
       "      <td>NaN</td>\n",
       "      <td>NaN</td>\n",
       "      <td>NaN</td>\n",
       "      <td>O.O.[Ba+2].[Cl-].[Cl-]</td>\n",
       "    </tr>\n",
       "    <tr>\n",
       "      <th>1203</th>\n",
       "      <td>F[P-](F)(F)(F)(F)F.CC[N+]1(C)CCCC1</td>\n",
       "      <td>NaN</td>\n",
       "      <td>NaN</td>\n",
       "      <td>NaN</td>\n",
       "      <td>NaN</td>\n",
       "      <td>NaN</td>\n",
       "      <td>NaN</td>\n",
       "      <td>NaN</td>\n",
       "      <td>NaN</td>\n",
       "      <td>NaN</td>\n",
       "      <td>...</td>\n",
       "      <td>NaN</td>\n",
       "      <td>NaN</td>\n",
       "      <td>NaN</td>\n",
       "      <td>NaN</td>\n",
       "      <td>NaN</td>\n",
       "      <td>NaN</td>\n",
       "      <td>NaN</td>\n",
       "      <td>NaN</td>\n",
       "      <td>NaN</td>\n",
       "      <td>CC[N+]1(C)CCCC1.F[P-](F)(F)(F)(F)F</td>\n",
       "    </tr>\n",
       "    <tr>\n",
       "      <th>1777</th>\n",
       "      <td>O.O.[Na+].[Na+].O=N[Fe--](C#N)(C#N)(C#N)(C#N)C#N</td>\n",
       "      <td>NaN</td>\n",
       "      <td>NaN</td>\n",
       "      <td>NaN</td>\n",
       "      <td>NaN</td>\n",
       "      <td>NaN</td>\n",
       "      <td>NaN</td>\n",
       "      <td>NaN</td>\n",
       "      <td>NaN</td>\n",
       "      <td>NaN</td>\n",
       "      <td>...</td>\n",
       "      <td>NaN</td>\n",
       "      <td>NaN</td>\n",
       "      <td>NaN</td>\n",
       "      <td>NaN</td>\n",
       "      <td>NaN</td>\n",
       "      <td>NaN</td>\n",
       "      <td>NaN</td>\n",
       "      <td>NaN</td>\n",
       "      <td>NaN</td>\n",
       "      <td>N#C[Fe-2](C#N)(C#N)(C#N)(C#N)N=O.O.O.[Na+].[Na+]</td>\n",
       "    </tr>\n",
       "    <tr>\n",
       "      <th>2259</th>\n",
       "      <td>F[P-](F)(F)(F)(F)F.CCN1C=C[N+](C)=C1</td>\n",
       "      <td>NaN</td>\n",
       "      <td>NaN</td>\n",
       "      <td>NaN</td>\n",
       "      <td>NaN</td>\n",
       "      <td>NaN</td>\n",
       "      <td>NaN</td>\n",
       "      <td>NaN</td>\n",
       "      <td>NaN</td>\n",
       "      <td>NaN</td>\n",
       "      <td>...</td>\n",
       "      <td>NaN</td>\n",
       "      <td>NaN</td>\n",
       "      <td>NaN</td>\n",
       "      <td>NaN</td>\n",
       "      <td>NaN</td>\n",
       "      <td>NaN</td>\n",
       "      <td>NaN</td>\n",
       "      <td>NaN</td>\n",
       "      <td>NaN</td>\n",
       "      <td>CCn1cc[n+](C)c1.F[P-](F)(F)(F)(F)F</td>\n",
       "    </tr>\n",
       "    <tr>\n",
       "      <th>2532</th>\n",
       "      <td>F[P-](F)(F)(F)(F)F.CCCCN1C=C[N+](C)=C1</td>\n",
       "      <td>NaN</td>\n",
       "      <td>NaN</td>\n",
       "      <td>NaN</td>\n",
       "      <td>NaN</td>\n",
       "      <td>NaN</td>\n",
       "      <td>NaN</td>\n",
       "      <td>NaN</td>\n",
       "      <td>NaN</td>\n",
       "      <td>NaN</td>\n",
       "      <td>...</td>\n",
       "      <td>NaN</td>\n",
       "      <td>NaN</td>\n",
       "      <td>NaN</td>\n",
       "      <td>NaN</td>\n",
       "      <td>NaN</td>\n",
       "      <td>NaN</td>\n",
       "      <td>NaN</td>\n",
       "      <td>NaN</td>\n",
       "      <td>NaN</td>\n",
       "      <td>CCCCn1cc[n+](C)c1.F[P-](F)(F)(F)(F)F</td>\n",
       "    </tr>\n",
       "    <tr>\n",
       "      <th>2676</th>\n",
       "      <td>F[P-](F)(F)(F)(F)F.CCCC[N+]1=CC=CC=C1</td>\n",
       "      <td>NaN</td>\n",
       "      <td>NaN</td>\n",
       "      <td>NaN</td>\n",
       "      <td>NaN</td>\n",
       "      <td>NaN</td>\n",
       "      <td>NaN</td>\n",
       "      <td>NaN</td>\n",
       "      <td>NaN</td>\n",
       "      <td>NaN</td>\n",
       "      <td>...</td>\n",
       "      <td>NaN</td>\n",
       "      <td>NaN</td>\n",
       "      <td>NaN</td>\n",
       "      <td>NaN</td>\n",
       "      <td>NaN</td>\n",
       "      <td>NaN</td>\n",
       "      <td>NaN</td>\n",
       "      <td>NaN</td>\n",
       "      <td>NaN</td>\n",
       "      <td>CCCC[n+]1ccccc1.F[P-](F)(F)(F)(F)F</td>\n",
       "    </tr>\n",
       "    <tr>\n",
       "      <th>2983</th>\n",
       "      <td>F[P-](F)(F)(F)(F)F.CCCN1C=C[N+](C)=C1</td>\n",
       "      <td>NaN</td>\n",
       "      <td>NaN</td>\n",
       "      <td>NaN</td>\n",
       "      <td>NaN</td>\n",
       "      <td>NaN</td>\n",
       "      <td>NaN</td>\n",
       "      <td>NaN</td>\n",
       "      <td>NaN</td>\n",
       "      <td>NaN</td>\n",
       "      <td>...</td>\n",
       "      <td>NaN</td>\n",
       "      <td>NaN</td>\n",
       "      <td>NaN</td>\n",
       "      <td>NaN</td>\n",
       "      <td>NaN</td>\n",
       "      <td>NaN</td>\n",
       "      <td>NaN</td>\n",
       "      <td>NaN</td>\n",
       "      <td>NaN</td>\n",
       "      <td>CCCn1cc[n+](C)c1.F[P-](F)(F)(F)(F)F</td>\n",
       "    </tr>\n",
       "    <tr>\n",
       "      <th>3020</th>\n",
       "      <td>F[P-](F)(F)(F)(F)F.CCCCCCCCCCCCN1C=C[N+](C)=C1</td>\n",
       "      <td>NaN</td>\n",
       "      <td>NaN</td>\n",
       "      <td>NaN</td>\n",
       "      <td>NaN</td>\n",
       "      <td>NaN</td>\n",
       "      <td>NaN</td>\n",
       "      <td>NaN</td>\n",
       "      <td>NaN</td>\n",
       "      <td>NaN</td>\n",
       "      <td>...</td>\n",
       "      <td>NaN</td>\n",
       "      <td>NaN</td>\n",
       "      <td>NaN</td>\n",
       "      <td>NaN</td>\n",
       "      <td>NaN</td>\n",
       "      <td>NaN</td>\n",
       "      <td>NaN</td>\n",
       "      <td>NaN</td>\n",
       "      <td>NaN</td>\n",
       "      <td>CCCCCCCCCCCCn1cc[n+](C)c1.F[P-](F)(F)(F)(F)F</td>\n",
       "    </tr>\n",
       "    <tr>\n",
       "      <th>3021</th>\n",
       "      <td>F[P-](F)(F)(F)(F)F.CCCCCCCCCCCCCCN1C=C[N+](C)=C1</td>\n",
       "      <td>NaN</td>\n",
       "      <td>NaN</td>\n",
       "      <td>NaN</td>\n",
       "      <td>NaN</td>\n",
       "      <td>NaN</td>\n",
       "      <td>NaN</td>\n",
       "      <td>NaN</td>\n",
       "      <td>NaN</td>\n",
       "      <td>NaN</td>\n",
       "      <td>...</td>\n",
       "      <td>NaN</td>\n",
       "      <td>NaN</td>\n",
       "      <td>NaN</td>\n",
       "      <td>NaN</td>\n",
       "      <td>NaN</td>\n",
       "      <td>NaN</td>\n",
       "      <td>NaN</td>\n",
       "      <td>NaN</td>\n",
       "      <td>NaN</td>\n",
       "      <td>CCCCCCCCCCCCCCn1cc[n+](C)c1.F[P-](F)(F)(F)(F)F</td>\n",
       "    </tr>\n",
       "    <tr>\n",
       "      <th>3022</th>\n",
       "      <td>F[P-](F)(F)(F)(F)F.CCCCCCCCCCCCCCCCN1C=C[N+](C...</td>\n",
       "      <td>NaN</td>\n",
       "      <td>NaN</td>\n",
       "      <td>NaN</td>\n",
       "      <td>NaN</td>\n",
       "      <td>NaN</td>\n",
       "      <td>NaN</td>\n",
       "      <td>NaN</td>\n",
       "      <td>NaN</td>\n",
       "      <td>NaN</td>\n",
       "      <td>...</td>\n",
       "      <td>NaN</td>\n",
       "      <td>NaN</td>\n",
       "      <td>NaN</td>\n",
       "      <td>NaN</td>\n",
       "      <td>NaN</td>\n",
       "      <td>NaN</td>\n",
       "      <td>NaN</td>\n",
       "      <td>NaN</td>\n",
       "      <td>NaN</td>\n",
       "      <td>CCCCCCCCCCCCCCCCn1cc[n+](C)c1.F[P-](F)(F)(F)(F)F</td>\n",
       "    </tr>\n",
       "    <tr>\n",
       "      <th>3023</th>\n",
       "      <td>F[P-](F)(F)(F)(F)F.CCCCCCCCCCCCCCCCCCN1C=C[N+]...</td>\n",
       "      <td>NaN</td>\n",
       "      <td>NaN</td>\n",
       "      <td>NaN</td>\n",
       "      <td>NaN</td>\n",
       "      <td>NaN</td>\n",
       "      <td>NaN</td>\n",
       "      <td>NaN</td>\n",
       "      <td>NaN</td>\n",
       "      <td>NaN</td>\n",
       "      <td>...</td>\n",
       "      <td>NaN</td>\n",
       "      <td>NaN</td>\n",
       "      <td>NaN</td>\n",
       "      <td>NaN</td>\n",
       "      <td>NaN</td>\n",
       "      <td>NaN</td>\n",
       "      <td>NaN</td>\n",
       "      <td>NaN</td>\n",
       "      <td>NaN</td>\n",
       "      <td>CCCCCCCCCCCCCCCCCCn1cc[n+](C)c1.F[P-](F)(F)(F)...</td>\n",
       "    </tr>\n",
       "    <tr>\n",
       "      <th>3107</th>\n",
       "      <td>F[P-](F)(F)(F)(F)F.CCCCN1C=C[N+](C)=C1C</td>\n",
       "      <td>NaN</td>\n",
       "      <td>NaN</td>\n",
       "      <td>NaN</td>\n",
       "      <td>NaN</td>\n",
       "      <td>NaN</td>\n",
       "      <td>NaN</td>\n",
       "      <td>NaN</td>\n",
       "      <td>NaN</td>\n",
       "      <td>NaN</td>\n",
       "      <td>...</td>\n",
       "      <td>NaN</td>\n",
       "      <td>NaN</td>\n",
       "      <td>NaN</td>\n",
       "      <td>NaN</td>\n",
       "      <td>NaN</td>\n",
       "      <td>NaN</td>\n",
       "      <td>NaN</td>\n",
       "      <td>NaN</td>\n",
       "      <td>NaN</td>\n",
       "      <td>CCCCn1cc[n+](C)c1C.F[P-](F)(F)(F)(F)F</td>\n",
       "    </tr>\n",
       "    <tr>\n",
       "      <th>3652</th>\n",
       "      <td>F[P-](F)(F)(F)(F)F.CCN1C=C[N+](C)=C1C</td>\n",
       "      <td>NaN</td>\n",
       "      <td>NaN</td>\n",
       "      <td>NaN</td>\n",
       "      <td>NaN</td>\n",
       "      <td>NaN</td>\n",
       "      <td>NaN</td>\n",
       "      <td>NaN</td>\n",
       "      <td>NaN</td>\n",
       "      <td>NaN</td>\n",
       "      <td>...</td>\n",
       "      <td>NaN</td>\n",
       "      <td>NaN</td>\n",
       "      <td>NaN</td>\n",
       "      <td>NaN</td>\n",
       "      <td>NaN</td>\n",
       "      <td>NaN</td>\n",
       "      <td>NaN</td>\n",
       "      <td>NaN</td>\n",
       "      <td>NaN</td>\n",
       "      <td>CCn1cc[n+](C)c1C.F[P-](F)(F)(F)(F)F</td>\n",
       "    </tr>\n",
       "    <tr>\n",
       "      <th>3763</th>\n",
       "      <td>F[P-](F)(F)(F)(F)F.CCCCCCN1C=C[N+](C)=C1</td>\n",
       "      <td>NaN</td>\n",
       "      <td>NaN</td>\n",
       "      <td>NaN</td>\n",
       "      <td>NaN</td>\n",
       "      <td>NaN</td>\n",
       "      <td>NaN</td>\n",
       "      <td>NaN</td>\n",
       "      <td>NaN</td>\n",
       "      <td>NaN</td>\n",
       "      <td>...</td>\n",
       "      <td>NaN</td>\n",
       "      <td>NaN</td>\n",
       "      <td>NaN</td>\n",
       "      <td>NaN</td>\n",
       "      <td>NaN</td>\n",
       "      <td>NaN</td>\n",
       "      <td>NaN</td>\n",
       "      <td>NaN</td>\n",
       "      <td>NaN</td>\n",
       "      <td>CCCCCCn1cc[n+](C)c1.F[P-](F)(F)(F)(F)F</td>\n",
       "    </tr>\n",
       "    <tr>\n",
       "      <th>3764</th>\n",
       "      <td>F[P-](F)(F)(F)(F)F.CCCCCCCCN1C=C[N+](C)=C1</td>\n",
       "      <td>NaN</td>\n",
       "      <td>NaN</td>\n",
       "      <td>NaN</td>\n",
       "      <td>NaN</td>\n",
       "      <td>NaN</td>\n",
       "      <td>NaN</td>\n",
       "      <td>NaN</td>\n",
       "      <td>NaN</td>\n",
       "      <td>NaN</td>\n",
       "      <td>...</td>\n",
       "      <td>NaN</td>\n",
       "      <td>NaN</td>\n",
       "      <td>NaN</td>\n",
       "      <td>NaN</td>\n",
       "      <td>NaN</td>\n",
       "      <td>NaN</td>\n",
       "      <td>NaN</td>\n",
       "      <td>NaN</td>\n",
       "      <td>NaN</td>\n",
       "      <td>CCCCCCCCn1cc[n+](C)c1.F[P-](F)(F)(F)(F)F</td>\n",
       "    </tr>\n",
       "    <tr>\n",
       "      <th>3914</th>\n",
       "      <td>F[P-](F)(F)(F)(F)F.CCC[N+]1(C)CCCC1</td>\n",
       "      <td>NaN</td>\n",
       "      <td>NaN</td>\n",
       "      <td>NaN</td>\n",
       "      <td>NaN</td>\n",
       "      <td>NaN</td>\n",
       "      <td>NaN</td>\n",
       "      <td>NaN</td>\n",
       "      <td>NaN</td>\n",
       "      <td>NaN</td>\n",
       "      <td>...</td>\n",
       "      <td>NaN</td>\n",
       "      <td>NaN</td>\n",
       "      <td>NaN</td>\n",
       "      <td>NaN</td>\n",
       "      <td>NaN</td>\n",
       "      <td>NaN</td>\n",
       "      <td>NaN</td>\n",
       "      <td>NaN</td>\n",
       "      <td>NaN</td>\n",
       "      <td>CCC[N+]1(C)CCCC1.F[P-](F)(F)(F)(F)F</td>\n",
       "    </tr>\n",
       "    <tr>\n",
       "      <th>3948</th>\n",
       "      <td>F[P-](F)(F)(F)(F)F.CCCC[N+]1(C)CCCC1</td>\n",
       "      <td>NaN</td>\n",
       "      <td>NaN</td>\n",
       "      <td>NaN</td>\n",
       "      <td>NaN</td>\n",
       "      <td>NaN</td>\n",
       "      <td>NaN</td>\n",
       "      <td>NaN</td>\n",
       "      <td>NaN</td>\n",
       "      <td>NaN</td>\n",
       "      <td>...</td>\n",
       "      <td>NaN</td>\n",
       "      <td>NaN</td>\n",
       "      <td>NaN</td>\n",
       "      <td>NaN</td>\n",
       "      <td>NaN</td>\n",
       "      <td>NaN</td>\n",
       "      <td>NaN</td>\n",
       "      <td>NaN</td>\n",
       "      <td>NaN</td>\n",
       "      <td>CCCC[N+]1(C)CCCC1.F[P-](F)(F)(F)(F)F</td>\n",
       "    </tr>\n",
       "    <tr>\n",
       "      <th>4172</th>\n",
       "      <td>F[P-](F)(F)(F)(F)F.CCCCCCCCCCN1C=C[N+](C)=C1</td>\n",
       "      <td>NaN</td>\n",
       "      <td>NaN</td>\n",
       "      <td>NaN</td>\n",
       "      <td>NaN</td>\n",
       "      <td>NaN</td>\n",
       "      <td>NaN</td>\n",
       "      <td>NaN</td>\n",
       "      <td>NaN</td>\n",
       "      <td>NaN</td>\n",
       "      <td>...</td>\n",
       "      <td>NaN</td>\n",
       "      <td>NaN</td>\n",
       "      <td>NaN</td>\n",
       "      <td>NaN</td>\n",
       "      <td>NaN</td>\n",
       "      <td>NaN</td>\n",
       "      <td>NaN</td>\n",
       "      <td>NaN</td>\n",
       "      <td>NaN</td>\n",
       "      <td>CCCCCCCCCCn1cc[n+](C)c1.F[P-](F)(F)(F)(F)F</td>\n",
       "    </tr>\n",
       "    <tr>\n",
       "      <th>4264</th>\n",
       "      <td>F[P-](F)(F)(F)(F)F.CCCCCCCCCCCCCC[P+](CCCCCC)(...</td>\n",
       "      <td>NaN</td>\n",
       "      <td>NaN</td>\n",
       "      <td>NaN</td>\n",
       "      <td>NaN</td>\n",
       "      <td>NaN</td>\n",
       "      <td>NaN</td>\n",
       "      <td>NaN</td>\n",
       "      <td>NaN</td>\n",
       "      <td>NaN</td>\n",
       "      <td>...</td>\n",
       "      <td>NaN</td>\n",
       "      <td>NaN</td>\n",
       "      <td>NaN</td>\n",
       "      <td>NaN</td>\n",
       "      <td>NaN</td>\n",
       "      <td>NaN</td>\n",
       "      <td>NaN</td>\n",
       "      <td>NaN</td>\n",
       "      <td>NaN</td>\n",
       "      <td>CCCCCCCCCCCCCC[P+](CCCCCC)(CCCCCC)CCCCCC.F[P-]...</td>\n",
       "    </tr>\n",
       "    <tr>\n",
       "      <th>4408</th>\n",
       "      <td>F[P-](F)(F)(F)(F)F.CCCC[N+]1=CC=C(C)C=C1</td>\n",
       "      <td>NaN</td>\n",
       "      <td>NaN</td>\n",
       "      <td>NaN</td>\n",
       "      <td>NaN</td>\n",
       "      <td>NaN</td>\n",
       "      <td>NaN</td>\n",
       "      <td>NaN</td>\n",
       "      <td>NaN</td>\n",
       "      <td>NaN</td>\n",
       "      <td>...</td>\n",
       "      <td>NaN</td>\n",
       "      <td>NaN</td>\n",
       "      <td>NaN</td>\n",
       "      <td>NaN</td>\n",
       "      <td>NaN</td>\n",
       "      <td>NaN</td>\n",
       "      <td>NaN</td>\n",
       "      <td>NaN</td>\n",
       "      <td>NaN</td>\n",
       "      <td>CCCC[n+]1ccc(C)cc1.F[P-](F)(F)(F)(F)F</td>\n",
       "    </tr>\n",
       "    <tr>\n",
       "      <th>7018</th>\n",
       "      <td>[Cl-].[Cl-].[Cu++]</td>\n",
       "      <td>NaN</td>\n",
       "      <td>NaN</td>\n",
       "      <td>NaN</td>\n",
       "      <td>NaN</td>\n",
       "      <td>NaN</td>\n",
       "      <td>NaN</td>\n",
       "      <td>NaN</td>\n",
       "      <td>NaN</td>\n",
       "      <td>NaN</td>\n",
       "      <td>...</td>\n",
       "      <td>NaN</td>\n",
       "      <td>NaN</td>\n",
       "      <td>NaN</td>\n",
       "      <td>NaN</td>\n",
       "      <td>NaN</td>\n",
       "      <td>NaN</td>\n",
       "      <td>NaN</td>\n",
       "      <td>NaN</td>\n",
       "      <td>NaN</td>\n",
       "      <td>[Cl-].[Cl-].[Cu+2]</td>\n",
       "    </tr>\n",
       "    <tr>\n",
       "      <th>7034</th>\n",
       "      <td>[Cl-].[Cl-].[Hg++]</td>\n",
       "      <td>1.0</td>\n",
       "      <td>0.0</td>\n",
       "      <td>0.0</td>\n",
       "      <td>0.0</td>\n",
       "      <td>0.0</td>\n",
       "      <td>1.0</td>\n",
       "      <td>1.0</td>\n",
       "      <td>1.0</td>\n",
       "      <td>0.0</td>\n",
       "      <td>...</td>\n",
       "      <td>1.0</td>\n",
       "      <td>1.0</td>\n",
       "      <td>1.0</td>\n",
       "      <td>1.0</td>\n",
       "      <td>1.0</td>\n",
       "      <td>1.0</td>\n",
       "      <td>1.0</td>\n",
       "      <td>1.0</td>\n",
       "      <td>1.0</td>\n",
       "      <td>[Cl-].[Cl-].[Hg+2]</td>\n",
       "    </tr>\n",
       "    <tr>\n",
       "      <th>7162</th>\n",
       "      <td>[Na+].[Br-]</td>\n",
       "      <td>NaN</td>\n",
       "      <td>NaN</td>\n",
       "      <td>NaN</td>\n",
       "      <td>NaN</td>\n",
       "      <td>NaN</td>\n",
       "      <td>NaN</td>\n",
       "      <td>NaN</td>\n",
       "      <td>NaN</td>\n",
       "      <td>NaN</td>\n",
       "      <td>...</td>\n",
       "      <td>NaN</td>\n",
       "      <td>NaN</td>\n",
       "      <td>NaN</td>\n",
       "      <td>NaN</td>\n",
       "      <td>NaN</td>\n",
       "      <td>NaN</td>\n",
       "      <td>NaN</td>\n",
       "      <td>NaN</td>\n",
       "      <td>NaN</td>\n",
       "      <td>[Br-].[Na+]</td>\n",
       "    </tr>\n",
       "    <tr>\n",
       "      <th>7188</th>\n",
       "      <td>[K+].[I-]</td>\n",
       "      <td>NaN</td>\n",
       "      <td>NaN</td>\n",
       "      <td>NaN</td>\n",
       "      <td>NaN</td>\n",
       "      <td>NaN</td>\n",
       "      <td>NaN</td>\n",
       "      <td>NaN</td>\n",
       "      <td>NaN</td>\n",
       "      <td>NaN</td>\n",
       "      <td>...</td>\n",
       "      <td>NaN</td>\n",
       "      <td>NaN</td>\n",
       "      <td>NaN</td>\n",
       "      <td>NaN</td>\n",
       "      <td>NaN</td>\n",
       "      <td>NaN</td>\n",
       "      <td>NaN</td>\n",
       "      <td>NaN</td>\n",
       "      <td>NaN</td>\n",
       "      <td>[I-].[K+]</td>\n",
       "    </tr>\n",
       "    <tr>\n",
       "      <th>7211</th>\n",
       "      <td>[Cl-].[Cl-].[Cl-].[Fe+3]</td>\n",
       "      <td>NaN</td>\n",
       "      <td>NaN</td>\n",
       "      <td>NaN</td>\n",
       "      <td>NaN</td>\n",
       "      <td>NaN</td>\n",
       "      <td>NaN</td>\n",
       "      <td>NaN</td>\n",
       "      <td>NaN</td>\n",
       "      <td>NaN</td>\n",
       "      <td>...</td>\n",
       "      <td>NaN</td>\n",
       "      <td>NaN</td>\n",
       "      <td>NaN</td>\n",
       "      <td>NaN</td>\n",
       "      <td>NaN</td>\n",
       "      <td>NaN</td>\n",
       "      <td>NaN</td>\n",
       "      <td>NaN</td>\n",
       "      <td>NaN</td>\n",
       "      <td>[Cl-].[Cl-].[Cl-].[Fe+3]</td>\n",
       "    </tr>\n",
       "    <tr>\n",
       "      <th>7255</th>\n",
       "      <td>[Cl-].[Cl-].[Fe++]</td>\n",
       "      <td>NaN</td>\n",
       "      <td>NaN</td>\n",
       "      <td>NaN</td>\n",
       "      <td>NaN</td>\n",
       "      <td>NaN</td>\n",
       "      <td>NaN</td>\n",
       "      <td>NaN</td>\n",
       "      <td>NaN</td>\n",
       "      <td>NaN</td>\n",
       "      <td>...</td>\n",
       "      <td>NaN</td>\n",
       "      <td>NaN</td>\n",
       "      <td>NaN</td>\n",
       "      <td>NaN</td>\n",
       "      <td>NaN</td>\n",
       "      <td>NaN</td>\n",
       "      <td>NaN</td>\n",
       "      <td>NaN</td>\n",
       "      <td>NaN</td>\n",
       "      <td>[Cl-].[Cl-].[Fe+2]</td>\n",
       "    </tr>\n",
       "    <tr>\n",
       "      <th>7262</th>\n",
       "      <td>[Cl-].[Cl-].[SnH2++]</td>\n",
       "      <td>NaN</td>\n",
       "      <td>NaN</td>\n",
       "      <td>NaN</td>\n",
       "      <td>NaN</td>\n",
       "      <td>NaN</td>\n",
       "      <td>NaN</td>\n",
       "      <td>NaN</td>\n",
       "      <td>NaN</td>\n",
       "      <td>NaN</td>\n",
       "      <td>...</td>\n",
       "      <td>NaN</td>\n",
       "      <td>NaN</td>\n",
       "      <td>NaN</td>\n",
       "      <td>NaN</td>\n",
       "      <td>NaN</td>\n",
       "      <td>NaN</td>\n",
       "      <td>NaN</td>\n",
       "      <td>NaN</td>\n",
       "      <td>NaN</td>\n",
       "      <td>[Cl-].[Cl-].[SnH2+2]</td>\n",
       "    </tr>\n",
       "    <tr>\n",
       "      <th>7266</th>\n",
       "      <td>[I-].[I-].[Hg++]</td>\n",
       "      <td>NaN</td>\n",
       "      <td>NaN</td>\n",
       "      <td>NaN</td>\n",
       "      <td>NaN</td>\n",
       "      <td>NaN</td>\n",
       "      <td>NaN</td>\n",
       "      <td>NaN</td>\n",
       "      <td>NaN</td>\n",
       "      <td>NaN</td>\n",
       "      <td>...</td>\n",
       "      <td>NaN</td>\n",
       "      <td>NaN</td>\n",
       "      <td>NaN</td>\n",
       "      <td>NaN</td>\n",
       "      <td>NaN</td>\n",
       "      <td>NaN</td>\n",
       "      <td>NaN</td>\n",
       "      <td>NaN</td>\n",
       "      <td>NaN</td>\n",
       "      <td>[Hg+2].[I-].[I-]</td>\n",
       "    </tr>\n",
       "    <tr>\n",
       "      <th>7435</th>\n",
       "      <td>F[P-](F)(F)(F)(F)F.CCCCCC[N+]1=CC=CC=C1</td>\n",
       "      <td>NaN</td>\n",
       "      <td>NaN</td>\n",
       "      <td>NaN</td>\n",
       "      <td>NaN</td>\n",
       "      <td>NaN</td>\n",
       "      <td>NaN</td>\n",
       "      <td>NaN</td>\n",
       "      <td>NaN</td>\n",
       "      <td>NaN</td>\n",
       "      <td>...</td>\n",
       "      <td>NaN</td>\n",
       "      <td>NaN</td>\n",
       "      <td>NaN</td>\n",
       "      <td>NaN</td>\n",
       "      <td>NaN</td>\n",
       "      <td>NaN</td>\n",
       "      <td>NaN</td>\n",
       "      <td>NaN</td>\n",
       "      <td>NaN</td>\n",
       "      <td>CCCCCC[n+]1ccccc1.F[P-](F)(F)(F)(F)F</td>\n",
       "    </tr>\n",
       "    <tr>\n",
       "      <th>7696</th>\n",
       "      <td>F[P-](F)(F)(F)(F)F.CCCC[N+]1=CC=CC(C)=C1</td>\n",
       "      <td>NaN</td>\n",
       "      <td>NaN</td>\n",
       "      <td>NaN</td>\n",
       "      <td>NaN</td>\n",
       "      <td>NaN</td>\n",
       "      <td>NaN</td>\n",
       "      <td>NaN</td>\n",
       "      <td>NaN</td>\n",
       "      <td>NaN</td>\n",
       "      <td>...</td>\n",
       "      <td>NaN</td>\n",
       "      <td>NaN</td>\n",
       "      <td>NaN</td>\n",
       "      <td>NaN</td>\n",
       "      <td>NaN</td>\n",
       "      <td>NaN</td>\n",
       "      <td>NaN</td>\n",
       "      <td>NaN</td>\n",
       "      <td>NaN</td>\n",
       "      <td>CCCC[n+]1cccc(C)c1.F[P-](F)(F)(F)(F)F</td>\n",
       "    </tr>\n",
       "    <tr>\n",
       "      <th>8589</th>\n",
       "      <td>F[P-](F)(F)(F)(F)F.CCCC[N+]1(C)CCCCC1</td>\n",
       "      <td>NaN</td>\n",
       "      <td>NaN</td>\n",
       "      <td>NaN</td>\n",
       "      <td>NaN</td>\n",
       "      <td>NaN</td>\n",
       "      <td>NaN</td>\n",
       "      <td>NaN</td>\n",
       "      <td>NaN</td>\n",
       "      <td>NaN</td>\n",
       "      <td>...</td>\n",
       "      <td>NaN</td>\n",
       "      <td>NaN</td>\n",
       "      <td>NaN</td>\n",
       "      <td>NaN</td>\n",
       "      <td>NaN</td>\n",
       "      <td>NaN</td>\n",
       "      <td>NaN</td>\n",
       "      <td>NaN</td>\n",
       "      <td>NaN</td>\n",
       "      <td>CCCC[N+]1(C)CCCCC1.F[P-](F)(F)(F)(F)F</td>\n",
       "    </tr>\n",
       "    <tr>\n",
       "      <th>8590</th>\n",
       "      <td>F[P-](F)(F)(F)(F)F.CCC[N+]1(C)CCCCC1</td>\n",
       "      <td>NaN</td>\n",
       "      <td>NaN</td>\n",
       "      <td>NaN</td>\n",
       "      <td>NaN</td>\n",
       "      <td>NaN</td>\n",
       "      <td>NaN</td>\n",
       "      <td>NaN</td>\n",
       "      <td>NaN</td>\n",
       "      <td>NaN</td>\n",
       "      <td>...</td>\n",
       "      <td>NaN</td>\n",
       "      <td>NaN</td>\n",
       "      <td>NaN</td>\n",
       "      <td>NaN</td>\n",
       "      <td>NaN</td>\n",
       "      <td>NaN</td>\n",
       "      <td>NaN</td>\n",
       "      <td>NaN</td>\n",
       "      <td>NaN</td>\n",
       "      <td>CCC[N+]1(C)CCCCC1.F[P-](F)(F)(F)(F)F</td>\n",
       "    </tr>\n",
       "    <tr>\n",
       "      <th>8593</th>\n",
       "      <td>F[P-](F)(F)(F)(F)F.CCCC[N+]1=CC=CC=C1C</td>\n",
       "      <td>NaN</td>\n",
       "      <td>NaN</td>\n",
       "      <td>NaN</td>\n",
       "      <td>NaN</td>\n",
       "      <td>NaN</td>\n",
       "      <td>NaN</td>\n",
       "      <td>NaN</td>\n",
       "      <td>NaN</td>\n",
       "      <td>NaN</td>\n",
       "      <td>...</td>\n",
       "      <td>NaN</td>\n",
       "      <td>NaN</td>\n",
       "      <td>NaN</td>\n",
       "      <td>NaN</td>\n",
       "      <td>NaN</td>\n",
       "      <td>NaN</td>\n",
       "      <td>NaN</td>\n",
       "      <td>NaN</td>\n",
       "      <td>NaN</td>\n",
       "      <td>CCCC[n+]1ccccc1C.F[P-](F)(F)(F)(F)F</td>\n",
       "    </tr>\n",
       "  </tbody>\n",
       "</table>\n",
       "<p>36 rows × 619 columns</p>\n",
       "</div>"
      ],
      "text/plain": [
       "                                                 smiles  \\\n",
       "47                                   [Cl-].[Cl-].[Ca++]   \n",
       "93                                   [Cl-].[Cl-].[Cd++]   \n",
       "213                 F[P-](F)(F)(F)(F)F.CC[N+]1=CC=CC=C1   \n",
       "220                              O.O.[Cl-].[Cl-].[Ba++]   \n",
       "1203                 F[P-](F)(F)(F)(F)F.CC[N+]1(C)CCCC1   \n",
       "1777   O.O.[Na+].[Na+].O=N[Fe--](C#N)(C#N)(C#N)(C#N)C#N   \n",
       "2259               F[P-](F)(F)(F)(F)F.CCN1C=C[N+](C)=C1   \n",
       "2532             F[P-](F)(F)(F)(F)F.CCCCN1C=C[N+](C)=C1   \n",
       "2676              F[P-](F)(F)(F)(F)F.CCCC[N+]1=CC=CC=C1   \n",
       "2983              F[P-](F)(F)(F)(F)F.CCCN1C=C[N+](C)=C1   \n",
       "3020     F[P-](F)(F)(F)(F)F.CCCCCCCCCCCCN1C=C[N+](C)=C1   \n",
       "3021   F[P-](F)(F)(F)(F)F.CCCCCCCCCCCCCCN1C=C[N+](C)=C1   \n",
       "3022  F[P-](F)(F)(F)(F)F.CCCCCCCCCCCCCCCCN1C=C[N+](C...   \n",
       "3023  F[P-](F)(F)(F)(F)F.CCCCCCCCCCCCCCCCCCN1C=C[N+]...   \n",
       "3107            F[P-](F)(F)(F)(F)F.CCCCN1C=C[N+](C)=C1C   \n",
       "3652              F[P-](F)(F)(F)(F)F.CCN1C=C[N+](C)=C1C   \n",
       "3763           F[P-](F)(F)(F)(F)F.CCCCCCN1C=C[N+](C)=C1   \n",
       "3764         F[P-](F)(F)(F)(F)F.CCCCCCCCN1C=C[N+](C)=C1   \n",
       "3914                F[P-](F)(F)(F)(F)F.CCC[N+]1(C)CCCC1   \n",
       "3948               F[P-](F)(F)(F)(F)F.CCCC[N+]1(C)CCCC1   \n",
       "4172       F[P-](F)(F)(F)(F)F.CCCCCCCCCCN1C=C[N+](C)=C1   \n",
       "4264  F[P-](F)(F)(F)(F)F.CCCCCCCCCCCCCC[P+](CCCCCC)(...   \n",
       "4408           F[P-](F)(F)(F)(F)F.CCCC[N+]1=CC=C(C)C=C1   \n",
       "7018                                 [Cl-].[Cl-].[Cu++]   \n",
       "7034                                 [Cl-].[Cl-].[Hg++]   \n",
       "7162                                        [Na+].[Br-]   \n",
       "7188                                          [K+].[I-]   \n",
       "7211                           [Cl-].[Cl-].[Cl-].[Fe+3]   \n",
       "7255                                 [Cl-].[Cl-].[Fe++]   \n",
       "7262                               [Cl-].[Cl-].[SnH2++]   \n",
       "7266                                   [I-].[I-].[Hg++]   \n",
       "7435            F[P-](F)(F)(F)(F)F.CCCCCC[N+]1=CC=CC=C1   \n",
       "7696           F[P-](F)(F)(F)(F)F.CCCC[N+]1=CC=CC(C)=C1   \n",
       "8589              F[P-](F)(F)(F)(F)F.CCCC[N+]1(C)CCCCC1   \n",
       "8590               F[P-](F)(F)(F)(F)F.CCC[N+]1(C)CCCCC1   \n",
       "8593             F[P-](F)(F)(F)(F)F.CCCC[N+]1=CC=CC=C1C   \n",
       "\n",
       "      ACEA_T47D_80hr_Negative  ACEA_T47D_80hr_Positive  \\\n",
       "47                        NaN                      NaN   \n",
       "93                        NaN                      NaN   \n",
       "213                       NaN                      NaN   \n",
       "220                       NaN                      NaN   \n",
       "1203                      NaN                      NaN   \n",
       "1777                      NaN                      NaN   \n",
       "2259                      NaN                      NaN   \n",
       "2532                      NaN                      NaN   \n",
       "2676                      NaN                      NaN   \n",
       "2983                      NaN                      NaN   \n",
       "3020                      NaN                      NaN   \n",
       "3021                      NaN                      NaN   \n",
       "3022                      NaN                      NaN   \n",
       "3023                      NaN                      NaN   \n",
       "3107                      NaN                      NaN   \n",
       "3652                      NaN                      NaN   \n",
       "3763                      NaN                      NaN   \n",
       "3764                      NaN                      NaN   \n",
       "3914                      NaN                      NaN   \n",
       "3948                      NaN                      NaN   \n",
       "4172                      NaN                      NaN   \n",
       "4264                      NaN                      NaN   \n",
       "4408                      NaN                      NaN   \n",
       "7018                      NaN                      NaN   \n",
       "7034                      1.0                      0.0   \n",
       "7162                      NaN                      NaN   \n",
       "7188                      NaN                      NaN   \n",
       "7211                      NaN                      NaN   \n",
       "7255                      NaN                      NaN   \n",
       "7262                      NaN                      NaN   \n",
       "7266                      NaN                      NaN   \n",
       "7435                      NaN                      NaN   \n",
       "7696                      NaN                      NaN   \n",
       "8589                      NaN                      NaN   \n",
       "8590                      NaN                      NaN   \n",
       "8593                      NaN                      NaN   \n",
       "\n",
       "      APR_HepG2_CellCycleArrest_24h_dn  APR_HepG2_CellCycleArrest_24h_up  \\\n",
       "47                                 NaN                               NaN   \n",
       "93                                 NaN                               NaN   \n",
       "213                                NaN                               NaN   \n",
       "220                                NaN                               NaN   \n",
       "1203                               NaN                               NaN   \n",
       "1777                               NaN                               NaN   \n",
       "2259                               NaN                               NaN   \n",
       "2532                               NaN                               NaN   \n",
       "2676                               NaN                               NaN   \n",
       "2983                               NaN                               NaN   \n",
       "3020                               NaN                               NaN   \n",
       "3021                               NaN                               NaN   \n",
       "3022                               NaN                               NaN   \n",
       "3023                               NaN                               NaN   \n",
       "3107                               NaN                               NaN   \n",
       "3652                               NaN                               NaN   \n",
       "3763                               NaN                               NaN   \n",
       "3764                               NaN                               NaN   \n",
       "3914                               NaN                               NaN   \n",
       "3948                               NaN                               NaN   \n",
       "4172                               NaN                               NaN   \n",
       "4264                               NaN                               NaN   \n",
       "4408                               NaN                               NaN   \n",
       "7018                               NaN                               NaN   \n",
       "7034                               0.0                               0.0   \n",
       "7162                               NaN                               NaN   \n",
       "7188                               NaN                               NaN   \n",
       "7211                               NaN                               NaN   \n",
       "7255                               NaN                               NaN   \n",
       "7262                               NaN                               NaN   \n",
       "7266                               NaN                               NaN   \n",
       "7435                               NaN                               NaN   \n",
       "7696                               NaN                               NaN   \n",
       "8589                               NaN                               NaN   \n",
       "8590                               NaN                               NaN   \n",
       "8593                               NaN                               NaN   \n",
       "\n",
       "      APR_HepG2_CellCycleArrest_72h_dn  APR_HepG2_CellLoss_24h_dn  \\\n",
       "47                                 NaN                        NaN   \n",
       "93                                 NaN                        NaN   \n",
       "213                                NaN                        NaN   \n",
       "220                                NaN                        NaN   \n",
       "1203                               NaN                        NaN   \n",
       "1777                               NaN                        NaN   \n",
       "2259                               NaN                        NaN   \n",
       "2532                               NaN                        NaN   \n",
       "2676                               NaN                        NaN   \n",
       "2983                               NaN                        NaN   \n",
       "3020                               NaN                        NaN   \n",
       "3021                               NaN                        NaN   \n",
       "3022                               NaN                        NaN   \n",
       "3023                               NaN                        NaN   \n",
       "3107                               NaN                        NaN   \n",
       "3652                               NaN                        NaN   \n",
       "3763                               NaN                        NaN   \n",
       "3764                               NaN                        NaN   \n",
       "3914                               NaN                        NaN   \n",
       "3948                               NaN                        NaN   \n",
       "4172                               NaN                        NaN   \n",
       "4264                               NaN                        NaN   \n",
       "4408                               NaN                        NaN   \n",
       "7018                               NaN                        NaN   \n",
       "7034                               0.0                        1.0   \n",
       "7162                               NaN                        NaN   \n",
       "7188                               NaN                        NaN   \n",
       "7211                               NaN                        NaN   \n",
       "7255                               NaN                        NaN   \n",
       "7262                               NaN                        NaN   \n",
       "7266                               NaN                        NaN   \n",
       "7435                               NaN                        NaN   \n",
       "7696                               NaN                        NaN   \n",
       "8589                               NaN                        NaN   \n",
       "8590                               NaN                        NaN   \n",
       "8593                               NaN                        NaN   \n",
       "\n",
       "      APR_HepG2_CellLoss_72h_dn  APR_HepG2_MicrotubuleCSK_24h_dn  \\\n",
       "47                          NaN                              NaN   \n",
       "93                          NaN                              NaN   \n",
       "213                         NaN                              NaN   \n",
       "220                         NaN                              NaN   \n",
       "1203                        NaN                              NaN   \n",
       "1777                        NaN                              NaN   \n",
       "2259                        NaN                              NaN   \n",
       "2532                        NaN                              NaN   \n",
       "2676                        NaN                              NaN   \n",
       "2983                        NaN                              NaN   \n",
       "3020                        NaN                              NaN   \n",
       "3021                        NaN                              NaN   \n",
       "3022                        NaN                              NaN   \n",
       "3023                        NaN                              NaN   \n",
       "3107                        NaN                              NaN   \n",
       "3652                        NaN                              NaN   \n",
       "3763                        NaN                              NaN   \n",
       "3764                        NaN                              NaN   \n",
       "3914                        NaN                              NaN   \n",
       "3948                        NaN                              NaN   \n",
       "4172                        NaN                              NaN   \n",
       "4264                        NaN                              NaN   \n",
       "4408                        NaN                              NaN   \n",
       "7018                        NaN                              NaN   \n",
       "7034                        1.0                              1.0   \n",
       "7162                        NaN                              NaN   \n",
       "7188                        NaN                              NaN   \n",
       "7211                        NaN                              NaN   \n",
       "7255                        NaN                              NaN   \n",
       "7262                        NaN                              NaN   \n",
       "7266                        NaN                              NaN   \n",
       "7435                        NaN                              NaN   \n",
       "7696                        NaN                              NaN   \n",
       "8589                        NaN                              NaN   \n",
       "8590                        NaN                              NaN   \n",
       "8593                        NaN                              NaN   \n",
       "\n",
       "      APR_HepG2_MicrotubuleCSK_24h_up  ...  Tanguay_ZF_120hpf_PE_up  \\\n",
       "47                                NaN  ...                      NaN   \n",
       "93                                NaN  ...                      NaN   \n",
       "213                               NaN  ...                      NaN   \n",
       "220                               NaN  ...                      NaN   \n",
       "1203                              NaN  ...                      NaN   \n",
       "1777                              NaN  ...                      NaN   \n",
       "2259                              NaN  ...                      NaN   \n",
       "2532                              NaN  ...                      NaN   \n",
       "2676                              NaN  ...                      NaN   \n",
       "2983                              NaN  ...                      NaN   \n",
       "3020                              NaN  ...                      NaN   \n",
       "3021                              NaN  ...                      NaN   \n",
       "3022                              NaN  ...                      NaN   \n",
       "3023                              NaN  ...                      NaN   \n",
       "3107                              NaN  ...                      NaN   \n",
       "3652                              NaN  ...                      NaN   \n",
       "3763                              NaN  ...                      NaN   \n",
       "3764                              NaN  ...                      NaN   \n",
       "3914                              NaN  ...                      NaN   \n",
       "3948                              NaN  ...                      NaN   \n",
       "4172                              NaN  ...                      NaN   \n",
       "4264                              NaN  ...                      NaN   \n",
       "4408                              NaN  ...                      NaN   \n",
       "7018                              NaN  ...                      NaN   \n",
       "7034                              0.0  ...                      1.0   \n",
       "7162                              NaN  ...                      NaN   \n",
       "7188                              NaN  ...                      NaN   \n",
       "7211                              NaN  ...                      NaN   \n",
       "7255                              NaN  ...                      NaN   \n",
       "7262                              NaN  ...                      NaN   \n",
       "7266                              NaN  ...                      NaN   \n",
       "7435                              NaN  ...                      NaN   \n",
       "7696                              NaN  ...                      NaN   \n",
       "8589                              NaN  ...                      NaN   \n",
       "8590                              NaN  ...                      NaN   \n",
       "8593                              NaN  ...                      NaN   \n",
       "\n",
       "      Tanguay_ZF_120hpf_PFIN_up  Tanguay_ZF_120hpf_PIG_up  \\\n",
       "47                          NaN                       NaN   \n",
       "93                          NaN                       NaN   \n",
       "213                         NaN                       NaN   \n",
       "220                         NaN                       NaN   \n",
       "1203                        NaN                       NaN   \n",
       "1777                        NaN                       NaN   \n",
       "2259                        NaN                       NaN   \n",
       "2532                        NaN                       NaN   \n",
       "2676                        NaN                       NaN   \n",
       "2983                        NaN                       NaN   \n",
       "3020                        NaN                       NaN   \n",
       "3021                        NaN                       NaN   \n",
       "3022                        NaN                       NaN   \n",
       "3023                        NaN                       NaN   \n",
       "3107                        NaN                       NaN   \n",
       "3652                        NaN                       NaN   \n",
       "3763                        NaN                       NaN   \n",
       "3764                        NaN                       NaN   \n",
       "3914                        NaN                       NaN   \n",
       "3948                        NaN                       NaN   \n",
       "4172                        NaN                       NaN   \n",
       "4264                        NaN                       NaN   \n",
       "4408                        NaN                       NaN   \n",
       "7018                        NaN                       NaN   \n",
       "7034                        1.0                       1.0   \n",
       "7162                        NaN                       NaN   \n",
       "7188                        NaN                       NaN   \n",
       "7211                        NaN                       NaN   \n",
       "7255                        NaN                       NaN   \n",
       "7262                        NaN                       NaN   \n",
       "7266                        NaN                       NaN   \n",
       "7435                        NaN                       NaN   \n",
       "7696                        NaN                       NaN   \n",
       "8589                        NaN                       NaN   \n",
       "8590                        NaN                       NaN   \n",
       "8593                        NaN                       NaN   \n",
       "\n",
       "      Tanguay_ZF_120hpf_SNOU_up  Tanguay_ZF_120hpf_SOMI_up  \\\n",
       "47                          NaN                        NaN   \n",
       "93                          NaN                        NaN   \n",
       "213                         NaN                        NaN   \n",
       "220                         NaN                        NaN   \n",
       "1203                        NaN                        NaN   \n",
       "1777                        NaN                        NaN   \n",
       "2259                        NaN                        NaN   \n",
       "2532                        NaN                        NaN   \n",
       "2676                        NaN                        NaN   \n",
       "2983                        NaN                        NaN   \n",
       "3020                        NaN                        NaN   \n",
       "3021                        NaN                        NaN   \n",
       "3022                        NaN                        NaN   \n",
       "3023                        NaN                        NaN   \n",
       "3107                        NaN                        NaN   \n",
       "3652                        NaN                        NaN   \n",
       "3763                        NaN                        NaN   \n",
       "3764                        NaN                        NaN   \n",
       "3914                        NaN                        NaN   \n",
       "3948                        NaN                        NaN   \n",
       "4172                        NaN                        NaN   \n",
       "4264                        NaN                        NaN   \n",
       "4408                        NaN                        NaN   \n",
       "7018                        NaN                        NaN   \n",
       "7034                        1.0                        1.0   \n",
       "7162                        NaN                        NaN   \n",
       "7188                        NaN                        NaN   \n",
       "7211                        NaN                        NaN   \n",
       "7255                        NaN                        NaN   \n",
       "7262                        NaN                        NaN   \n",
       "7266                        NaN                        NaN   \n",
       "7435                        NaN                        NaN   \n",
       "7696                        NaN                        NaN   \n",
       "8589                        NaN                        NaN   \n",
       "8590                        NaN                        NaN   \n",
       "8593                        NaN                        NaN   \n",
       "\n",
       "      Tanguay_ZF_120hpf_SWIM_up  Tanguay_ZF_120hpf_TRUN_up  \\\n",
       "47                          NaN                        NaN   \n",
       "93                          NaN                        NaN   \n",
       "213                         NaN                        NaN   \n",
       "220                         NaN                        NaN   \n",
       "1203                        NaN                        NaN   \n",
       "1777                        NaN                        NaN   \n",
       "2259                        NaN                        NaN   \n",
       "2532                        NaN                        NaN   \n",
       "2676                        NaN                        NaN   \n",
       "2983                        NaN                        NaN   \n",
       "3020                        NaN                        NaN   \n",
       "3021                        NaN                        NaN   \n",
       "3022                        NaN                        NaN   \n",
       "3023                        NaN                        NaN   \n",
       "3107                        NaN                        NaN   \n",
       "3652                        NaN                        NaN   \n",
       "3763                        NaN                        NaN   \n",
       "3764                        NaN                        NaN   \n",
       "3914                        NaN                        NaN   \n",
       "3948                        NaN                        NaN   \n",
       "4172                        NaN                        NaN   \n",
       "4264                        NaN                        NaN   \n",
       "4408                        NaN                        NaN   \n",
       "7018                        NaN                        NaN   \n",
       "7034                        1.0                        1.0   \n",
       "7162                        NaN                        NaN   \n",
       "7188                        NaN                        NaN   \n",
       "7211                        NaN                        NaN   \n",
       "7255                        NaN                        NaN   \n",
       "7262                        NaN                        NaN   \n",
       "7266                        NaN                        NaN   \n",
       "7435                        NaN                        NaN   \n",
       "7696                        NaN                        NaN   \n",
       "8589                        NaN                        NaN   \n",
       "8590                        NaN                        NaN   \n",
       "8593                        NaN                        NaN   \n",
       "\n",
       "      Tanguay_ZF_120hpf_TR_up  Tanguay_ZF_120hpf_YSE_up  \\\n",
       "47                        NaN                       NaN   \n",
       "93                        NaN                       NaN   \n",
       "213                       NaN                       NaN   \n",
       "220                       NaN                       NaN   \n",
       "1203                      NaN                       NaN   \n",
       "1777                      NaN                       NaN   \n",
       "2259                      NaN                       NaN   \n",
       "2532                      NaN                       NaN   \n",
       "2676                      NaN                       NaN   \n",
       "2983                      NaN                       NaN   \n",
       "3020                      NaN                       NaN   \n",
       "3021                      NaN                       NaN   \n",
       "3022                      NaN                       NaN   \n",
       "3023                      NaN                       NaN   \n",
       "3107                      NaN                       NaN   \n",
       "3652                      NaN                       NaN   \n",
       "3763                      NaN                       NaN   \n",
       "3764                      NaN                       NaN   \n",
       "3914                      NaN                       NaN   \n",
       "3948                      NaN                       NaN   \n",
       "4172                      NaN                       NaN   \n",
       "4264                      NaN                       NaN   \n",
       "4408                      NaN                       NaN   \n",
       "7018                      NaN                       NaN   \n",
       "7034                      1.0                       1.0   \n",
       "7162                      NaN                       NaN   \n",
       "7188                      NaN                       NaN   \n",
       "7211                      NaN                       NaN   \n",
       "7255                      NaN                       NaN   \n",
       "7262                      NaN                       NaN   \n",
       "7266                      NaN                       NaN   \n",
       "7435                      NaN                       NaN   \n",
       "7696                      NaN                       NaN   \n",
       "8589                      NaN                       NaN   \n",
       "8590                      NaN                       NaN   \n",
       "8593                      NaN                       NaN   \n",
       "\n",
       "                                            cano_smiles  \n",
       "47                                   [Ca+2].[Cl-].[Cl-]  \n",
       "93                                   [Cd+2].[Cl-].[Cl-]  \n",
       "213                    CC[n+]1ccccc1.F[P-](F)(F)(F)(F)F  \n",
       "220                              O.O.[Ba+2].[Cl-].[Cl-]  \n",
       "1203                 CC[N+]1(C)CCCC1.F[P-](F)(F)(F)(F)F  \n",
       "1777   N#C[Fe-2](C#N)(C#N)(C#N)(C#N)N=O.O.O.[Na+].[Na+]  \n",
       "2259                 CCn1cc[n+](C)c1.F[P-](F)(F)(F)(F)F  \n",
       "2532               CCCCn1cc[n+](C)c1.F[P-](F)(F)(F)(F)F  \n",
       "2676                 CCCC[n+]1ccccc1.F[P-](F)(F)(F)(F)F  \n",
       "2983                CCCn1cc[n+](C)c1.F[P-](F)(F)(F)(F)F  \n",
       "3020       CCCCCCCCCCCCn1cc[n+](C)c1.F[P-](F)(F)(F)(F)F  \n",
       "3021     CCCCCCCCCCCCCCn1cc[n+](C)c1.F[P-](F)(F)(F)(F)F  \n",
       "3022   CCCCCCCCCCCCCCCCn1cc[n+](C)c1.F[P-](F)(F)(F)(F)F  \n",
       "3023  CCCCCCCCCCCCCCCCCCn1cc[n+](C)c1.F[P-](F)(F)(F)...  \n",
       "3107              CCCCn1cc[n+](C)c1C.F[P-](F)(F)(F)(F)F  \n",
       "3652                CCn1cc[n+](C)c1C.F[P-](F)(F)(F)(F)F  \n",
       "3763             CCCCCCn1cc[n+](C)c1.F[P-](F)(F)(F)(F)F  \n",
       "3764           CCCCCCCCn1cc[n+](C)c1.F[P-](F)(F)(F)(F)F  \n",
       "3914                CCC[N+]1(C)CCCC1.F[P-](F)(F)(F)(F)F  \n",
       "3948               CCCC[N+]1(C)CCCC1.F[P-](F)(F)(F)(F)F  \n",
       "4172         CCCCCCCCCCn1cc[n+](C)c1.F[P-](F)(F)(F)(F)F  \n",
       "4264  CCCCCCCCCCCCCC[P+](CCCCCC)(CCCCCC)CCCCCC.F[P-]...  \n",
       "4408              CCCC[n+]1ccc(C)cc1.F[P-](F)(F)(F)(F)F  \n",
       "7018                                 [Cl-].[Cl-].[Cu+2]  \n",
       "7034                                 [Cl-].[Cl-].[Hg+2]  \n",
       "7162                                        [Br-].[Na+]  \n",
       "7188                                          [I-].[K+]  \n",
       "7211                           [Cl-].[Cl-].[Cl-].[Fe+3]  \n",
       "7255                                 [Cl-].[Cl-].[Fe+2]  \n",
       "7262                               [Cl-].[Cl-].[SnH2+2]  \n",
       "7266                                   [Hg+2].[I-].[I-]  \n",
       "7435               CCCCCC[n+]1ccccc1.F[P-](F)(F)(F)(F)F  \n",
       "7696              CCCC[n+]1cccc(C)c1.F[P-](F)(F)(F)(F)F  \n",
       "8589              CCCC[N+]1(C)CCCCC1.F[P-](F)(F)(F)(F)F  \n",
       "8590               CCC[N+]1(C)CCCCC1.F[P-](F)(F)(F)(F)F  \n",
       "8593                CCCC[n+]1ccccc1C.F[P-](F)(F)(F)(F)F  \n",
       "\n",
       "[36 rows x 619 columns]"
      ]
     },
     "execution_count": 6,
     "metadata": {},
     "output_type": "execute_result"
    }
   ],
   "source": [
    "smilesList = [smiles for smiles in canonical_smiles_list if len(Chem.MolFromSmiles(smiles).GetAtoms())<151]\n",
    "uncovered = [smiles for smiles in canonical_smiles_list if len(Chem.MolFromSmiles(smiles).GetAtoms())>150]\n",
    "\n",
    "smiles_tasks_df = smiles_tasks_df[~smiles_tasks_df[\"cano_smiles\"].isin(uncovered)]\n",
    "\n",
    "if os.path.isfile(feature_filename):\n",
    "    feature_dicts = pickle.load(open(feature_filename, \"rb\" ))\n",
    "else:\n",
    "    feature_dicts = save_smiles_dicts(smilesList,filename)\n",
    "# feature_dicts = get_smiles_dicts(smilesList)\n",
    "\n",
    "remained_df = smiles_tasks_df[smiles_tasks_df[\"cano_smiles\"].isin(feature_dicts['smiles_to_atom_mask'].keys())]\n",
    "uncovered_df = smiles_tasks_df.drop(remained_df.index)\n",
    "uncovered_df"
   ]
  },
  {
   "cell_type": "code",
   "execution_count": 7,
   "metadata": {
    "execution": {
     "iopub.execute_input": "2024-07-08T23:39:13.067897Z",
     "iopub.status.busy": "2024-07-08T23:39:13.067631Z",
     "iopub.status.idle": "2024-07-08T23:40:32.817132Z",
     "shell.execute_reply": "2024-07-08T23:40:32.816454Z"
    }
   },
   "outputs": [],
   "source": [
    "weights = []\n",
    "positive_dist = []\n",
    "negative_dist = []\n",
    "for i,task in enumerate(tasks):    \n",
    "    negative_df = remained_df[remained_df[task] == 0][[\"cano_smiles\",task]]\n",
    "    positive_df = remained_df[remained_df[task] == 1][[\"cano_smiles\",task]]\n",
    "    try:\n",
    "        weights.append([(positive_df.shape[0]+negative_df.shape[0])/negative_df.shape[0],\\\n",
    "                        (positive_df.shape[0]+negative_df.shape[0])/positive_df.shape[0]])\n",
    "    except:\n",
    "        weights.append([1,1])\n",
    "        \n",
    "#     print(positive_test.shape[0],negative_test.shape[0])\n",
    "\n",
    "    negative_dist.append(negative_df.shape[0])\n",
    "    positive_dist.append(positive_df.shape[0])\n",
    "    if len(negative_df)!=0:\n",
    "        negative_test = negative_df.sample(frac=0.1,random_state=68)\n",
    "        negative_valid = negative_df.drop(negative_test.index).sample(frac=1/9,random_state=68)\n",
    "        negative_train = negative_df.drop(negative_test.index).drop(negative_valid.index)\n",
    "    else:\n",
    "        negative_test = negative_df\n",
    "        negative_valid = negative_df\n",
    "        negative_train = negative_df\n",
    "        \n",
    "    if len(positive_df)!=0:\n",
    "        positive_test = positive_df.sample(frac=0.1,random_state=68)\n",
    "        positive_valid = positive_df.drop(positive_test.index).sample(frac=1/9,random_state=68)\n",
    "        positive_train = positive_df.drop(positive_test.index).drop(positive_valid.index)\n",
    "    else:\n",
    "        positive_test = positive_df\n",
    "        positive_valid = positive_df\n",
    "        positive_train = positive_df\n",
    "    \n",
    "    train_df_new = pd.concat([negative_train,positive_train])\n",
    "    valid_df_new = pd.concat([negative_valid,positive_valid])\n",
    "    test_df_new = pd.concat([negative_test,positive_test])\n",
    "    if i==0:\n",
    "        train_df = train_df_new\n",
    "        test_df = test_df_new\n",
    "        valid_df = valid_df_new\n",
    "    else:\n",
    "        train_df = pd.merge(train_df, train_df_new, on='cano_smiles', how='outer') \n",
    "        test_df = pd.merge(test_df, test_df_new, on='cano_smiles', how='outer')\n",
    "        valid_df = pd.merge(valid_df, valid_df_new, on='cano_smiles', how='outer')\n",
    "        "
   ]
  },
  {
   "cell_type": "code",
   "execution_count": 8,
   "metadata": {
    "execution": {
     "iopub.execute_input": "2024-07-08T23:40:32.820536Z",
     "iopub.status.busy": "2024-07-08T23:40:32.820281Z",
     "iopub.status.idle": "2024-07-08T23:40:34.492277Z",
     "shell.execute_reply": "2024-07-08T23:40:34.491394Z"
    },
    "scrolled": true
   },
   "outputs": [
    {
     "name": "stdout",
     "output_type": "stream",
     "text": [
      "1393238\n",
      "atom_fc.weight torch.Size([200, 39])\n",
      "atom_fc.bias torch.Size([200])\n",
      "neighbor_fc.weight torch.Size([200, 49])\n",
      "neighbor_fc.bias torch.Size([200])\n",
      "GRUCell.0.weight_ih torch.Size([600, 200])\n",
      "GRUCell.0.weight_hh torch.Size([600, 200])\n",
      "GRUCell.0.bias_ih torch.Size([600])\n",
      "GRUCell.0.bias_hh torch.Size([600])\n",
      "GRUCell.1.weight_ih torch.Size([600, 200])\n",
      "GRUCell.1.weight_hh torch.Size([600, 200])\n",
      "GRUCell.1.bias_ih torch.Size([600])\n",
      "GRUCell.1.bias_hh torch.Size([600])\n",
      "GRUCell.2.weight_ih torch.Size([600, 200])\n",
      "GRUCell.2.weight_hh torch.Size([600, 200])\n",
      "GRUCell.2.bias_ih torch.Size([600])\n",
      "GRUCell.2.bias_hh torch.Size([600])\n",
      "align.0.weight torch.Size([1, 400])\n",
      "align.0.bias torch.Size([1])\n",
      "align.1.weight torch.Size([1, 400])\n",
      "align.1.bias torch.Size([1])\n",
      "align.2.weight torch.Size([1, 400])\n",
      "align.2.bias torch.Size([1])\n",
      "attend.0.weight torch.Size([200, 200])\n",
      "attend.0.bias torch.Size([200])\n",
      "attend.1.weight torch.Size([200, 200])\n",
      "attend.1.bias torch.Size([200])\n",
      "attend.2.weight torch.Size([200, 200])\n",
      "attend.2.bias torch.Size([200])\n",
      "mol_GRUCell.weight_ih torch.Size([600, 200])\n",
      "mol_GRUCell.weight_hh torch.Size([600, 200])\n",
      "mol_GRUCell.bias_ih torch.Size([600])\n",
      "mol_GRUCell.bias_hh torch.Size([600])\n",
      "mol_align.weight torch.Size([1, 400])\n",
      "mol_align.bias torch.Size([1])\n",
      "mol_attend.weight torch.Size([200, 200])\n",
      "mol_attend.bias torch.Size([200])\n",
      "output.weight torch.Size([1234, 200])\n",
      "output.bias torch.Size([1234])\n"
     ]
    }
   ],
   "source": [
    "x_atom, x_bonds, x_atom_index, x_bond_index, x_mask, smiles_to_rdkit_list = get_smiles_array([smilesList[0]],feature_dicts)\n",
    "num_atom_features = x_atom.shape[-1]\n",
    "num_bond_features = x_bonds.shape[-1]\n",
    "\n",
    "loss_function = [nn.CrossEntropyLoss(torch.Tensor(weight),reduction='mean') for weight in weights]\n",
    "model = Fingerprint(radius, T, num_atom_features,num_bond_features,\n",
    "            fingerprint_dim, output_units_num, p_dropout)\n",
    "model.cuda()\n",
    "# tensorboard = SummaryWriter(log_dir=\"runs/\"+start_time+\"_\"+prefix_filename+\"_\"+str(fingerprint_dim)+\"_\"+str(p_dropout))\n",
    "\n",
    "# optimizer = optim.Adam(model.parameters(), learning_rate, weight_decay=weight_decay)\n",
    "optimizer = optim.Adam(model.parameters(), 10**-learning_rate, weight_decay=10**-weight_decay)\n",
    "model_parameters = filter(lambda p: p.requires_grad, model.parameters())\n",
    "params = sum([np.prod(p.size()) for p in model_parameters])\n",
    "print(params)\n",
    "for name, param in model.named_parameters():\n",
    "    if param.requires_grad:\n",
    "        print(name, param.data.shape)\n",
    "        "
   ]
  },
  {
   "cell_type": "code",
   "execution_count": 9,
   "metadata": {
    "execution": {
     "iopub.execute_input": "2024-07-08T23:40:34.496000Z",
     "iopub.status.busy": "2024-07-08T23:40:34.495708Z",
     "iopub.status.idle": "2024-07-08T23:40:34.512063Z",
     "shell.execute_reply": "2024-07-08T23:40:34.511341Z"
    }
   },
   "outputs": [],
   "source": [
    "def train(model, dataset, optimizer, loss_function):\n",
    "    model.train()\n",
    "    np.random.seed(epoch)\n",
    "    valList = np.arange(0,dataset.shape[0])\n",
    "    #shuffle them\n",
    "    np.random.shuffle(valList)\n",
    "    batch_list = []\n",
    "    for i in range(0, dataset.shape[0], batch_size):\n",
    "        batch = valList[i:i+batch_size]\n",
    "        batch_list.append(batch)   \n",
    "    for counter, train_batch in enumerate(batch_list):\n",
    "        batch_df = dataset.loc[train_batch,:]\n",
    "        smiles_list = batch_df.cano_smiles.values\n",
    "        \n",
    "        x_atom, x_bonds, x_atom_index, x_bond_index, x_mask, smiles_to_rdkit_list = get_smiles_array(smiles_list,feature_dicts)\n",
    "        atoms_prediction, mol_prediction = model(torch.Tensor(x_atom),torch.Tensor(x_bonds),torch.cuda.LongTensor(x_atom_index),torch.cuda.LongTensor(x_bond_index),torch.Tensor(x_mask))\n",
    "#         print(torch.Tensor(x_atom).size(),torch.Tensor(x_bonds).size(),torch.cuda.LongTensor(x_atom_index).size(),torch.cuda.LongTensor(x_bond_index).size(),torch.Tensor(x_mask).size())\n",
    "        \n",
    "        optimizer.zero_grad()\n",
    "        loss = 0.0\n",
    "        for i,task in enumerate(tasks):\n",
    "            y_pred = mol_prediction[:, i * per_task_output_units_num:(i + 1) *\n",
    "                                    per_task_output_units_num]\n",
    "            y_val = batch_df[task].values\n",
    "\n",
    "            validInds = np.where((y_val==0) | (y_val==1))[0]\n",
    "#             validInds = np.where(y_val != -1)[0]\n",
    "            if len(validInds) == 0:\n",
    "                continue\n",
    "            y_val_adjust = np.array([y_val[v] for v in validInds]).astype(float)\n",
    "            validInds = torch.cuda.LongTensor(validInds).squeeze()\n",
    "            y_pred_adjust = torch.index_select(y_pred, 0, validInds)\n",
    "\n",
    "            loss += loss_function[i](\n",
    "                y_pred_adjust,\n",
    "                torch.cuda.LongTensor(y_val_adjust))\n",
    "        # Step 5. Do the backward pass and update the gradient\n",
    "        loss.backward()\n",
    "        optimizer.step()\n",
    "def eval(model, dataset):\n",
    "    model.eval()\n",
    "    y_val_list = {}\n",
    "    y_pred_list = {}\n",
    "    losses_list = []\n",
    "    valList = np.arange(0,dataset.shape[0])\n",
    "    batch_list = []\n",
    "    for i in range(0, dataset.shape[0], batch_size):\n",
    "        batch = valList[i:i+batch_size]\n",
    "        batch_list.append(batch)   \n",
    "    for counter, eval_batch in enumerate(batch_list):\n",
    "        batch_df = dataset.loc[eval_batch,:]\n",
    "        smiles_list = batch_df.cano_smiles.values\n",
    "        \n",
    "        x_atom, x_bonds, x_atom_index, x_bond_index, x_mask, smiles_to_rdkit_list = get_smiles_array(smiles_list,feature_dicts)\n",
    "        atoms_prediction, mol_prediction = model(torch.Tensor(x_atom),torch.Tensor(x_bonds),torch.cuda.LongTensor(x_atom_index),torch.cuda.LongTensor(x_bond_index),torch.Tensor(x_mask))\n",
    "        atom_pred = atoms_prediction.data[:,:,1].unsqueeze(2).cpu().numpy()\n",
    "        for i,task in enumerate(tasks):\n",
    "            y_pred = mol_prediction[:, i * per_task_output_units_num:(i + 1) *\n",
    "                                    per_task_output_units_num]\n",
    "            y_val = batch_df[task].values\n",
    "\n",
    "            validInds = np.where((y_val==0) | (y_val==1))[0]\n",
    "#             validInds = np.where((y_val=='0') | (y_val=='1'))[0]\n",
    "#             print(validInds)\n",
    "            if len(validInds) == 0:\n",
    "                continue\n",
    "            y_val_adjust = np.array([y_val[v] for v in validInds]).astype(float)\n",
    "            validInds = torch.cuda.LongTensor(validInds).squeeze()\n",
    "            y_pred_adjust = torch.index_select(y_pred, 0, validInds)\n",
    "#             print(validInds)\n",
    "            loss = loss_function[i](\n",
    "                y_pred_adjust,\n",
    "                torch.cuda.LongTensor(y_val_adjust))\n",
    "#             print(y_pred_adjust)\n",
    "            y_pred_adjust = F.softmax(y_pred_adjust,dim=-1).data.cpu().numpy()[:,1]\n",
    "            losses_list.append(loss.cpu().detach().numpy())\n",
    "            try:\n",
    "                y_val_list[i].extend(y_val_adjust)\n",
    "                y_pred_list[i].extend(y_pred_adjust)\n",
    "            except:\n",
    "                y_val_list[i] = []\n",
    "                y_pred_list[i] = []\n",
    "                y_val_list[i].extend(y_val_adjust)\n",
    "                y_pred_list[i].extend(y_pred_adjust)\n",
    "                \n",
    "    eval_roc = [roc_auc_score(y_val_list[i], y_pred_list[i]) for i in range(len(tasks))]\n",
    "#     eval_prc = [auc(precision_recall_curve(y_val_list[i], y_pred_list[i])[1],precision_recall_curve(y_val_list[i], y_pred_list[i])[0]) for i in range(len(tasks))]\n",
    "#     eval_precision = [precision_score(y_val_list[i],\n",
    "#                                      (np.array(y_pred_list[i]) > 0.5).astype(int)) for i in range(len(tasks))]\n",
    "#     eval_recall = [recall_score(y_val_list[i],\n",
    "#                                (np.array(y_pred_list[i]) > 0.5).astype(int)) for i in range(len(tasks))]\n",
    "    eval_loss = np.array(losses_list).mean()\n",
    "    \n",
    "    return eval_roc, eval_loss #eval_prc, eval_precision, eval_recall, \n"
   ]
  },
  {
   "cell_type": "code",
   "execution_count": 10,
   "metadata": {
    "execution": {
     "iopub.execute_input": "2024-07-08T23:40:34.514708Z",
     "iopub.status.busy": "2024-07-08T23:40:34.514477Z",
     "iopub.status.idle": "2024-07-09T02:30:40.055034Z",
     "shell.execute_reply": "2024-07-09T02:30:40.054159Z"
    }
   },
   "outputs": [
    {
     "name": "stdout",
     "output_type": "stream",
     "text": [
      "EPOCH:\t0\n",
      "train_roc_mean:0.5060436543119216\n",
      "valid_roc_mean:0.5063180871386952\n",
      "\n"
     ]
    },
    {
     "name": "stdout",
     "output_type": "stream",
     "text": [
      "EPOCH:\t1\n",
      "train_roc_mean:0.6033536758378992\n",
      "valid_roc_mean:0.5922146665154835\n",
      "\n"
     ]
    },
    {
     "name": "stdout",
     "output_type": "stream",
     "text": [
      "EPOCH:\t2\n",
      "train_roc_mean:0.651854111946982\n",
      "valid_roc_mean:0.6381898416253031\n",
      "\n"
     ]
    },
    {
     "name": "stdout",
     "output_type": "stream",
     "text": [
      "EPOCH:\t3\n",
      "train_roc_mean:0.6751971343767476\n",
      "valid_roc_mean:0.6597515498651603\n",
      "\n"
     ]
    },
    {
     "name": "stdout",
     "output_type": "stream",
     "text": [
      "EPOCH:\t4\n",
      "train_roc_mean:0.6883314591692459\n",
      "valid_roc_mean:0.6725047417254667\n",
      "\n"
     ]
    },
    {
     "name": "stdout",
     "output_type": "stream",
     "text": [
      "EPOCH:\t5\n",
      "train_roc_mean:0.6996244661730308\n",
      "valid_roc_mean:0.6826263072739995\n",
      "\n"
     ]
    },
    {
     "name": "stdout",
     "output_type": "stream",
     "text": [
      "EPOCH:\t6\n",
      "train_roc_mean:0.7094832887649998\n",
      "valid_roc_mean:0.6895034870582579\n",
      "\n"
     ]
    },
    {
     "name": "stdout",
     "output_type": "stream",
     "text": [
      "EPOCH:\t7\n",
      "train_roc_mean:0.7187345460306269\n",
      "valid_roc_mean:0.6983096200089647\n",
      "\n"
     ]
    },
    {
     "name": "stdout",
     "output_type": "stream",
     "text": [
      "EPOCH:\t8\n",
      "train_roc_mean:0.7236846956931489\n",
      "valid_roc_mean:0.7040156809572297\n",
      "\n"
     ]
    },
    {
     "name": "stdout",
     "output_type": "stream",
     "text": [
      "EPOCH:\t9\n",
      "train_roc_mean:0.7300017702259097\n",
      "valid_roc_mean:0.7065093614125139\n",
      "\n"
     ]
    },
    {
     "name": "stdout",
     "output_type": "stream",
     "text": [
      "EPOCH:\t10\n",
      "train_roc_mean:0.7419129760530592\n",
      "valid_roc_mean:0.7159692935538006\n",
      "\n"
     ]
    },
    {
     "name": "stdout",
     "output_type": "stream",
     "text": [
      "EPOCH:\t11\n",
      "train_roc_mean:0.7461784456719462\n",
      "valid_roc_mean:0.7189876215460171\n",
      "\n"
     ]
    },
    {
     "name": "stdout",
     "output_type": "stream",
     "text": [
      "EPOCH:\t12\n",
      "train_roc_mean:0.7562724773550409\n",
      "valid_roc_mean:0.7271753890238728\n",
      "\n"
     ]
    },
    {
     "name": "stdout",
     "output_type": "stream",
     "text": [
      "EPOCH:\t13\n",
      "train_roc_mean:0.7651191115987657\n",
      "valid_roc_mean:0.736064910246036\n",
      "\n"
     ]
    },
    {
     "name": "stdout",
     "output_type": "stream",
     "text": [
      "EPOCH:\t14\n",
      "train_roc_mean:0.7693587274209349\n",
      "valid_roc_mean:0.74004087191165\n",
      "\n"
     ]
    },
    {
     "name": "stdout",
     "output_type": "stream",
     "text": [
      "EPOCH:\t15\n",
      "train_roc_mean:0.7805748935836081\n",
      "valid_roc_mean:0.7478207151744293\n",
      "\n"
     ]
    },
    {
     "name": "stdout",
     "output_type": "stream",
     "text": [
      "EPOCH:\t16\n",
      "train_roc_mean:0.7883827815093627\n",
      "valid_roc_mean:0.7532024107071966\n",
      "\n"
     ]
    },
    {
     "name": "stdout",
     "output_type": "stream",
     "text": [
      "EPOCH:\t17\n",
      "train_roc_mean:0.7899643727484491\n",
      "valid_roc_mean:0.756545214699955\n",
      "\n"
     ]
    },
    {
     "name": "stdout",
     "output_type": "stream",
     "text": [
      "EPOCH:\t18\n",
      "train_roc_mean:0.7974952127366927\n",
      "valid_roc_mean:0.7604045947079296\n",
      "\n"
     ]
    },
    {
     "name": "stdout",
     "output_type": "stream",
     "text": [
      "EPOCH:\t19\n",
      "train_roc_mean:0.8016080897474903\n",
      "valid_roc_mean:0.7616903301675986\n",
      "\n"
     ]
    },
    {
     "name": "stdout",
     "output_type": "stream",
     "text": [
      "EPOCH:\t20\n",
      "train_roc_mean:0.8065328946668381\n",
      "valid_roc_mean:0.7665432553529672\n",
      "\n"
     ]
    },
    {
     "name": "stdout",
     "output_type": "stream",
     "text": [
      "EPOCH:\t21\n",
      "train_roc_mean:0.8091302085566682\n",
      "valid_roc_mean:0.7663897376307075\n",
      "\n"
     ]
    },
    {
     "name": "stdout",
     "output_type": "stream",
     "text": [
      "EPOCH:\t22\n",
      "train_roc_mean:0.8159081979214209\n",
      "valid_roc_mean:0.7694664674367712\n",
      "\n"
     ]
    },
    {
     "name": "stdout",
     "output_type": "stream",
     "text": [
      "EPOCH:\t23\n",
      "train_roc_mean:0.8199865612903405\n",
      "valid_roc_mean:0.7732387117657994\n",
      "\n"
     ]
    },
    {
     "name": "stdout",
     "output_type": "stream",
     "text": [
      "EPOCH:\t24\n",
      "train_roc_mean:0.8244572567416159\n",
      "valid_roc_mean:0.7731239623999214\n",
      "\n"
     ]
    },
    {
     "name": "stdout",
     "output_type": "stream",
     "text": [
      "EPOCH:\t25\n",
      "train_roc_mean:0.826875241205207\n",
      "valid_roc_mean:0.7758913261704014\n",
      "\n"
     ]
    },
    {
     "name": "stdout",
     "output_type": "stream",
     "text": [
      "EPOCH:\t26\n",
      "train_roc_mean:0.834215338592553\n",
      "valid_roc_mean:0.7775285097950122\n",
      "\n"
     ]
    },
    {
     "name": "stdout",
     "output_type": "stream",
     "text": [
      "EPOCH:\t27\n",
      "train_roc_mean:0.837914260801116\n",
      "valid_roc_mean:0.7800453427777794\n",
      "\n"
     ]
    },
    {
     "name": "stdout",
     "output_type": "stream",
     "text": [
      "EPOCH:\t28\n",
      "train_roc_mean:0.8364959588315065\n",
      "valid_roc_mean:0.7797327540452446\n",
      "\n"
     ]
    },
    {
     "name": "stdout",
     "output_type": "stream",
     "text": [
      "EPOCH:\t29\n",
      "train_roc_mean:0.8429720281012117\n",
      "valid_roc_mean:0.7813694655144204\n",
      "\n"
     ]
    },
    {
     "name": "stdout",
     "output_type": "stream",
     "text": [
      "EPOCH:\t30\n",
      "train_roc_mean:0.8493436133279003\n",
      "valid_roc_mean:0.7832495186517173\n",
      "\n"
     ]
    },
    {
     "name": "stdout",
     "output_type": "stream",
     "text": [
      "EPOCH:\t31\n",
      "train_roc_mean:0.8509964285286672\n",
      "valid_roc_mean:0.786230267630577\n",
      "\n"
     ]
    },
    {
     "name": "stdout",
     "output_type": "stream",
     "text": [
      "EPOCH:\t32\n",
      "train_roc_mean:0.8545880356011125\n",
      "valid_roc_mean:0.7867308229191808\n",
      "\n"
     ]
    },
    {
     "name": "stdout",
     "output_type": "stream",
     "text": [
      "EPOCH:\t33\n",
      "train_roc_mean:0.8567282883572098\n",
      "valid_roc_mean:0.7832013525659395\n",
      "\n"
     ]
    },
    {
     "name": "stdout",
     "output_type": "stream",
     "text": [
      "EPOCH:\t34\n",
      "train_roc_mean:0.861447582429784\n",
      "valid_roc_mean:0.7907430777534449\n",
      "\n"
     ]
    },
    {
     "name": "stdout",
     "output_type": "stream",
     "text": [
      "EPOCH:\t35\n",
      "train_roc_mean:0.8640440022940838\n",
      "valid_roc_mean:0.7863557111172492\n",
      "\n"
     ]
    },
    {
     "name": "stdout",
     "output_type": "stream",
     "text": [
      "EPOCH:\t36\n",
      "train_roc_mean:0.8685384347232838\n",
      "valid_roc_mean:0.7882238975872943\n",
      "\n"
     ]
    },
    {
     "name": "stdout",
     "output_type": "stream",
     "text": [
      "EPOCH:\t37\n",
      "train_roc_mean:0.870298427349737\n",
      "valid_roc_mean:0.7927555697336639\n",
      "\n"
     ]
    },
    {
     "name": "stdout",
     "output_type": "stream",
     "text": [
      "EPOCH:\t38\n",
      "train_roc_mean:0.866685450991629\n",
      "valid_roc_mean:0.7895554742320258\n",
      "\n"
     ]
    },
    {
     "name": "stdout",
     "output_type": "stream",
     "text": [
      "EPOCH:\t39\n",
      "train_roc_mean:0.875554323936051\n",
      "valid_roc_mean:0.7940581851356021\n",
      "\n"
     ]
    },
    {
     "name": "stdout",
     "output_type": "stream",
     "text": [
      "EPOCH:\t40\n",
      "train_roc_mean:0.879492183623428\n",
      "valid_roc_mean:0.7946905272073219\n",
      "\n"
     ]
    },
    {
     "name": "stdout",
     "output_type": "stream",
     "text": [
      "EPOCH:\t41\n",
      "train_roc_mean:0.8808781751402294\n",
      "valid_roc_mean:0.7923207310629622\n",
      "\n"
     ]
    },
    {
     "name": "stdout",
     "output_type": "stream",
     "text": [
      "EPOCH:\t42\n",
      "train_roc_mean:0.8844775920628617\n",
      "valid_roc_mean:0.7958600212868473\n",
      "\n"
     ]
    },
    {
     "name": "stdout",
     "output_type": "stream",
     "text": [
      "EPOCH:\t43\n",
      "train_roc_mean:0.8837881523730752\n",
      "valid_roc_mean:0.7939604826590269\n",
      "\n"
     ]
    },
    {
     "name": "stdout",
     "output_type": "stream",
     "text": [
      "EPOCH:\t44\n",
      "train_roc_mean:0.8889735650540855\n",
      "valid_roc_mean:0.79716596731197\n",
      "\n"
     ]
    },
    {
     "name": "stdout",
     "output_type": "stream",
     "text": [
      "EPOCH:\t45\n",
      "train_roc_mean:0.8917727058755317\n",
      "valid_roc_mean:0.7982970944848761\n",
      "\n"
     ]
    },
    {
     "name": "stdout",
     "output_type": "stream",
     "text": [
      "EPOCH:\t46\n",
      "train_roc_mean:0.8938727217087123\n",
      "valid_roc_mean:0.8005516624033332\n",
      "\n"
     ]
    },
    {
     "name": "stdout",
     "output_type": "stream",
     "text": [
      "EPOCH:\t47\n",
      "train_roc_mean:0.8964820235811308\n",
      "valid_roc_mean:0.801359893360246\n",
      "\n"
     ]
    },
    {
     "name": "stdout",
     "output_type": "stream",
     "text": [
      "EPOCH:\t48\n",
      "train_roc_mean:0.8975954503149518\n",
      "valid_roc_mean:0.7971420165403512\n",
      "\n"
     ]
    },
    {
     "name": "stdout",
     "output_type": "stream",
     "text": [
      "EPOCH:\t49\n",
      "train_roc_mean:0.9012134472603941\n",
      "valid_roc_mean:0.8001109163100907\n",
      "\n"
     ]
    },
    {
     "name": "stdout",
     "output_type": "stream",
     "text": [
      "EPOCH:\t50\n",
      "train_roc_mean:0.902246742426875\n",
      "valid_roc_mean:0.8049171323731514\n",
      "\n"
     ]
    },
    {
     "name": "stdout",
     "output_type": "stream",
     "text": [
      "EPOCH:\t51\n",
      "train_roc_mean:0.9046349366078552\n",
      "valid_roc_mean:0.8034141516916465\n",
      "\n"
     ]
    },
    {
     "name": "stdout",
     "output_type": "stream",
     "text": [
      "EPOCH:\t52\n",
      "train_roc_mean:0.9055743634562167\n",
      "valid_roc_mean:0.8040708936302056\n",
      "\n"
     ]
    },
    {
     "name": "stdout",
     "output_type": "stream",
     "text": [
      "EPOCH:\t53\n",
      "train_roc_mean:0.9075158931902141\n",
      "valid_roc_mean:0.8010762124669102\n",
      "\n"
     ]
    },
    {
     "name": "stdout",
     "output_type": "stream",
     "text": [
      "EPOCH:\t54\n",
      "train_roc_mean:0.9093448495384542\n",
      "valid_roc_mean:0.8014404427993504\n",
      "\n"
     ]
    },
    {
     "name": "stdout",
     "output_type": "stream",
     "text": [
      "EPOCH:\t55\n",
      "train_roc_mean:0.9120705285046796\n",
      "valid_roc_mean:0.805780367094276\n",
      "\n"
     ]
    },
    {
     "name": "stdout",
     "output_type": "stream",
     "text": [
      "EPOCH:\t56\n",
      "train_roc_mean:0.9137610048817191\n",
      "valid_roc_mean:0.8071826661368643\n",
      "\n"
     ]
    },
    {
     "name": "stdout",
     "output_type": "stream",
     "text": [
      "EPOCH:\t57\n",
      "train_roc_mean:0.9161085559945152\n",
      "valid_roc_mean:0.8068853595103973\n",
      "\n"
     ]
    },
    {
     "name": "stdout",
     "output_type": "stream",
     "text": [
      "EPOCH:\t58\n",
      "train_roc_mean:0.9176967929604327\n",
      "valid_roc_mean:0.8065753596233283\n",
      "\n"
     ]
    },
    {
     "name": "stdout",
     "output_type": "stream",
     "text": [
      "EPOCH:\t59\n",
      "train_roc_mean:0.9182705689986362\n",
      "valid_roc_mean:0.8081060535333398\n",
      "\n"
     ]
    },
    {
     "name": "stdout",
     "output_type": "stream",
     "text": [
      "EPOCH:\t60\n",
      "train_roc_mean:0.9205580301045335\n",
      "valid_roc_mean:0.8084702281641793\n",
      "\n"
     ]
    },
    {
     "name": "stdout",
     "output_type": "stream",
     "text": [
      "EPOCH:\t61\n",
      "train_roc_mean:0.9218261023571429\n",
      "valid_roc_mean:0.8092735668683819\n",
      "\n"
     ]
    },
    {
     "name": "stdout",
     "output_type": "stream",
     "text": [
      "EPOCH:\t62\n",
      "train_roc_mean:0.9217874749959246\n",
      "valid_roc_mean:0.8112489808747776\n",
      "\n"
     ]
    },
    {
     "name": "stdout",
     "output_type": "stream",
     "text": [
      "EPOCH:\t63\n",
      "train_roc_mean:0.9241800194474982\n",
      "valid_roc_mean:0.811744014921508\n",
      "\n"
     ]
    },
    {
     "name": "stdout",
     "output_type": "stream",
     "text": [
      "EPOCH:\t64\n",
      "train_roc_mean:0.9251834536151594\n",
      "valid_roc_mean:0.8107456357198242\n",
      "\n"
     ]
    },
    {
     "name": "stdout",
     "output_type": "stream",
     "text": [
      "EPOCH:\t65\n",
      "train_roc_mean:0.9269743557403624\n",
      "valid_roc_mean:0.8116111061238432\n",
      "\n"
     ]
    },
    {
     "name": "stdout",
     "output_type": "stream",
     "text": [
      "EPOCH:\t66\n",
      "train_roc_mean:0.9292338628547983\n",
      "valid_roc_mean:0.8123822472009938\n",
      "\n"
     ]
    },
    {
     "name": "stdout",
     "output_type": "stream",
     "text": [
      "EPOCH:\t67\n",
      "train_roc_mean:0.9296929576099726\n",
      "valid_roc_mean:0.8103706136828671\n",
      "\n"
     ]
    },
    {
     "name": "stdout",
     "output_type": "stream",
     "text": [
      "EPOCH:\t68\n",
      "train_roc_mean:0.9308102611579911\n",
      "valid_roc_mean:0.812611770536943\n",
      "\n"
     ]
    },
    {
     "name": "stdout",
     "output_type": "stream",
     "text": [
      "EPOCH:\t69\n",
      "train_roc_mean:0.9323983222295431\n",
      "valid_roc_mean:0.8126756703166476\n",
      "\n"
     ]
    },
    {
     "name": "stdout",
     "output_type": "stream",
     "text": [
      "EPOCH:\t70\n",
      "train_roc_mean:0.9335751112731745\n",
      "valid_roc_mean:0.8166273408880665\n",
      "\n"
     ]
    },
    {
     "name": "stdout",
     "output_type": "stream",
     "text": [
      "EPOCH:\t71\n",
      "train_roc_mean:0.9347766763981122\n",
      "valid_roc_mean:0.8140924521552453\n",
      "\n"
     ]
    },
    {
     "name": "stdout",
     "output_type": "stream",
     "text": [
      "EPOCH:\t72\n",
      "train_roc_mean:0.933820814837567\n",
      "valid_roc_mean:0.8136387153118003\n",
      "\n"
     ]
    },
    {
     "name": "stdout",
     "output_type": "stream",
     "text": [
      "EPOCH:\t73\n",
      "train_roc_mean:0.9353294459973457\n",
      "valid_roc_mean:0.8132939833015747\n",
      "\n"
     ]
    },
    {
     "name": "stdout",
     "output_type": "stream",
     "text": [
      "EPOCH:\t74\n",
      "train_roc_mean:0.9373897411839422\n",
      "valid_roc_mean:0.8150127421864718\n",
      "\n"
     ]
    },
    {
     "name": "stdout",
     "output_type": "stream",
     "text": [
      "EPOCH:\t75\n",
      "train_roc_mean:0.9379024148528455\n",
      "valid_roc_mean:0.813511414015592\n",
      "\n"
     ]
    },
    {
     "name": "stdout",
     "output_type": "stream",
     "text": [
      "EPOCH:\t76\n",
      "train_roc_mean:0.9386502033312885\n",
      "valid_roc_mean:0.8133550305162072\n",
      "\n"
     ]
    },
    {
     "name": "stdout",
     "output_type": "stream",
     "text": [
      "EPOCH:\t77\n",
      "train_roc_mean:0.9398810282529775\n",
      "valid_roc_mean:0.8126116209568394\n",
      "\n"
     ]
    },
    {
     "name": "stdout",
     "output_type": "stream",
     "text": [
      "EPOCH:\t78\n",
      "train_roc_mean:0.9409050201054169\n",
      "valid_roc_mean:0.8159077127051583\n",
      "\n"
     ]
    },
    {
     "name": "stdout",
     "output_type": "stream",
     "text": [
      "EPOCH:\t79\n",
      "train_roc_mean:0.9418609183182195\n",
      "valid_roc_mean:0.8145134025118083\n",
      "\n"
     ]
    },
    {
     "name": "stdout",
     "output_type": "stream",
     "text": [
      "EPOCH:\t80\n",
      "train_roc_mean:0.9424273544565409\n",
      "valid_roc_mean:0.8164356854087101\n",
      "\n"
     ]
    },
    {
     "name": "stdout",
     "output_type": "stream",
     "text": [
      "EPOCH:\t81\n",
      "train_roc_mean:0.9419026536184768\n",
      "valid_roc_mean:0.8126947681414348\n",
      "\n"
     ]
    },
    {
     "name": "stdout",
     "output_type": "stream",
     "text": [
      "EPOCH:\t82\n",
      "train_roc_mean:0.9440624972505113\n",
      "valid_roc_mean:0.8162153179254443\n",
      "\n"
     ]
    },
    {
     "name": "stdout",
     "output_type": "stream",
     "text": [
      "EPOCH:\t83\n",
      "train_roc_mean:0.9441593345469087\n",
      "valid_roc_mean:0.8163484063970227\n",
      "\n"
     ]
    },
    {
     "name": "stdout",
     "output_type": "stream",
     "text": [
      "EPOCH:\t84\n",
      "train_roc_mean:0.9455777876558448\n",
      "valid_roc_mean:0.8185631262611541\n",
      "\n"
     ]
    },
    {
     "name": "stdout",
     "output_type": "stream",
     "text": [
      "EPOCH:\t85\n",
      "train_roc_mean:0.9469043860939312\n",
      "valid_roc_mean:0.816596113031332\n",
      "\n"
     ]
    },
    {
     "name": "stdout",
     "output_type": "stream",
     "text": [
      "EPOCH:\t86\n",
      "train_roc_mean:0.9473598942130969\n",
      "valid_roc_mean:0.81823898645126\n",
      "\n"
     ]
    },
    {
     "name": "stdout",
     "output_type": "stream",
     "text": [
      "EPOCH:\t87\n",
      "train_roc_mean:0.9469505092110804\n",
      "valid_roc_mean:0.8157357049527958\n",
      "\n"
     ]
    },
    {
     "name": "stdout",
     "output_type": "stream",
     "text": [
      "EPOCH:\t88\n",
      "train_roc_mean:0.9482627461224341\n",
      "valid_roc_mean:0.8149425766287731\n",
      "\n"
     ]
    },
    {
     "name": "stdout",
     "output_type": "stream",
     "text": [
      "EPOCH:\t89\n",
      "train_roc_mean:0.9490895491621691\n",
      "valid_roc_mean:0.8173713604083936\n",
      "\n"
     ]
    },
    {
     "name": "stdout",
     "output_type": "stream",
     "text": [
      "EPOCH:\t90\n",
      "train_roc_mean:0.9494562174416382\n",
      "valid_roc_mean:0.8180524909088603\n",
      "\n"
     ]
    },
    {
     "name": "stdout",
     "output_type": "stream",
     "text": [
      "EPOCH:\t91\n",
      "train_roc_mean:0.9505052053430938\n",
      "valid_roc_mean:0.8172334456540835\n",
      "\n"
     ]
    },
    {
     "name": "stdout",
     "output_type": "stream",
     "text": [
      "EPOCH:\t92\n",
      "train_roc_mean:0.9503023088307735\n",
      "valid_roc_mean:0.8157984657412246\n",
      "\n"
     ]
    },
    {
     "name": "stdout",
     "output_type": "stream",
     "text": [
      "EPOCH:\t93\n",
      "train_roc_mean:0.9513172803285047\n",
      "valid_roc_mean:0.820424954091994\n",
      "\n"
     ]
    },
    {
     "name": "stdout",
     "output_type": "stream",
     "text": [
      "EPOCH:\t94\n",
      "train_roc_mean:0.9514789954768651\n",
      "valid_roc_mean:0.8202919309317035\n",
      "\n"
     ]
    },
    {
     "name": "stdout",
     "output_type": "stream",
     "text": [
      "EPOCH:\t95\n",
      "train_roc_mean:0.9525360970607443\n",
      "valid_roc_mean:0.8168697598003282\n",
      "\n"
     ]
    },
    {
     "name": "stdout",
     "output_type": "stream",
     "text": [
      "EPOCH:\t96\n",
      "train_roc_mean:0.9532393055890468\n",
      "valid_roc_mean:0.819159739324193\n",
      "\n"
     ]
    },
    {
     "name": "stdout",
     "output_type": "stream",
     "text": [
      "EPOCH:\t97\n",
      "train_roc_mean:0.9537926540082119\n",
      "valid_roc_mean:0.818065807677631\n",
      "\n"
     ]
    },
    {
     "name": "stdout",
     "output_type": "stream",
     "text": [
      "EPOCH:\t98\n",
      "train_roc_mean:0.9542312680306378\n",
      "valid_roc_mean:0.8192285797304326\n",
      "\n"
     ]
    },
    {
     "name": "stdout",
     "output_type": "stream",
     "text": [
      "EPOCH:\t99\n",
      "train_roc_mean:0.9542027782975088\n",
      "valid_roc_mean:0.8202816025887413\n",
      "\n"
     ]
    },
    {
     "name": "stdout",
     "output_type": "stream",
     "text": [
      "EPOCH:\t100\n",
      "train_roc_mean:0.9552827404241232\n",
      "valid_roc_mean:0.8216005969731734\n",
      "\n"
     ]
    },
    {
     "name": "stdout",
     "output_type": "stream",
     "text": [
      "EPOCH:\t101\n",
      "train_roc_mean:0.9547507163864088\n",
      "valid_roc_mean:0.8201842810361185\n",
      "\n"
     ]
    },
    {
     "name": "stdout",
     "output_type": "stream",
     "text": [
      "EPOCH:\t102\n",
      "train_roc_mean:0.9551506716994379\n",
      "valid_roc_mean:0.8201966144850829\n",
      "\n"
     ]
    },
    {
     "name": "stdout",
     "output_type": "stream",
     "text": [
      "EPOCH:\t103\n",
      "train_roc_mean:0.9562169361319063\n",
      "valid_roc_mean:0.821120177232806\n",
      "\n"
     ]
    },
    {
     "name": "stdout",
     "output_type": "stream",
     "text": [
      "EPOCH:\t104\n",
      "train_roc_mean:0.9572227954972544\n",
      "valid_roc_mean:0.8225155443624205\n",
      "\n"
     ]
    },
    {
     "name": "stdout",
     "output_type": "stream",
     "text": [
      "EPOCH:\t105\n",
      "train_roc_mean:0.957346575565762\n",
      "valid_roc_mean:0.8217309916886272\n",
      "\n"
     ]
    },
    {
     "name": "stdout",
     "output_type": "stream",
     "text": [
      "EPOCH:\t106\n",
      "train_roc_mean:0.9580939648375273\n",
      "valid_roc_mean:0.8225661738016026\n",
      "\n"
     ]
    },
    {
     "name": "stdout",
     "output_type": "stream",
     "text": [
      "EPOCH:\t107\n",
      "train_roc_mean:0.9580532871061692\n",
      "valid_roc_mean:0.8216700177090647\n",
      "\n"
     ]
    },
    {
     "name": "stdout",
     "output_type": "stream",
     "text": [
      "EPOCH:\t108\n",
      "train_roc_mean:0.9583322412756201\n",
      "valid_roc_mean:0.8225370502983113\n",
      "\n"
     ]
    },
    {
     "name": "stdout",
     "output_type": "stream",
     "text": [
      "EPOCH:\t109\n",
      "train_roc_mean:0.9580421116866913\n",
      "valid_roc_mean:0.8217310017325034\n",
      "\n"
     ]
    },
    {
     "name": "stdout",
     "output_type": "stream",
     "text": [
      "EPOCH:\t110\n",
      "train_roc_mean:0.9587623522851909\n",
      "valid_roc_mean:0.8229382299804658\n",
      "\n"
     ]
    },
    {
     "name": "stdout",
     "output_type": "stream",
     "text": [
      "EPOCH:\t111\n",
      "train_roc_mean:0.9589912271909179\n",
      "valid_roc_mean:0.8228847174860036\n",
      "\n"
     ]
    },
    {
     "name": "stdout",
     "output_type": "stream",
     "text": [
      "EPOCH:\t112\n",
      "train_roc_mean:0.9595891372773809\n",
      "valid_roc_mean:0.8208525442305875\n",
      "\n"
     ]
    },
    {
     "name": "stdout",
     "output_type": "stream",
     "text": [
      "EPOCH:\t113\n",
      "train_roc_mean:0.9595834226853396\n",
      "valid_roc_mean:0.8242855264627101\n",
      "\n"
     ]
    },
    {
     "name": "stdout",
     "output_type": "stream",
     "text": [
      "EPOCH:\t114\n",
      "train_roc_mean:0.960975627813612\n",
      "valid_roc_mean:0.8229285080425083\n",
      "\n"
     ]
    },
    {
     "name": "stdout",
     "output_type": "stream",
     "text": [
      "EPOCH:\t115\n",
      "train_roc_mean:0.9609337354131947\n",
      "valid_roc_mean:0.8229109791641618\n",
      "\n"
     ]
    },
    {
     "name": "stdout",
     "output_type": "stream",
     "text": [
      "EPOCH:\t116\n",
      "train_roc_mean:0.9607503773790051\n",
      "valid_roc_mean:0.8244070759791613\n",
      "\n"
     ]
    },
    {
     "name": "stdout",
     "output_type": "stream",
     "text": [
      "EPOCH:\t117\n",
      "train_roc_mean:0.9619567069481305\n",
      "valid_roc_mean:0.8222226508018168\n",
      "\n"
     ]
    },
    {
     "name": "stdout",
     "output_type": "stream",
     "text": [
      "EPOCH:\t118\n",
      "train_roc_mean:0.9620993941030034\n",
      "valid_roc_mean:0.82353274361316\n",
      "\n"
     ]
    },
    {
     "name": "stdout",
     "output_type": "stream",
     "text": [
      "EPOCH:\t119\n",
      "train_roc_mean:0.9618567070323978\n",
      "valid_roc_mean:0.8243357887086525\n",
      "\n"
     ]
    },
    {
     "name": "stdout",
     "output_type": "stream",
     "text": [
      "EPOCH:\t120\n",
      "train_roc_mean:0.9625898489163731\n",
      "valid_roc_mean:0.8239787585244107\n",
      "\n"
     ]
    },
    {
     "name": "stdout",
     "output_type": "stream",
     "text": [
      "EPOCH:\t121\n",
      "train_roc_mean:0.9625922062370582\n",
      "valid_roc_mean:0.8244172796564063\n",
      "\n"
     ]
    },
    {
     "name": "stdout",
     "output_type": "stream",
     "text": [
      "EPOCH:\t122\n",
      "train_roc_mean:0.9626903422313047\n",
      "valid_roc_mean:0.8228947279544127\n",
      "\n"
     ]
    },
    {
     "name": "stdout",
     "output_type": "stream",
     "text": [
      "EPOCH:\t123\n",
      "train_roc_mean:0.9633149825612467\n",
      "valid_roc_mean:0.826274694726821\n",
      "\n"
     ]
    },
    {
     "name": "stdout",
     "output_type": "stream",
     "text": [
      "EPOCH:\t124\n",
      "train_roc_mean:0.9644044887021\n",
      "valid_roc_mean:0.8260052616811157\n",
      "\n"
     ]
    },
    {
     "name": "stdout",
     "output_type": "stream",
     "text": [
      "EPOCH:\t125\n",
      "train_roc_mean:0.9647466718057659\n",
      "valid_roc_mean:0.8247802223070855\n",
      "\n"
     ]
    },
    {
     "name": "stdout",
     "output_type": "stream",
     "text": [
      "EPOCH:\t126\n",
      "train_roc_mean:0.9642206824560992\n",
      "valid_roc_mean:0.8265332768761068\n",
      "\n"
     ]
    },
    {
     "name": "stdout",
     "output_type": "stream",
     "text": [
      "EPOCH:\t127\n",
      "train_roc_mean:0.9640222004120759\n",
      "valid_roc_mean:0.8244027833345777\n",
      "\n"
     ]
    },
    {
     "name": "stdout",
     "output_type": "stream",
     "text": [
      "EPOCH:\t128\n",
      "train_roc_mean:0.9649952435254905\n",
      "valid_roc_mean:0.8234181336543078\n",
      "\n"
     ]
    },
    {
     "name": "stdout",
     "output_type": "stream",
     "text": [
      "EPOCH:\t129\n",
      "train_roc_mean:0.9655772657436303\n",
      "valid_roc_mean:0.8262151928865912\n",
      "\n"
     ]
    },
    {
     "name": "stdout",
     "output_type": "stream",
     "text": [
      "EPOCH:\t130\n",
      "train_roc_mean:0.9655113209600057\n",
      "valid_roc_mean:0.824699878336246\n",
      "\n"
     ]
    },
    {
     "name": "stdout",
     "output_type": "stream",
     "text": [
      "EPOCH:\t131\n",
      "train_roc_mean:0.9657583721661384\n",
      "valid_roc_mean:0.8248085429688988\n",
      "\n"
     ]
    },
    {
     "name": "stdout",
     "output_type": "stream",
     "text": [
      "EPOCH:\t132\n",
      "train_roc_mean:0.9661819221129492\n",
      "valid_roc_mean:0.8262418592205855\n",
      "\n"
     ]
    },
    {
     "name": "stdout",
     "output_type": "stream",
     "text": [
      "EPOCH:\t133\n",
      "train_roc_mean:0.9662313831210647\n",
      "valid_roc_mean:0.825867443419336\n",
      "\n"
     ]
    },
    {
     "name": "stdout",
     "output_type": "stream",
     "text": [
      "EPOCH:\t134\n",
      "train_roc_mean:0.9663893746876179\n",
      "valid_roc_mean:0.8251561246497919\n",
      "\n"
     ]
    },
    {
     "name": "stdout",
     "output_type": "stream",
     "text": [
      "EPOCH:\t135\n",
      "train_roc_mean:0.9669399744559206\n",
      "valid_roc_mean:0.825475384239977\n",
      "\n"
     ]
    },
    {
     "name": "stdout",
     "output_type": "stream",
     "text": [
      "EPOCH:\t136\n",
      "train_roc_mean:0.9667485369444617\n",
      "valid_roc_mean:0.8266891983304003\n",
      "\n"
     ]
    },
    {
     "name": "stdout",
     "output_type": "stream",
     "text": [
      "EPOCH:\t137\n",
      "train_roc_mean:0.966997544774807\n",
      "valid_roc_mean:0.8268294527988899\n",
      "\n"
     ]
    },
    {
     "name": "stdout",
     "output_type": "stream",
     "text": [
      "EPOCH:\t138\n",
      "train_roc_mean:0.9677270128684902\n",
      "valid_roc_mean:0.8275701576780552\n",
      "\n"
     ]
    },
    {
     "name": "stdout",
     "output_type": "stream",
     "text": [
      "EPOCH:\t139\n",
      "train_roc_mean:0.9678035721124231\n",
      "valid_roc_mean:0.8286697367847526\n",
      "\n"
     ]
    },
    {
     "name": "stdout",
     "output_type": "stream",
     "text": [
      "EPOCH:\t140\n",
      "train_roc_mean:0.9676138429438504\n",
      "valid_roc_mean:0.8263995297328585\n",
      "\n"
     ]
    },
    {
     "name": "stdout",
     "output_type": "stream",
     "text": [
      "EPOCH:\t141\n",
      "train_roc_mean:0.9681072061463663\n",
      "valid_roc_mean:0.8273857235284674\n",
      "\n"
     ]
    },
    {
     "name": "stdout",
     "output_type": "stream",
     "text": [
      "EPOCH:\t142\n",
      "train_roc_mean:0.9681578149465856\n",
      "valid_roc_mean:0.8295332886228438\n",
      "\n"
     ]
    },
    {
     "name": "stdout",
     "output_type": "stream",
     "text": [
      "EPOCH:\t143\n",
      "train_roc_mean:0.9687678632619339\n",
      "valid_roc_mean:0.8291673330031345\n",
      "\n"
     ]
    },
    {
     "name": "stdout",
     "output_type": "stream",
     "text": [
      "EPOCH:\t144\n",
      "train_roc_mean:0.9687382630865914\n",
      "valid_roc_mean:0.8264221847227773\n",
      "\n"
     ]
    },
    {
     "name": "stdout",
     "output_type": "stream",
     "text": [
      "EPOCH:\t145\n",
      "train_roc_mean:0.9684546948411705\n",
      "valid_roc_mean:0.8290749556880825\n",
      "\n"
     ]
    },
    {
     "name": "stdout",
     "output_type": "stream",
     "text": [
      "EPOCH:\t146\n",
      "train_roc_mean:0.967911860903805\n",
      "valid_roc_mean:0.8265338141449463\n",
      "\n"
     ]
    },
    {
     "name": "stdout",
     "output_type": "stream",
     "text": [
      "EPOCH:\t147\n",
      "train_roc_mean:0.9690568512246622\n",
      "valid_roc_mean:0.8292722368629047\n",
      "\n"
     ]
    },
    {
     "name": "stdout",
     "output_type": "stream",
     "text": [
      "EPOCH:\t148\n",
      "train_roc_mean:0.9692435130653788\n",
      "valid_roc_mean:0.827106741051006\n",
      "\n"
     ]
    },
    {
     "name": "stdout",
     "output_type": "stream",
     "text": [
      "EPOCH:\t149\n",
      "train_roc_mean:0.9698575648297427\n",
      "valid_roc_mean:0.8271039772755912\n",
      "\n"
     ]
    },
    {
     "name": "stdout",
     "output_type": "stream",
     "text": [
      "EPOCH:\t150\n",
      "train_roc_mean:0.9700544932015494\n",
      "valid_roc_mean:0.8277331504384963\n",
      "\n"
     ]
    },
    {
     "name": "stdout",
     "output_type": "stream",
     "text": [
      "EPOCH:\t151\n",
      "train_roc_mean:0.9699483569663389\n",
      "valid_roc_mean:0.8303558863187773\n",
      "\n"
     ]
    },
    {
     "name": "stdout",
     "output_type": "stream",
     "text": [
      "EPOCH:\t152\n",
      "train_roc_mean:0.970036457880854\n",
      "valid_roc_mean:0.8279486632943848\n",
      "\n"
     ]
    },
    {
     "name": "stdout",
     "output_type": "stream",
     "text": [
      "EPOCH:\t153\n",
      "train_roc_mean:0.9707620670426526\n",
      "valid_roc_mean:0.8292330909143425\n",
      "\n"
     ]
    },
    {
     "name": "stdout",
     "output_type": "stream",
     "text": [
      "EPOCH:\t154\n",
      "train_roc_mean:0.9705225470052363\n",
      "valid_roc_mean:0.82865363659886\n",
      "\n"
     ]
    },
    {
     "name": "stdout",
     "output_type": "stream",
     "text": [
      "EPOCH:\t155\n",
      "train_roc_mean:0.9711109631551671\n",
      "valid_roc_mean:0.8296432116100273\n",
      "\n"
     ]
    },
    {
     "name": "stdout",
     "output_type": "stream",
     "text": [
      "EPOCH:\t156\n",
      "train_roc_mean:0.9701984725688303\n",
      "valid_roc_mean:0.8305292740424467\n",
      "\n"
     ]
    },
    {
     "name": "stdout",
     "output_type": "stream",
     "text": [
      "EPOCH:\t157\n",
      "train_roc_mean:0.9712125111705505\n",
      "valid_roc_mean:0.8281020314592348\n",
      "\n"
     ]
    },
    {
     "name": "stdout",
     "output_type": "stream",
     "text": [
      "EPOCH:\t158\n",
      "train_roc_mean:0.9712671637288699\n",
      "valid_roc_mean:0.8298576115980753\n",
      "\n"
     ]
    },
    {
     "name": "stdout",
     "output_type": "stream",
     "text": [
      "EPOCH:\t159\n",
      "train_roc_mean:0.9715192508290028\n",
      "valid_roc_mean:0.829334302304977\n",
      "\n"
     ]
    },
    {
     "name": "stdout",
     "output_type": "stream",
     "text": [
      "EPOCH:\t160\n",
      "train_roc_mean:0.9714713587314852\n",
      "valid_roc_mean:0.8308858644596362\n",
      "\n"
     ]
    },
    {
     "name": "stdout",
     "output_type": "stream",
     "text": [
      "EPOCH:\t161\n",
      "train_roc_mean:0.9717275996660129\n",
      "valid_roc_mean:0.8303332322561032\n",
      "\n"
     ]
    },
    {
     "name": "stdout",
     "output_type": "stream",
     "text": [
      "EPOCH:\t162\n",
      "train_roc_mean:0.9717673723031636\n",
      "valid_roc_mean:0.8308533325821289\n",
      "\n"
     ]
    },
    {
     "name": "stdout",
     "output_type": "stream",
     "text": [
      "EPOCH:\t163\n",
      "train_roc_mean:0.9723333071943572\n",
      "valid_roc_mean:0.8324067583263668\n",
      "\n"
     ]
    },
    {
     "name": "stdout",
     "output_type": "stream",
     "text": [
      "EPOCH:\t164\n",
      "train_roc_mean:0.9716816226789813\n",
      "valid_roc_mean:0.8290706211365984\n",
      "\n"
     ]
    },
    {
     "name": "stdout",
     "output_type": "stream",
     "text": [
      "EPOCH:\t165\n",
      "train_roc_mean:0.9721844507998811\n",
      "valid_roc_mean:0.8312408926923404\n",
      "\n"
     ]
    },
    {
     "name": "stdout",
     "output_type": "stream",
     "text": [
      "EPOCH:\t166\n",
      "train_roc_mean:0.9725306061650894\n",
      "valid_roc_mean:0.8303551745771875\n",
      "\n"
     ]
    },
    {
     "name": "stdout",
     "output_type": "stream",
     "text": [
      "EPOCH:\t167\n",
      "train_roc_mean:0.9727213161008167\n",
      "valid_roc_mean:0.83190965778445\n",
      "\n"
     ]
    },
    {
     "name": "stdout",
     "output_type": "stream",
     "text": [
      "EPOCH:\t168\n",
      "train_roc_mean:0.9729333425451265\n",
      "valid_roc_mean:0.8320797836346758\n",
      "\n"
     ]
    },
    {
     "name": "stdout",
     "output_type": "stream",
     "text": [
      "EPOCH:\t169\n",
      "train_roc_mean:0.9729483086115099\n",
      "valid_roc_mean:0.83209233278262\n",
      "\n"
     ]
    },
    {
     "name": "stdout",
     "output_type": "stream",
     "text": [
      "EPOCH:\t170\n",
      "train_roc_mean:0.9729871553707009\n",
      "valid_roc_mean:0.8303577823049709\n",
      "\n"
     ]
    },
    {
     "name": "stdout",
     "output_type": "stream",
     "text": [
      "EPOCH:\t171\n",
      "train_roc_mean:0.9736558624108909\n",
      "valid_roc_mean:0.830142136781758\n",
      "\n"
     ]
    },
    {
     "name": "stdout",
     "output_type": "stream",
     "text": [
      "EPOCH:\t172\n",
      "train_roc_mean:0.9733781033365381\n",
      "valid_roc_mean:0.8324124908592989\n",
      "\n"
     ]
    },
    {
     "name": "stdout",
     "output_type": "stream",
     "text": [
      "EPOCH:\t173\n",
      "train_roc_mean:0.9730418197783872\n",
      "valid_roc_mean:0.8316606338152738\n",
      "\n"
     ]
    },
    {
     "name": "stdout",
     "output_type": "stream",
     "text": [
      "EPOCH:\t174\n",
      "train_roc_mean:0.9720723591889295\n",
      "valid_roc_mean:0.8329277526897014\n",
      "\n"
     ]
    },
    {
     "name": "stdout",
     "output_type": "stream",
     "text": [
      "EPOCH:\t175\n",
      "train_roc_mean:0.973473981761702\n",
      "valid_roc_mean:0.8334154639941392\n",
      "\n"
     ]
    },
    {
     "name": "stdout",
     "output_type": "stream",
     "text": [
      "EPOCH:\t176\n",
      "train_roc_mean:0.9737167464097627\n",
      "valid_roc_mean:0.8321759093797556\n",
      "\n"
     ]
    },
    {
     "name": "stdout",
     "output_type": "stream",
     "text": [
      "EPOCH:\t177\n",
      "train_roc_mean:0.9735424485328679\n",
      "valid_roc_mean:0.8317238394180774\n",
      "\n"
     ]
    },
    {
     "name": "stdout",
     "output_type": "stream",
     "text": [
      "EPOCH:\t178\n",
      "train_roc_mean:0.9740445042620417\n",
      "valid_roc_mean:0.8318030542661337\n",
      "\n"
     ]
    },
    {
     "name": "stdout",
     "output_type": "stream",
     "text": [
      "EPOCH:\t179\n",
      "train_roc_mean:0.9740612140692587\n",
      "valid_roc_mean:0.8313943921923722\n",
      "\n"
     ]
    },
    {
     "name": "stdout",
     "output_type": "stream",
     "text": [
      "EPOCH:\t180\n",
      "train_roc_mean:0.9746142304111289\n",
      "valid_roc_mean:0.8337564101448903\n",
      "\n"
     ]
    },
    {
     "name": "stdout",
     "output_type": "stream",
     "text": [
      "EPOCH:\t181\n",
      "train_roc_mean:0.9745398801955533\n",
      "valid_roc_mean:0.8325709136663502\n",
      "\n"
     ]
    },
    {
     "name": "stdout",
     "output_type": "stream",
     "text": [
      "EPOCH:\t182\n",
      "train_roc_mean:0.9745265064660109\n",
      "valid_roc_mean:0.8326896443191926\n",
      "\n"
     ]
    },
    {
     "name": "stdout",
     "output_type": "stream",
     "text": [
      "EPOCH:\t183\n",
      "train_roc_mean:0.9748069684914317\n",
      "valid_roc_mean:0.8328287235805636\n",
      "\n"
     ]
    },
    {
     "name": "stdout",
     "output_type": "stream",
     "text": [
      "EPOCH:\t184\n",
      "train_roc_mean:0.974651119093592\n",
      "valid_roc_mean:0.8325875338764118\n",
      "\n"
     ]
    },
    {
     "name": "stdout",
     "output_type": "stream",
     "text": [
      "EPOCH:\t185\n",
      "train_roc_mean:0.9744124097347704\n",
      "valid_roc_mean:0.8333663833421563\n",
      "\n"
     ]
    },
    {
     "name": "stdout",
     "output_type": "stream",
     "text": [
      "EPOCH:\t186\n",
      "train_roc_mean:0.975455452979269\n",
      "valid_roc_mean:0.8323906115666814\n",
      "\n"
     ]
    },
    {
     "name": "stdout",
     "output_type": "stream",
     "text": [
      "EPOCH:\t187\n",
      "train_roc_mean:0.9750757792503173\n",
      "valid_roc_mean:0.8330628135109954\n",
      "\n"
     ]
    },
    {
     "name": "stdout",
     "output_type": "stream",
     "text": [
      "EPOCH:\t188\n",
      "train_roc_mean:0.9754595555311762\n",
      "valid_roc_mean:0.8327674730624084\n",
      "\n"
     ]
    },
    {
     "name": "stdout",
     "output_type": "stream",
     "text": [
      "EPOCH:\t189\n",
      "train_roc_mean:0.9751211042983309\n",
      "valid_roc_mean:0.8310398963864023\n",
      "\n"
     ]
    },
    {
     "name": "stdout",
     "output_type": "stream",
     "text": [
      "EPOCH:\t190\n",
      "train_roc_mean:0.9758970510875103\n",
      "valid_roc_mean:0.8312966834457188\n",
      "\n"
     ]
    },
    {
     "name": "stdout",
     "output_type": "stream",
     "text": [
      "EPOCH:\t191\n",
      "train_roc_mean:0.9758095021615545\n",
      "valid_roc_mean:0.8312978454961024\n",
      "\n"
     ]
    }
   ],
   "source": [
    "best_param ={}\n",
    "best_param[\"roc_epoch\"] = 0\n",
    "best_param[\"loss_epoch\"] = 0\n",
    "best_param[\"valid_roc\"] = 0\n",
    "best_param[\"valid_loss\"] = 9e8\n",
    "\n",
    "for epoch in range(epochs):    \n",
    "    train_roc, train_loss = eval(model, train_df)\n",
    "    valid_roc, valid_loss = eval(model, valid_df)\n",
    "    train_roc_mean = np.array(train_roc).mean()\n",
    "    valid_roc_mean = np.array(valid_roc).mean()\n",
    "    \n",
    "#     tensorboard.add_scalars('ROC',{'train_roc':train_roc_mean,'valid_roc':valid_roc_mean},epoch)\n",
    "#     tensorboard.add_scalars('Losses',{'train_losses':train_loss,'valid_losses':valid_loss},epoch)\n",
    "\n",
    "    if valid_roc_mean > best_param[\"valid_roc\"]:\n",
    "        best_param[\"roc_epoch\"] = epoch\n",
    "        best_param[\"valid_roc\"] = valid_roc_mean\n",
    "        if valid_roc_mean > 0.75:\n",
    "             torch.save(model.state_dict(), 'saved_models/model_'+prefix_filename+'_'+start_time+'_'+str(epoch)+'.pt')             \n",
    "    if valid_loss < best_param[\"valid_loss\"]:\n",
    "        best_param[\"loss_epoch\"] = epoch\n",
    "        best_param[\"valid_loss\"] = valid_loss\n",
    "\n",
    "    print(\"EPOCH:\\t\"+str(epoch)+'\\n'\\\n",
    "#         +\"train_roc\"+\":\"+str(train_roc)+'\\n'\\\n",
    "#         +\"valid_roc\"+\":\"+str(valid_roc)+'\\n'\\\n",
    "        +\"train_roc_mean\"+\":\"+str(train_roc_mean)+'\\n'\\\n",
    "        +\"valid_roc_mean\"+\":\"+str(valid_roc_mean)+'\\n'\\\n",
    "        )\n",
    "    if (epoch - best_param[\"roc_epoch\"] >10) and (epoch - best_param[\"loss_epoch\"] >20):        \n",
    "        break\n",
    "        \n",
    "    train(model, train_df, optimizer, loss_function)\n"
   ]
  },
  {
   "cell_type": "markdown",
   "metadata": {},
   "source": [
    "The resulting roc list will be very long, because there are 617 tasks in this dataset."
   ]
  },
  {
   "cell_type": "code",
   "execution_count": 11,
   "metadata": {
    "execution": {
     "iopub.execute_input": "2024-07-09T02:30:40.058938Z",
     "iopub.status.busy": "2024-07-09T02:30:40.058302Z",
     "iopub.status.idle": "2024-07-09T02:30:50.245675Z",
     "shell.execute_reply": "2024-07-09T02:30:50.244940Z"
    },
    "scrolled": true
   },
   "outputs": [
    {
     "name": "stdout",
     "output_type": "stream",
     "text": [
      "best epoch:180\n",
      "test_roc:[0.9052149400986611, 0.6839160839160838, 0.8856589147286822, 0.6767676767676767, 0.8697257383966245, 0.9598173515981735, 0.9079352850539291, 0.9707903780068728, 0.8002364066193852, 0.842013888888889, 0.8525252525252526, 0.9136752136752136, 0.79, 0.8852657004830917, 0.7393617021276596, 0.9464285714285715, 0.7863777089783281, 0.7587412587412589, 0.9146341463414633, 0.9034749034749034, 0.8969072164948453, 0.8939393939393939, 0.9504950495049506, 0.9477848101265823, 0.902051282051282, 0.9464285714285715, 0.8943452380952381, 0.9397849462365593, 0.9208333333333334, 0.8850174216027875, 0.9134615384615384, 0.752, 0.9440000000000001, 0.798076923076923, 0.7933333333333333, 0.9166666666666667, 0.986111111111111, 0.9066666666666666, 0.74, 0.7115384615384616, 0.38461538461538464, 0.9642857142857143, 0.9876543209876544, 0.6428571428571428, 0.9821428571428572, 0.7566934404283802, 0.8725864261764366, 0.8998290111142776, 0.8531157270029673, 0.9100294985250738, 0.7485163204747775, 0.7364616193480548, 0.8078078078078079, 0.716012084592145, 0.8796909492273731, 0.9057807807807807, 0.8330860534124629, 0.8687199650502403, 0.8901148535294876, 0.6447761194029851, 0.943351548269581, 0.8963963963963963, 0.8622784810126582, 0.9206642066420665, 0.7198460222412318, 0.8145478374836174, 0.831857536402991, 0.7462979094076655, 0.5157790927021696, 0.9423935091277891, 0.6690340909090908, 0.779885468861847, 0.8353115727002967, 0.7581360946745562, 0.9985250737463126, 0.790993661827847, 0.8562943092546466, 0.7237237237237237, 0.8353841946951053, 0.8500986193293886, 0.8477341389728097, 0.7681779298545766, 0.923011120615911, 0.8218954248366012, 0.6815476190476191, 0.8991013071895424, 0.8578512396694215, 0.8511904761904762, 0.8464391691394659, 0.9498202026806146, 0.8239263803680982, 0.8759920634920635, 0.8806706114398423, 0.8039800995024876, 0.6650259775772491, 0.8762098828323994, 0.5510355029585798, 0.9755952380952381, 0.8923545966228894, 0.7994011976047904, 0.6547619047619047, 0.8938525242873069, 0.9550680206936195, 0.7295850066934404, 0.927594442032132, 0.5250737463126844, 0.5507462686567164, 0.6607250755287009, 0.5946745562130178, 0.6193862275449102, 0.9378614209004544, 0.9557522123893806, 0.6644144144144144, 0.5744225834046193, 0.7344213649851632, 0.5646766169154229, 0.8613095238095237, 0.6945273631840795, 0.757396449704142, 0.971976401179941, 0.9331306990881459, 0.717857142857143, 0.8017857142857143, 0.8563255966001962, 0.837810945273632, 0.9237943585077344, 0.7955271565495207, 0.7404980340760157, 0.8017307692307691, 0.797583081570997, 0.5773809523809523, 0.8456925552142752, 0.8323471400394478, 0.8663690476190475, 0.7232937685459941, 0.8952320406865861, 0.9783037475345168, 0.9221429784343691, 0.9599406528189911, 0.8048107255520505, 0.9110350727117194, 0.8876387443635102, 0.8647925033467202, 0.8535770440251572, 0.6330184966548603, 0.8355036516466858, 0.5353982300884956, 0.882330572925469, 0.9530582166543847, 0.8331645569620253, 0.8915165165165164, 0.8241590214067278, 0.9056047197640118, 0.8455945252352438, 0.8350746268656717, 0.7702169625246548, 0.8900468994267847, 0.5104166666666666, 0.863905325443787, 0.9652366863905325, 0.7905604719764011, 0.8476584022038568, 0.5160120845921451, 0.7697196016771489, 0.755192878338279, 0.8905267295597484, 0.8380664652567976, 0.7959940652818991, 0.665680473372781, 0.883442576232545, 0.8121301775147929, 0.9240896358543418, 0.5911035072711719, 0.7958459979736575, 0.5996055226824457, 0.9558359621451105, 0.8950626381724391, 0.8894658753709198, 0.5326747720364742, 0.8547400611620795, 0.53486646884273, 0.7512396694214876, 0.47197640117994105, 0.9087755809920223, 0.8554572271386431, 0.9392857142857143, 0.8177272727272727, 0.6193293885601577, 0.9426676492262344, 0.8879095612186242, 0.8842034805890228, 0.938701923076923, 0.9266598569969356, 0.9853658536585366, 0.9672399672399672, 0.9329692154915591, 0.9932631578947368, 0.940674603174603, 0.9871961805555556, 0.7596618357487923, 0.7917582417582416, 0.9601004464285715, 0.6847826086956521, 0.9783068783068783, 0.9272727272727272, 0.953781512605042, 0.98, 0.9491062562065541, 0.9612980769230769, 0.8556338028169014, 0.9409035409035409, 0.9731258840169731, 0.9258569299552906, 0.963040629095675, 0.9507042253521126, 0.9418803418803419, 0.949667616334283, 0.8897715988083416, 0.9768421052631578, 0.88, 0.7780387551379918, 0.9449485783424078, 0.9667053813395277, 0.9342436219906576, 0.9026610644257702, 0.9266129032258064, 0.7892857142857143, 0.9253472222222223, 0.9109445277361319, 0.8625629113433991, 0.7870503597122303, 0.9291251384274639, 0.908203125, 0.9402573529411764, 0.9059328649492584, 0.4940898345153664, 0.9043392504930967, 0.5598591549295775, 0.9599609375, 0.9542045454545454, 0.553191489361702, 0.9444444444444444, 0.7142857142857143, 0.9855462184873949, 0.9233193277310925, 0.8215126050420167, 0.9035022354694485, 0.9577639751552796, 0.8214285714285714, 0.959327731092437, 0.5211267605633803, 0.9568810636004312, 0.9116959064327486, 0.9542410714285713, 0.5354609929078014, 0.9416558018252933, 0.5070921985815603, 0.9245421245421246, 0.9916666666666667, 0.9322444041137325, 0.9574887387387387, 0.9537828426717315, 0.9514472455648926, 0.9657436483014559, 0.37323943661971826, 0.9877248073080217, 0.8732394366197183, 0.9126674107142857, 0.6973995271867612, 0.9752252252252251, 0.9463942307692308, 0.8444444444444444, 0.7365671641791045, 0.9757514523869664, 0.8360556563823351, 0.7591911764705883, 0.9232638888888888, 0.782608695652174, 0.9390909090909091, 0.9563636363636363, 0.9634090909090909, 0.9716346153846154, 0.9644802273265451, 0.9424460431654677, 0.9483617300131062, 0.46785714285714286, 0.9580602883355176, 0.9813151275601868, 0.966796875, 0.8373161764705882, 0.9344561688311689, 0.9598765432098766, 0.9543181818181817, 0.8522388059701493, 0.782608695652174, 0.9865263157894736, 0.9549486461251167, 0.9710550887021474, 0.9637426900584796, 0.9737015121630506, 0.8007246376811594, 0.9658653846153846, 0.9097167584579072, 0.9773409773409774, 0.9281418170307059, 0.9524035046175705, 0.7833333333333333, 0.8585526315789473, 0.7992277992277992, 0.8547008547008548, 0.5476190476190477, 0.6413043478260869, 0.7589285714285714, 0.8088888888888889, 0.8338870431893688, 0.9471544715447154, 0.8133333333333334, 0.7763157894736842, 0.85, 0.8908730158730159, 0.7678571428571429, 0.6607142857142857, 0.9768518518518519, 0.8333333333333334, 0.905, 0.8597285067873303, 0.928888888888889, 0.8863636363636364, 0.8823529411764707, 0.9241071428571428, 0.9768518518518519, 0.8535353535353536, 0.7731481481481481, 0.84, 0.7160493827160493, 0.6851851851851852, 0.7980769230769231, 0.7600000000000001, 0.8944099378881988, 0.9176470588235294, 0.7074074074074074, 0.7222222222222222, 0.6827956989247312, 0.6666666666666666, 0.9071969696969698, 0.8487394957983192, 0.6428571428571428, 0.5192307692307693, 0.8888888888888888, 1.0, 0.7541666666666667, 0.881578947368421, 0.78125, 0.765625, 0.5333333333333333, 1.0, 0.7142857142857143, 0.9444444444444444, 0.8571428571428572, 0.7361111111111112, 0.8125, 0.6, 0.625, 0.6875, 0.7666666666666667, 0.4523809523809524, 1.0, 0.7916666666666667, 0.875, 0.5, 1.0, 0.14285714285714285, 0.625, 0.6, 0.7083333333333333, 0.5194805194805194, 1.0, 0.2777777777777778, 0.5, 0.9, 0.4, 0.6666666666666666, 0.6666666666666667, 0.5555555555555556, 0.9523809523809524, 0.875, 0.9230769230769231, 0.45833333333333337, 0.5833333333333334, 0.8400000000000001, 0.5416666666666667, 0.7500000000000001, 0.875, 0.5952380952380952, 0.625, 0.72, 0.5714285714285714, 0.6666666666666666, 0.925, 0.78125, 0.7000000000000001, 0.9166666666666666, 0.9583333333333334, 0.8222222222222222, 1.0, 0.8253968253968254, 0.75, 0.47916666666666663, 0.9, 1.0, 0.8333333333333333, 0.7222222222222223, 1.0, 0.75, 1.0, 0.8333333333333334, 0.9, 0.7714285714285715, 0.9166666666666667, 0.9444444444444445, 0.7, 0.7222222222222223, 0.75, 0.761904761904762, 0.8, 0.703125, 0.9333333333333333, 0.8636363636363636, 0.6111111111111112, 0.9642857142857143, 1.0, 0.65, 0.7500000000000001, 0.8, 0.8, 1.0, 0.8214285714285714, 1.0, 0.8333333333333334, 0.75, 0.5, 0.49450549450549447, 0.5, 1.0, 0.9166666666666666, 0.9, 0.8571428571428571, 0.8, 0.6666666666666667, 0.875, 0.875, 0.6666666666666666, 0.375, 0.39999999999999997, 0.6223776223776223, 0.5568181818181819, 0.7374581939799332, 0.8977272727272727, 0.74, 0.8636363636363635, 0.7960526315789473, 0.8270639960918418, 0.8717948717948718, 0.65, 0.6477272727272727, 0.8142857142857143, 0.675, 0.7251461988304093, 0.8409090909090909, 0.9565217391304348, 0.8571428571428572, 0.7549019607843137, 0.8086770981507823, 0.9285714285714286, 0.8125, 0.5909090909090908, 0.6666666666666667, 0.6666666666666667, 0.7894736842105263, 0.8035714285714285, 0.9166666666666667, 0.6875, 0.8333333333333334, 0.9600000000000001, 0.64943032427695, 0.8518518518518519, 0.9501879699248121, 0.9632107023411371, 0.8372900984365952, 0.916469893742621, 0.8302721088435374, 0.8957946815089672, 0.7240865026099926, 0.8249475890985325, 0.7180124223602484, 0.871919014084507, 0.809369202226345, 0.857741935483871, 0.6962962962962963, 0.9782359679266895, 0.8607215892491966, 0.823141891891892, 0.5056657223796034, 0.9167725540025412, 0.909385776229984, 0.9199257546647562, 0.9356687898089173, 0.947594278283485, 0.9227594264741368, 0.9395867192941723, 0.8017730744971616, 0.9443545123431809, 0.9184128720280929, 0.8856849326995071, 0.8937250113720703, 0.8380102040816327, 0.9979591836734694, 0.7186224489795919, 0.99428208386277, 0.8866242038216561, 0.9955527318932654, 0.8360482654600301, 0.9124561403508771, 0.8154405658486298, 0.8967383522808625, 0.9230701754385965, 0.9760732984293193, 0.9178868053771727, 0.9884415584415585, 0.6334819277108433, 0.9358851299731631, 0.9768649669499528, 0.9708161157024793, 0.9589442815249267, 0.9429504900728827, 0.9530355097365406, 0.9456227906009566, 0.9243583612306712, 0.9762589928057553, 0.93446519524618, 0.9850706478272461, 0.9847083783675593, 0.8687716115866448, 0.9621081081081081, 0.9589571369975389, 0.9468209443665264, 0.9863, 0.9665225696189805, 0.8655823965558479, 0.9028498727735369, 0.9911511882690038, 0.9153691544955113, 0.9519856770833333, 0.9055330634278003, 0.944204282698301, 0.8712056737588653, 0.9351181862035697, 0.8946280991735537, 0.9523550295857989, 0.7041251778093883, 0.814866760168303, 0.9184815486993345, 0.9733061101028433, 0.9312762498306462, 0.9367977528089888, 0.9764930114358323, 0.9322851629015778, 0.8686244789693065, 0.6867977528089888, 0.9319834710743802, 0.9914285714285714, 0.8196564885496184, 0.9029502093997208, 0.9449439312354888, 0.9723814071951608, 0.968265162200282, 0.9588377723970944, 0.9725995095265044, 0.9921403962101636, 0.964675501851491, 0.9353099730458221, 0.963206742238242, 0.9751442521082999, 0.938106669449953, 0.8186971830985915, 0.8721779832748238, 0.7910769285548969, 0.8938605726553952, 0.8644439656016767, 0.8339660186744222, 0.9397279038635161, 0.9282405439864003, 0.8407271594286262, 0.8827491198530536, 0.9035940628806176, 0.9735884804850323, 0.8355818965517241, 0.8818473193473194, 0.940554821664465, 0.9220779220779222, 0.9178571428571428, 0.9618055555555556, 0.9690721649484536, 0.99, 0.922872340425532, 0.9790209790209791, 0.9010989010989011, 0.9770408163265306, 0.9546296296296296, 0.9774305555555555, 0.9938144329896906, 0.9310689310689311, 0.9897959183673469, 0.9461279461279462, 0.9809027777777777, 0.8164893617021276, 0.9429559204840104]\n",
      "test_roc_mean: 0.8358854013728878\n"
     ]
    }
   ],
   "source": [
    "# evaluate model\n",
    "best_model = Fingerprint(radius, T, num_atom_features,num_bond_features, fingerprint_dim, output_units_num, p_dropout)\n",
    "best_model_state_dict = torch.load('saved_models/model_'+prefix_filename+'_'+start_time+'_'+str(best_param[\"roc_epoch\"])+'.pt')\n",
    "best_model.load_state_dict(best_model_state_dict)     \n",
    "best_model.cuda()\n",
    "\n",
    "best_model_dict = best_model.state_dict()\n",
    "best_model_wts = copy.deepcopy(best_model_dict)\n",
    "\n",
    "model.load_state_dict(best_model_wts)\n",
    "(best_model.align[0].weight == model.align[0].weight).all()\n",
    "test_roc, test_losses = eval(model, test_df)\n",
    "\n",
    "print(\"best epoch:\"+str(best_param[\"roc_epoch\"])\n",
    "      +\"\\n\"+\"test_roc:\"+str(test_roc)\n",
    "      +\"\\n\"+\"test_roc_mean:\",str(np.array(test_roc).mean())\n",
    "     )"
   ]
  },
  {
   "cell_type": "code",
   "execution_count": null,
   "metadata": {},
   "outputs": [],
   "source": []
  }
 ],
 "metadata": {
  "kernelspec": {
   "display_name": "py37",
   "language": "python",
   "name": "py37"
  },
  "language_info": {
   "codemirror_mode": {
    "name": "ipython",
    "version": 3
   },
   "file_extension": ".py",
   "mimetype": "text/x-python",
   "name": "python",
   "nbconvert_exporter": "python",
   "pygments_lexer": "ipython3",
   "version": "3.7.16"
  }
 },
 "nbformat": 4,
 "nbformat_minor": 4
}
